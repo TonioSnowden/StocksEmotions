{
 "cells": [
  {
   "cell_type": "code",
   "execution_count": 1,
   "metadata": {},
   "outputs": [
    {
     "data": {
      "text/html": [
       "<div>\n",
       "<style scoped>\n",
       "    .dataframe tbody tr th:only-of-type {\n",
       "        vertical-align: middle;\n",
       "    }\n",
       "\n",
       "    .dataframe tbody tr th {\n",
       "        vertical-align: top;\n",
       "    }\n",
       "\n",
       "    .dataframe thead th {\n",
       "        text-align: right;\n",
       "    }\n",
       "</style>\n",
       "<table border=\"1\" class=\"dataframe\">\n",
       "  <thead>\n",
       "    <tr style=\"text-align: right;\">\n",
       "      <th></th>\n",
       "      <th>company</th>\n",
       "      <th>title</th>\n",
       "      <th>text</th>\n",
       "      <th>published</th>\n",
       "    </tr>\n",
       "  </thead>\n",
       "  <tbody>\n",
       "    <tr>\n",
       "      <th>0</th>\n",
       "      <td>MMM</td>\n",
       "      <td>3M Sees Growth as Economy Reopens</td>\n",
       "      <td>For 2021, 3M said it expects revenue excluding...</td>\n",
       "      <td>2021-01-27 00:00:00.000</td>\n",
       "    </tr>\n",
       "    <tr>\n",
       "      <th>1</th>\n",
       "      <td>MMM</td>\n",
       "      <td>Technology:  3M Sees  Growth as  Economy  Reop...</td>\n",
       "      <td>3M Co. said it expects sales across its pro...</td>\n",
       "      <td>2021-01-27 07:06:00.000</td>\n",
       "    </tr>\n",
       "    <tr>\n",
       "      <th>2</th>\n",
       "      <td>MMM</td>\n",
       "      <td>U.S. News: Millions Of Masks Seized Last Year</td>\n",
       "      <td>Other items intercepted included nearly 37,000...</td>\n",
       "      <td>2021-02-05 00:00:00.000</td>\n",
       "    </tr>\n",
       "    <tr>\n",
       "      <th>3</th>\n",
       "      <td>MMM</td>\n",
       "      <td>U.S. News:  Millions  Of Masks  Seized  Last Y...</td>\n",
       "      <td>WASHINGTON -- U.S. Customs agents seized ne...</td>\n",
       "      <td>2021-02-05 07:13:00.000</td>\n",
       "    </tr>\n",
       "    <tr>\n",
       "      <th>4</th>\n",
       "      <td>MMM</td>\n",
       "      <td>Counterfeit N95 Masks Seized From Warehouse</td>\n",
       "      <td>Authorities said the warehouse was \"an elabora...</td>\n",
       "      <td>2021-02-12 00:00:00.000</td>\n",
       "    </tr>\n",
       "  </tbody>\n",
       "</table>\n",
       "</div>"
      ],
      "text/plain": [
       "  company                                              title  \\\n",
       "0     MMM                  3M Sees Growth as Economy Reopens   \n",
       "1     MMM  Technology:  3M Sees  Growth as  Economy  Reop...   \n",
       "2     MMM      U.S. News: Millions Of Masks Seized Last Year   \n",
       "3     MMM  U.S. News:  Millions  Of Masks  Seized  Last Y...   \n",
       "4     MMM        Counterfeit N95 Masks Seized From Warehouse   \n",
       "\n",
       "                                                text                published  \n",
       "0  For 2021, 3M said it expects revenue excluding...  2021-01-27 00:00:00.000  \n",
       "1     3M Co. said it expects sales across its pro...  2021-01-27 07:06:00.000  \n",
       "2  Other items intercepted included nearly 37,000...  2021-02-05 00:00:00.000  \n",
       "3     WASHINGTON -- U.S. Customs agents seized ne...  2021-02-05 07:13:00.000  \n",
       "4  Authorities said the warehouse was \"an elabora...  2021-02-12 00:00:00.000  "
      ]
     },
     "execution_count": 1,
     "metadata": {},
     "output_type": "execute_result"
    }
   ],
   "source": [
    "import pandas as pd\n",
    "\n",
    "df = pd.read_csv('data/news.csv')\n",
    "df.head()"
   ]
  },
  {
   "cell_type": "code",
   "execution_count": 2,
   "metadata": {},
   "outputs": [
    {
     "name": "stdout",
     "output_type": "stream",
     "text": [
      "['MMM' 'AXP' 'AMGN' 'AAPL' 'BA' 'CAT' 'CVX' 'CSCO' 'KO' 'DOW' 'GS' 'HD'\n",
      " 'HON' 'INTC' 'IBM' 'JPM' 'JNJ' 'MCD' 'MRK' 'MSFT' 'NKE' 'PG' 'CRM' 'DIS'\n",
      " 'TRV' 'UNH' 'VZ' 'V' 'WBA' 'WMT']\n"
     ]
    }
   ],
   "source": [
    "#print distinct company\n",
    "print(df['company'].unique())"
   ]
  },
  {
   "cell_type": "code",
   "execution_count": 3,
   "metadata": {},
   "outputs": [
    {
     "name": "stdout",
     "output_type": "stream",
     "text": [
      "[*********************100%%**********************]  30 of 30 completed\n"
     ]
    }
   ],
   "source": [
    "import yfinance as yf\n",
    "\n",
    "stocks = ['MMM', 'AXP', 'AMGN', 'AAPL', 'BA', 'CAT', 'CVX', 'CSCO', 'KO', 'DOW', 'GS', 'HD', 'HON', 'INTC', 'IBM', 'JPM', 'JNJ', 'MCD', 'MRK', 'MSFT', 'NKE', 'PG', 'CRM', 'DIS', 'TRV', 'UNH', 'VZ', 'V', 'WBA', 'WMT']\n",
    "data = yf.download(stocks, start=\"2020-01-01\", end=\"2022-12-31\")"
   ]
  },
  {
   "cell_type": "code",
   "execution_count": 4,
   "metadata": {},
   "outputs": [],
   "source": [
    "#Create a new dataframe with only the closing prices\n",
    "df_close = data['Close']\n",
    "df_close = df_close.reset_index()\n",
    "df_close = df_close.rename(columns={'index':'Date'})\n",
    "#Select only AAPL\n",
    "df_AAPL = df_close[['Date','AAPL']]"
   ]
  },
  {
   "cell_type": "code",
   "execution_count": 5,
   "metadata": {},
   "outputs": [
    {
     "data": {
      "text/html": [
       "<div>\n",
       "<style scoped>\n",
       "    .dataframe tbody tr th:only-of-type {\n",
       "        vertical-align: middle;\n",
       "    }\n",
       "\n",
       "    .dataframe tbody tr th {\n",
       "        vertical-align: top;\n",
       "    }\n",
       "\n",
       "    .dataframe thead th {\n",
       "        text-align: right;\n",
       "    }\n",
       "</style>\n",
       "<table border=\"1\" class=\"dataframe\">\n",
       "  <thead>\n",
       "    <tr style=\"text-align: right;\">\n",
       "      <th></th>\n",
       "      <th>Date</th>\n",
       "      <th>AAPL</th>\n",
       "    </tr>\n",
       "  </thead>\n",
       "  <tbody>\n",
       "    <tr>\n",
       "      <th>0</th>\n",
       "      <td>2020-01-02</td>\n",
       "      <td>75.087502</td>\n",
       "    </tr>\n",
       "    <tr>\n",
       "      <th>1</th>\n",
       "      <td>2020-01-03</td>\n",
       "      <td>74.357498</td>\n",
       "    </tr>\n",
       "    <tr>\n",
       "      <th>2</th>\n",
       "      <td>2020-01-06</td>\n",
       "      <td>74.949997</td>\n",
       "    </tr>\n",
       "    <tr>\n",
       "      <th>3</th>\n",
       "      <td>2020-01-07</td>\n",
       "      <td>74.597504</td>\n",
       "    </tr>\n",
       "    <tr>\n",
       "      <th>4</th>\n",
       "      <td>2020-01-08</td>\n",
       "      <td>75.797501</td>\n",
       "    </tr>\n",
       "    <tr>\n",
       "      <th>...</th>\n",
       "      <td>...</td>\n",
       "      <td>...</td>\n",
       "    </tr>\n",
       "    <tr>\n",
       "      <th>751</th>\n",
       "      <td>2022-12-23</td>\n",
       "      <td>131.860001</td>\n",
       "    </tr>\n",
       "    <tr>\n",
       "      <th>752</th>\n",
       "      <td>2022-12-27</td>\n",
       "      <td>130.029999</td>\n",
       "    </tr>\n",
       "    <tr>\n",
       "      <th>753</th>\n",
       "      <td>2022-12-28</td>\n",
       "      <td>126.040001</td>\n",
       "    </tr>\n",
       "    <tr>\n",
       "      <th>754</th>\n",
       "      <td>2022-12-29</td>\n",
       "      <td>129.610001</td>\n",
       "    </tr>\n",
       "    <tr>\n",
       "      <th>755</th>\n",
       "      <td>2022-12-30</td>\n",
       "      <td>129.929993</td>\n",
       "    </tr>\n",
       "  </tbody>\n",
       "</table>\n",
       "<p>756 rows × 2 columns</p>\n",
       "</div>"
      ],
      "text/plain": [
       "          Date        AAPL\n",
       "0   2020-01-02   75.087502\n",
       "1   2020-01-03   74.357498\n",
       "2   2020-01-06   74.949997\n",
       "3   2020-01-07   74.597504\n",
       "4   2020-01-08   75.797501\n",
       "..         ...         ...\n",
       "751 2022-12-23  131.860001\n",
       "752 2022-12-27  130.029999\n",
       "753 2022-12-28  126.040001\n",
       "754 2022-12-29  129.610001\n",
       "755 2022-12-30  129.929993\n",
       "\n",
       "[756 rows x 2 columns]"
      ]
     },
     "execution_count": 5,
     "metadata": {},
     "output_type": "execute_result"
    }
   ],
   "source": [
    "df_AAPL"
   ]
  },
  {
   "cell_type": "code",
   "execution_count": 6,
   "metadata": {},
   "outputs": [],
   "source": [
    "AAPL_news = df[df['company'] == 'AAPL']"
   ]
  },
  {
   "cell_type": "code",
   "execution_count": 8,
   "metadata": {},
   "outputs": [],
   "source": [
    "#Take 15 lines at random\n",
    "AAPL_news = AAPL_news.sample(15)"
   ]
  },
  {
   "cell_type": "code",
   "execution_count": 9,
   "metadata": {},
   "outputs": [
    {
     "data": {
      "text/html": [
       "<div>\n",
       "<style scoped>\n",
       "    .dataframe tbody tr th:only-of-type {\n",
       "        vertical-align: middle;\n",
       "    }\n",
       "\n",
       "    .dataframe tbody tr th {\n",
       "        vertical-align: top;\n",
       "    }\n",
       "\n",
       "    .dataframe thead th {\n",
       "        text-align: right;\n",
       "    }\n",
       "</style>\n",
       "<table border=\"1\" class=\"dataframe\">\n",
       "  <thead>\n",
       "    <tr style=\"text-align: right;\">\n",
       "      <th></th>\n",
       "      <th>company</th>\n",
       "      <th>title</th>\n",
       "      <th>text</th>\n",
       "      <th>published</th>\n",
       "    </tr>\n",
       "  </thead>\n",
       "  <tbody>\n",
       "    <tr>\n",
       "      <th>11247</th>\n",
       "      <td>AAPL</td>\n",
       "      <td>Snap Posts First Profit as It Adjusts to Apple...</td>\n",
       "      <td>The social-media company's shares were hit har...</td>\n",
       "      <td>2022-02-03 21:12:00.000</td>\n",
       "    </tr>\n",
       "    <tr>\n",
       "      <th>21604</th>\n",
       "      <td>AAPL</td>\n",
       "      <td>China Turns to Well-Worn Playbook to Keep Prot...</td>\n",
       "      <td>The carrot-and-stick approach comes from a wel...</td>\n",
       "      <td>2022-12-02 12:39:00.000</td>\n",
       "    </tr>\n",
       "    <tr>\n",
       "      <th>21474</th>\n",
       "      <td>AAPL</td>\n",
       "      <td>Dow turns higher, S&amp;P 500 flat in afternoon tr...</td>\n",
       "      <td>How are stocks are trading* S&amp;amp;P 500 SPX de...</td>\n",
       "      <td>2022-11-29 19:19:00.000</td>\n",
       "    </tr>\n",
       "    <tr>\n",
       "      <th>10915</th>\n",
       "      <td>AAPL</td>\n",
       "      <td>Apple, Robinhood, Visa, Western Digital: What ...</td>\n",
       "      <td>* Robinhood Markets reported a bigger-than-exp...</td>\n",
       "      <td>2022-01-28 14:41:00.000</td>\n",
       "    </tr>\n",
       "    <tr>\n",
       "      <th>22005</th>\n",
       "      <td>AAPL</td>\n",
       "      <td>Oil has crashed more than 40% from its peak. H...</td>\n",
       "      <td>Ever the contrarian, Kevin Muir of The Macro T...</td>\n",
       "      <td>2022-12-13 13:34:00.000</td>\n",
       "    </tr>\n",
       "    <tr>\n",
       "      <th>3290</th>\n",
       "      <td>AAPL</td>\n",
       "      <td>Old media veterans defy critics to rally in st...</td>\n",
       "      <td>ViacomCBS and Discovery, decades-old televisio...</td>\n",
       "      <td>2021-03-16 14:30:27.698</td>\n",
       "    </tr>\n",
       "    <tr>\n",
       "      <th>12224</th>\n",
       "      <td>AAPL</td>\n",
       "      <td>‘Shareholders really want Apple to be accounta...</td>\n",
       "      <td>Apple investors on Friday voted to support an ...</td>\n",
       "      <td>2022-03-04 20:22:00.000</td>\n",
       "    </tr>\n",
       "    <tr>\n",
       "      <th>8355</th>\n",
       "      <td>AAPL</td>\n",
       "      <td>Beijing's Memory Control in Hong Kong; It's no...</td>\n",
       "      <td>Originally eight people were to be tried. But ...</td>\n",
       "      <td>2021-11-09 23:26:00.000</td>\n",
       "    </tr>\n",
       "    <tr>\n",
       "      <th>14010</th>\n",
       "      <td>AAPL</td>\n",
       "      <td>Facebook earnings beat sends Meta stock soarin...</td>\n",
       "      <td>Nonetheless, Meta's stock FB jumped more than ...</td>\n",
       "      <td>2022-04-27 20:34:00.000</td>\n",
       "    </tr>\n",
       "    <tr>\n",
       "      <th>12771</th>\n",
       "      <td>AAPL</td>\n",
       "      <td>REVIEW --- Moving Targets: Yuu ShouLd REELy Re...</td>\n",
       "      <td>I'm trying hard to figure out what's going on ...</td>\n",
       "      <td>2022-03-19 00:00:00.000</td>\n",
       "    </tr>\n",
       "    <tr>\n",
       "      <th>12056</th>\n",
       "      <td>AAPL</td>\n",
       "      <td>Direxion files to launch suite of single-stock...</td>\n",
       "      <td>Direxion is racing to catch up with a new leve...</td>\n",
       "      <td>2022-02-28 05:05:43.771</td>\n",
       "    </tr>\n",
       "    <tr>\n",
       "      <th>8660</th>\n",
       "      <td>AAPL</td>\n",
       "      <td>Best Work Gifts 2021: Work has changed, and so...</td>\n",
       "      <td>Actually, not boring . . . essential. Essentia...</td>\n",
       "      <td>2021-11-22 00:00:00.000</td>\n",
       "    </tr>\n",
       "    <tr>\n",
       "      <th>13961</th>\n",
       "      <td>AAPL</td>\n",
       "      <td>In Ukrainian Villages, Fears Grow for Men Take...</td>\n",
       "      <td>Only the wrecks of Russian tanks and army rati...</td>\n",
       "      <td>2022-04-26 14:06:00.000</td>\n",
       "    </tr>\n",
       "    <tr>\n",
       "      <th>21583</th>\n",
       "      <td>AAPL</td>\n",
       "      <td>Netflix stock rises as 'Wednesday' breaks reco...</td>\n",
       "      <td>\"Wednesday,\" what Netflix describes as a \"supe...</td>\n",
       "      <td>2022-12-01 17:00:00.000</td>\n",
       "    </tr>\n",
       "    <tr>\n",
       "      <th>6197</th>\n",
       "      <td>AAPL</td>\n",
       "      <td>How long might it take to resolve the Epic-App...</td>\n",
       "      <td>The appeal process began in earnest Sunday, wh...</td>\n",
       "      <td>2021-09-16 12:25:00.000</td>\n",
       "    </tr>\n",
       "  </tbody>\n",
       "</table>\n",
       "</div>"
      ],
      "text/plain": [
       "      company                                              title  \\\n",
       "11247    AAPL  Snap Posts First Profit as It Adjusts to Apple...   \n",
       "21604    AAPL  China Turns to Well-Worn Playbook to Keep Prot...   \n",
       "21474    AAPL  Dow turns higher, S&P 500 flat in afternoon tr...   \n",
       "10915    AAPL  Apple, Robinhood, Visa, Western Digital: What ...   \n",
       "22005    AAPL  Oil has crashed more than 40% from its peak. H...   \n",
       "3290     AAPL  Old media veterans defy critics to rally in st...   \n",
       "12224    AAPL  ‘Shareholders really want Apple to be accounta...   \n",
       "8355     AAPL  Beijing's Memory Control in Hong Kong; It's no...   \n",
       "14010    AAPL  Facebook earnings beat sends Meta stock soarin...   \n",
       "12771    AAPL  REVIEW --- Moving Targets: Yuu ShouLd REELy Re...   \n",
       "12056    AAPL  Direxion files to launch suite of single-stock...   \n",
       "8660     AAPL  Best Work Gifts 2021: Work has changed, and so...   \n",
       "13961    AAPL  In Ukrainian Villages, Fears Grow for Men Take...   \n",
       "21583    AAPL  Netflix stock rises as 'Wednesday' breaks reco...   \n",
       "6197     AAPL  How long might it take to resolve the Epic-App...   \n",
       "\n",
       "                                                    text  \\\n",
       "11247  The social-media company's shares were hit har...   \n",
       "21604  The carrot-and-stick approach comes from a wel...   \n",
       "21474  How are stocks are trading* S&amp;P 500 SPX de...   \n",
       "10915  * Robinhood Markets reported a bigger-than-exp...   \n",
       "22005  Ever the contrarian, Kevin Muir of The Macro T...   \n",
       "3290   ViacomCBS and Discovery, decades-old televisio...   \n",
       "12224  Apple investors on Friday voted to support an ...   \n",
       "8355   Originally eight people were to be tried. But ...   \n",
       "14010  Nonetheless, Meta's stock FB jumped more than ...   \n",
       "12771  I'm trying hard to figure out what's going on ...   \n",
       "12056  Direxion is racing to catch up with a new leve...   \n",
       "8660   Actually, not boring . . . essential. Essentia...   \n",
       "13961  Only the wrecks of Russian tanks and army rati...   \n",
       "21583  \"Wednesday,\" what Netflix describes as a \"supe...   \n",
       "6197   The appeal process began in earnest Sunday, wh...   \n",
       "\n",
       "                     published  \n",
       "11247  2022-02-03 21:12:00.000  \n",
       "21604  2022-12-02 12:39:00.000  \n",
       "21474  2022-11-29 19:19:00.000  \n",
       "10915  2022-01-28 14:41:00.000  \n",
       "22005  2022-12-13 13:34:00.000  \n",
       "3290   2021-03-16 14:30:27.698  \n",
       "12224  2022-03-04 20:22:00.000  \n",
       "8355   2021-11-09 23:26:00.000  \n",
       "14010  2022-04-27 20:34:00.000  \n",
       "12771  2022-03-19 00:00:00.000  \n",
       "12056  2022-02-28 05:05:43.771  \n",
       "8660   2021-11-22 00:00:00.000  \n",
       "13961  2022-04-26 14:06:00.000  \n",
       "21583  2022-12-01 17:00:00.000  \n",
       "6197   2021-09-16 12:25:00.000  "
      ]
     },
     "execution_count": 9,
     "metadata": {},
     "output_type": "execute_result"
    }
   ],
   "source": [
    "AAPL_news"
   ]
  },
  {
   "cell_type": "code",
   "execution_count": 10,
   "metadata": {},
   "outputs": [
    {
     "data": {
      "application/vnd.jupyter.widget-view+json": {
       "model_id": "88cf855847cb4534b1cb03649080dcda",
       "version_major": 2,
       "version_minor": 0
      },
      "text/plain": [
       "Downloading (…)okenizer_config.json:   0%|          | 0.00/464 [00:00<?, ?B/s]"
      ]
     },
     "metadata": {},
     "output_type": "display_data"
    },
    {
     "data": {
      "application/vnd.jupyter.widget-view+json": {
       "model_id": "575384da6b554e65942be88b5a6186ff",
       "version_major": 2,
       "version_minor": 0
      },
      "text/plain": [
       "Downloading (…)olve/main/vocab.json:   0%|          | 0.00/798k [00:00<?, ?B/s]"
      ]
     },
     "metadata": {},
     "output_type": "display_data"
    },
    {
     "data": {
      "application/vnd.jupyter.widget-view+json": {
       "model_id": "16ad91799d7d4ec392171d1159c07869",
       "version_major": 2,
       "version_minor": 0
      },
      "text/plain": [
       "Downloading (…)olve/main/merges.txt:   0%|          | 0.00/456k [00:00<?, ?B/s]"
      ]
     },
     "metadata": {},
     "output_type": "display_data"
    },
    {
     "data": {
      "application/vnd.jupyter.widget-view+json": {
       "model_id": "2dc0c5278acc426895fa818e7d6dcd83",
       "version_major": 2,
       "version_minor": 0
      },
      "text/plain": [
       "Downloading (…)/main/tokenizer.json:   0%|          | 0.00/2.11M [00:00<?, ?B/s]"
      ]
     },
     "metadata": {},
     "output_type": "display_data"
    },
    {
     "data": {
      "application/vnd.jupyter.widget-view+json": {
       "model_id": "c7c9666d3767413193dbb5e79e6d33ba",
       "version_major": 2,
       "version_minor": 0
      },
      "text/plain": [
       "Downloading (…)cial_tokens_map.json:   0%|          | 0.00/239 [00:00<?, ?B/s]"
      ]
     },
     "metadata": {},
     "output_type": "display_data"
    },
    {
     "data": {
      "application/vnd.jupyter.widget-view+json": {
       "model_id": "613aa799187b4c8aa8c0ea360f83dfbe",
       "version_major": 2,
       "version_minor": 0
      },
      "text/plain": [
       "Downloading (…)lve/main/config.json:   0%|          | 0.00/960 [00:00<?, ?B/s]"
      ]
     },
     "metadata": {},
     "output_type": "display_data"
    },
    {
     "data": {
      "application/vnd.jupyter.widget-view+json": {
       "model_id": "119a0f03ce6d4e188bc13283cc9bbbfa",
       "version_major": 2,
       "version_minor": 0
      },
      "text/plain": [
       "Downloading model.safetensors:   0%|          | 0.00/1.42G [00:00<?, ?B/s]"
      ]
     },
     "metadata": {},
     "output_type": "display_data"
    }
   ],
   "source": [
    "from transformers import AutoTokenizer, AutoModelForSequenceClassification\n",
    "\n",
    "tokenizer = AutoTokenizer.from_pretrained(\"Jean-Baptiste/roberta-large-financial-news-sentiment-en\")\n",
    "model = AutoModelForSequenceClassification.from_pretrained(\"Jean-Baptiste/roberta-large-financial-news-sentiment-en\")"
   ]
  },
  {
   "cell_type": "code",
   "execution_count": 11,
   "metadata": {},
   "outputs": [
    {
     "ename": "",
     "evalue": "",
     "output_type": "error",
     "traceback": [
      "\u001b[1;31mThe Kernel crashed while executing code in the the current cell or a previous cell. Please review the code in the cell(s) to identify a possible cause of the failure. Click <a href='https://aka.ms/vscodeJupyterKernelCrash'>here</a> for more info. View Jupyter <a href='command:jupyter.viewOutput'>log</a> for further details."
     ]
    }
   ],
   "source": [
    "text = AAPL_news['text'].tolist()\n",
    "sentiment = []\n",
    "from transformers import pipeline\n",
    "pipe = pipeline(\"text-classification\", model=model, tokenizer=tokenizer)\n",
    "for t in text:\n",
    "    sentiment.append(pipe(t)[0]['label'])"
   ]
  },
  {
   "cell_type": "code",
   "execution_count": null,
   "metadata": {},
   "outputs": [],
   "source": []
  }
 ],
 "metadata": {
  "kernelspec": {
   "display_name": "myenv",
   "language": "python",
   "name": "python3"
  },
  "language_info": {
   "codemirror_mode": {
    "name": "ipython",
    "version": 3
   },
   "file_extension": ".py",
   "mimetype": "text/x-python",
   "name": "python",
   "nbconvert_exporter": "python",
   "pygments_lexer": "ipython3",
   "version": "3.9.16"
  }
 },
 "nbformat": 4,
 "nbformat_minor": 2
}
