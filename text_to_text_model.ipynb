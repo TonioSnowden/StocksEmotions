{
  "nbformat": 4,
  "nbformat_minor": 0,
  "metadata": {
    "colab": {
      "provenance": []
    },
    "kernelspec": {
      "name": "python3",
      "display_name": "Python 3"
    },
    "language_info": {
      "name": "python"
    }
  },
  "cells": [
    {
      "cell_type": "code",
      "execution_count": 1,
      "metadata": {
        "id": "RA7hD_Kq86d4"
      },
      "outputs": [],
      "source": [
        "import pandas as pd\n",
        "from transformers import T5Tokenizer, T5ForConditionalGeneration"
      ]
    },
    {
      "cell_type": "code",
      "source": [
        "data = pd.read_csv(\"news_sentences.csv\")"
      ],
      "metadata": {
        "id": "ShTyp2XVK26G"
      },
      "execution_count": 2,
      "outputs": []
    },
    {
      "cell_type": "code",
      "source": [
        "def split_into_sentences(s):\n",
        "    # Remove the leading and trailing square brackets and single quotes\n",
        "    s = s[2:-2]\n",
        "\n",
        "    # Split the string into a list of sentences\n",
        "    sentences = s.split(\"', '\")\n",
        "\n",
        "    return sentences\n",
        "\n",
        "# Apply the function to the 'sentences' column\n",
        "data['sentences'] = data['sentences'].apply(split_into_sentences)"
      ],
      "metadata": {
        "id": "KNqJfsfQXnFK"
      },
      "execution_count": 28,
      "outputs": []
    },
    {
      "cell_type": "code",
      "source": [
        "company, sentences = data.iloc[0][0], data.iloc[0][3]"
      ],
      "metadata": {
        "id": "ECPmM6h1LAlJ"
      },
      "execution_count": 29,
      "outputs": []
    },
    {
      "cell_type": "code",
      "source": [
        "tokenizer = T5Tokenizer.from_pretrained(\"google/flan-t5-base\")\n",
        "model = T5ForConditionalGeneration.from_pretrained(\"google/flan-t5-base\")"
      ],
      "metadata": {
        "colab": {
          "base_uri": "https://localhost:8080/"
        },
        "id": "guI7cCAjLcsb",
        "outputId": "5f57db00-e9d8-41dd-a035-5b906b3c5c2b"
      },
      "execution_count": 13,
      "outputs": [
        {
          "output_type": "stream",
          "name": "stderr",
          "text": [
            "Special tokens have been added in the vocabulary, make sure the associated word embeddings are fine-tuned or trained.\n"
          ]
        }
      ]
    },
    {
      "cell_type": "code",
      "source": [
        "first_100 = data.head(100)"
      ],
      "metadata": {
        "id": "CUYwrsAjYwor"
      },
      "execution_count": 33,
      "outputs": []
    },
    {
      "cell_type": "code",
      "source": [
        "def generate_answer(row):\n",
        "    # Initialize an empty list to store the answers\n",
        "    answers = []\n",
        "\n",
        "    # Iterate over all sentences\n",
        "    for sentence in row['sentences']:\n",
        "        # Prepare the input text\n",
        "        input_text = f\"Based on this sentence can you tell me if the stock of {row['company']} is going to go up, down or no information : {sentence}\"\n",
        "\n",
        "        # Tokenize the input text\n",
        "        input_ids = tokenizer(input_text, return_tensors=\"pt\").input_ids\n",
        "\n",
        "        # Generate the output\n",
        "        outputs = model.generate(input_ids)\n",
        "\n",
        "        # Decode the output and add it to the list of answers\n",
        "        answers.append(tokenizer.decode(outputs[0]))\n",
        "\n",
        "    # Return the list of answers\n",
        "    return answers\n",
        "\n",
        "# Apply the function to each row in the dataframe\n",
        "first_100['T5_answer'] = first_100.apply(generate_answer, axis=1)"
      ],
      "metadata": {
        "colab": {
          "base_uri": "https://localhost:8080/"
        },
        "id": "yl6MT5lTYvs2",
        "outputId": "39985673-9e8a-46ac-9257-8f6dd3219d2d"
      },
      "execution_count": 34,
      "outputs": [
        {
          "output_type": "stream",
          "name": "stderr",
          "text": [
            "/usr/local/lib/python3.10/dist-packages/transformers/generation/utils.py:1273: UserWarning: Using the model-agnostic default `max_length` (=20) to control the generation length. We recommend setting `max_new_tokens` to control the maximum length of the generation.\n",
            "  warnings.warn(\n",
            "Token indices sequence length is longer than the specified maximum sequence length for this model (552 > 512). Running this sequence through the model will result in indexing errors\n",
            "<ipython-input-34-6b3f41fe7a08>:23: SettingWithCopyWarning: \n",
            "A value is trying to be set on a copy of a slice from a DataFrame.\n",
            "Try using .loc[row_indexer,col_indexer] = value instead\n",
            "\n",
            "See the caveats in the documentation: https://pandas.pydata.org/pandas-docs/stable/user_guide/indexing.html#returning-a-view-versus-a-copy\n",
            "  first_100['T5_answer'] = first_100.apply(generate_answer, axis=1)\n"
          ]
        }
      ]
    },
    {
      "cell_type": "code",
      "source": [
        "print(first_100[[\"sentences\", \"T5_answer\"]])"
      ],
      "metadata": {
        "colab": {
          "base_uri": "https://localhost:8080/"
        },
        "id": "1WubnekcZxVr",
        "outputId": "26ceda8a-fb21-4fff-af76-ff37d8687bb1"
      },
      "execution_count": 36,
      "outputs": [
        {
          "output_type": "stream",
          "name": "stdout",
          "text": [
            "                                            sentences  \\\n",
            "0   [for 2021, 3m said it expects revenue excludin...   \n",
            "1   [   3m co,    for 2021, 3m said it expects rev...   \n",
            "2   [such masks included fake products labeled as ...   \n",
            "3   [such masks included fake products labeled as ...   \n",
            "4   [this defendant allegedly sold false hope and ...   \n",
            "..                                                ...   \n",
            "95  [<a href=\"https://www.ft.com/stream/493e8999-5...   \n",
            "96  [3m said it would provide more funding if requ...   \n",
            "97  [    3m co, 3m said it would provide more fund...   \n",
            "98                                                 []   \n",
            "99                                                 []   \n",
            "\n",
            "                                            T5_answer  \n",
            "0   [<pad> no information</s>, <pad> no informatio...  \n",
            "1   [<pad> no information</s>, <pad> no informatio...  \n",
            "2                                      [<pad> no</s>]  \n",
            "3                          [<pad> no information</s>]  \n",
            "4   [<pad> no information</s>, <pad> no informatio...  \n",
            "..                                                ...  \n",
            "95  [<pad> No information</s>, <pad> 3m is a sham ...  \n",
            "96  [<pad> no information</s>, <pad> no informatio...  \n",
            "97  [<pad> no information</s>, <pad> no informatio...  \n",
            "98                                     [<pad> up</s>]  \n",
            "99                                     [<pad> up</s>]  \n",
            "\n",
            "[100 rows x 2 columns]\n"
          ]
        }
      ]
    },
    {
      "cell_type": "code",
      "source": [
        "# Convert the DataFrame to a single series\n",
        "flat_series = first_100.T5_answer.explode()\n",
        "\n",
        "# Count the frequency of each unique element\n",
        "counts = flat_series.value_counts()\n",
        "\n",
        "# Print the counts\n",
        "print(counts)"
      ],
      "metadata": {
        "colab": {
          "base_uri": "https://localhost:8080/"
        },
        "id": "PxfAMTTrafOn",
        "outputId": "47ef3e02-2450-4819-f45d-256e15f59d45"
      },
      "execution_count": 41,
      "outputs": [
        {
          "output_type": "stream",
          "name": "stdout",
          "text": [
            "<pad> no information</s>                                                   192\n",
            "<pad> down</s>                                                              11\n",
            "<pad> up</s>                                                                 9\n",
            "<pad> no</s>                                                                 6\n",
            "<pad> No information</s>                                                     3\n",
            "<pad> treasury note yield was up 1.2 basis points at 1.439%</s>              1\n",
            "<pad> stocks may be going up</s>                                             1\n",
            "<pad>wright said on his website that he is a \"stupid                         1\n",
            "<pad> stock in the world</s>                                                 1\n",
            "<pad> a treasury note yield rose 1.4 basis points to 1.437%</s>              1\n",
            "<pad> a treasury note yield was little changed at 1.424%</s>                 1\n",
            "<pad> a treasury note yield was up 4 basis points at 1.465</s>               1\n",
            "<pad>dow jones market data showed that the yield on the 10-year treasur      1\n",
            "<pad> pharma firm</s>                                                        1\n",
            "<pad> california.</s>                                                        1\n",
            "<pad> earplugs were designed to be worn by the military.</s>                 1\n",
            "<pad> 3m stock is going to go up</s>                                         1\n",
            "<pad> 3m is a sham and a sham.</s>                                           1\n",
            "Name: T5_answer, dtype: int64\n"
          ]
        }
      ]
    }
  ]
}