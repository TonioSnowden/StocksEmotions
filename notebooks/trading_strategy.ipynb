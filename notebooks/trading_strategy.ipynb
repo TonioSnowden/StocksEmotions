{
 "cells": [
  {
   "cell_type": "code",
   "execution_count": 11,
   "metadata": {},
   "outputs": [],
   "source": [
    "import pandas\n",
    "import numpy as np\n",
    "import yfinance as yf"
   ]
  },
  {
   "cell_type": "markdown",
   "metadata": {},
   "source": [
    "## MACD (Moving Average Convergence/Divergence) oscillators"
   ]
  },
  {
   "cell_type": "code",
   "execution_count": 17,
   "metadata": {},
   "outputs": [
    {
     "data": {
      "text/html": [
       "<div>\n",
       "<style scoped>\n",
       "    .dataframe tbody tr th:only-of-type {\n",
       "        vertical-align: middle;\n",
       "    }\n",
       "\n",
       "    .dataframe tbody tr th {\n",
       "        vertical-align: top;\n",
       "    }\n",
       "\n",
       "    .dataframe thead th {\n",
       "        text-align: right;\n",
       "    }\n",
       "</style>\n",
       "<table border=\"1\" class=\"dataframe\">\n",
       "  <thead>\n",
       "    <tr style=\"text-align: right;\">\n",
       "      <th></th>\n",
       "      <th>Open</th>\n",
       "      <th>High</th>\n",
       "      <th>Low</th>\n",
       "      <th>Close</th>\n",
       "      <th>Volume</th>\n",
       "      <th>Dividends</th>\n",
       "      <th>Stock Splits</th>\n",
       "    </tr>\n",
       "    <tr>\n",
       "      <th>Date</th>\n",
       "      <th></th>\n",
       "      <th></th>\n",
       "      <th></th>\n",
       "      <th></th>\n",
       "      <th></th>\n",
       "      <th></th>\n",
       "      <th></th>\n",
       "    </tr>\n",
       "  </thead>\n",
       "  <tbody>\n",
       "    <tr>\n",
       "      <th>2021-01-04 00:00:00-05:00</th>\n",
       "      <td>131.202835</td>\n",
       "      <td>131.291270</td>\n",
       "      <td>124.560150</td>\n",
       "      <td>127.164162</td>\n",
       "      <td>143301900</td>\n",
       "      <td>0.0</td>\n",
       "      <td>0.0</td>\n",
       "    </tr>\n",
       "    <tr>\n",
       "      <th>2021-01-05 00:00:00-05:00</th>\n",
       "      <td>126.653200</td>\n",
       "      <td>129.453747</td>\n",
       "      <td>126.201177</td>\n",
       "      <td>128.736404</td>\n",
       "      <td>97664900</td>\n",
       "      <td>0.0</td>\n",
       "      <td>0.0</td>\n",
       "    </tr>\n",
       "    <tr>\n",
       "      <th>2021-01-06 00:00:00-05:00</th>\n",
       "      <td>125.503489</td>\n",
       "      <td>128.775701</td>\n",
       "      <td>124.186740</td>\n",
       "      <td>124.402924</td>\n",
       "      <td>155088000</td>\n",
       "      <td>0.0</td>\n",
       "      <td>0.0</td>\n",
       "    </tr>\n",
       "    <tr>\n",
       "      <th>2021-01-07 00:00:00-05:00</th>\n",
       "      <td>126.132379</td>\n",
       "      <td>129.345634</td>\n",
       "      <td>125.641056</td>\n",
       "      <td>128.647949</td>\n",
       "      <td>109578200</td>\n",
       "      <td>0.0</td>\n",
       "      <td>0.0</td>\n",
       "    </tr>\n",
       "    <tr>\n",
       "      <th>2021-01-08 00:00:00-05:00</th>\n",
       "      <td>130.131742</td>\n",
       "      <td>130.328283</td>\n",
       "      <td>127.969924</td>\n",
       "      <td>129.758347</td>\n",
       "      <td>105158200</td>\n",
       "      <td>0.0</td>\n",
       "      <td>0.0</td>\n",
       "    </tr>\n",
       "  </tbody>\n",
       "</table>\n",
       "</div>"
      ],
      "text/plain": [
       "                                 Open        High         Low       Close  \\\n",
       "Date                                                                        \n",
       "2021-01-04 00:00:00-05:00  131.202835  131.291270  124.560150  127.164162   \n",
       "2021-01-05 00:00:00-05:00  126.653200  129.453747  126.201177  128.736404   \n",
       "2021-01-06 00:00:00-05:00  125.503489  128.775701  124.186740  124.402924   \n",
       "2021-01-07 00:00:00-05:00  126.132379  129.345634  125.641056  128.647949   \n",
       "2021-01-08 00:00:00-05:00  130.131742  130.328283  127.969924  129.758347   \n",
       "\n",
       "                              Volume  Dividends  Stock Splits  \n",
       "Date                                                           \n",
       "2021-01-04 00:00:00-05:00  143301900        0.0           0.0  \n",
       "2021-01-05 00:00:00-05:00   97664900        0.0           0.0  \n",
       "2021-01-06 00:00:00-05:00  155088000        0.0           0.0  \n",
       "2021-01-07 00:00:00-05:00  109578200        0.0           0.0  \n",
       "2021-01-08 00:00:00-05:00  105158200        0.0           0.0  "
      ]
     },
     "execution_count": 17,
     "metadata": {},
     "output_type": "execute_result"
    }
   ],
   "source": [
    "# Define the ticker symbol\n",
    "tickerSymbol = 'AAPL'\n",
    "\n",
    "# Get data on this ticker\n",
    "tickerData = yf.Ticker(tickerSymbol)\n",
    "\n",
    "# Get the historical prices for this ticker\n",
    "df = tickerData.history(period='1d', start='2021-1-1', end='2023-1-1')\n",
    "\n",
    "df.head()"
   ]
  },
  {
   "cell_type": "code",
   "execution_count": 18,
   "metadata": {},
   "outputs": [],
   "source": [
    "# Calculate Short Term Exponential Moving Average\n",
    "ShortEMA = df.Close.ewm(span=12, adjust=False).mean() \n",
    "# Calculate Long Term Exponential Moving Average\n",
    "LongEMA = df.Close.ewm(span=26, adjust=False).mean() \n",
    "# Calculate MACD line\n",
    "MACD = ShortEMA - LongEMA\n",
    "# Calculate Signal line\n",
    "signal = MACD.ewm(span=9, adjust=False).mean()"
   ]
  },
  {
   "cell_type": "code",
   "execution_count": 19,
   "metadata": {},
   "outputs": [],
   "source": [
    "df['MACD'] = MACD\n",
    "df['Signal Line'] = signal"
   ]
  },
  {
   "cell_type": "code",
   "execution_count": 21,
   "metadata": {},
   "outputs": [],
   "source": [
    "def buy_sell(signal):\n",
    "    Buy = []\n",
    "    Sell = []\n",
    "    flag = -1\n",
    "\n",
    "    for i in range(0, len(signal)):\n",
    "        if signal['MACD'][i] > signal['Signal Line'][i]:\n",
    "            Sell.append(np.nan)\n",
    "            if flag != 1:\n",
    "                Buy.append(signal['Close'][i])\n",
    "                flag = 1\n",
    "            else:\n",
    "                Buy.append(np.nan)\n",
    "        elif signal['MACD'][i] < signal['Signal Line'][i]:\n",
    "            Buy.append(np.nan)\n",
    "            if flag != 0:\n",
    "                Sell.append(signal['Close'][i])\n",
    "                flag = 0\n",
    "            else:\n",
    "                Sell.append(np.nan)\n",
    "        else:\n",
    "            Buy.append(np.nan)\n",
    "            Sell.append(np.nan)\n",
    "\n",
    "    return (Buy, Sell)"
   ]
  },
  {
   "cell_type": "code",
   "execution_count": 31,
   "metadata": {},
   "outputs": [],
   "source": [
    "a = buy_sell(df)\n",
    "buy_signal = a[0]\n",
    "sell_signal = a[1]\n",
    "buy_signal = [x for x in buy_signal if x is not np.nan]\n",
    "sell_signal = [x for x in sell_signal if x is not np.nan]"
   ]
  },
  {
   "cell_type": "code",
   "execution_count": 32,
   "metadata": {},
   "outputs": [
    {
     "name": "stdout",
     "output_type": "stream",
     "text": [
      "[128.7364044189453, 128.64794921875, 128.61843872070312, 129.7386932373047, 122.02027893066406, 124.11040496826172, 148.27694702148438, 149.89605712890625, 141.9288330078125, 151.7560577392578, 172.6374969482422, 162.33413696289062, 148.35572814941406, 137.0832977294922, 141.38389587402344, 148.86790466308594]\n",
      "[124.40292358398438, 126.56475830078125, 126.6728286743164, 132.64730834960938, 131.3594970703125, 143.3331756591797, 144.49575805664062, 147.07249450683594, 146.24900817871094, 169.20668029785156, 167.18495178222656, 168.38278198242188, 130.74813842773438, 166.3625946044922, 137.61082458496094, 140.38531494140625]\n"
     ]
    }
   ],
   "source": [
    "print(buy_signal)\n",
    "print(sell_signal)"
   ]
  },
  {
   "cell_type": "code",
   "execution_count": 35,
   "metadata": {},
   "outputs": [
    {
     "name": "stdout",
     "output_type": "stream",
     "text": [
      "[-4.3334808349609375, -2.08319091796875, -1.9456100463867188, 2.9086151123046875, 9.339218139648438, 19.22277069091797, -3.78118896484375, -2.8235626220703125, 4.3201751708984375, 17.45062255859375, -5.452545166015625, 6.04864501953125, -17.607589721679688, 29.279296875, -3.7730712890625, -8.482589721679688]\n"
     ]
    }
   ],
   "source": [
    "# Assume we buy and sell at the close of the day\n",
    "stock_Return = []\n",
    "for i in range(0, len(buy_signal)):\n",
    "    stock_Return.append(sell_signal[i] - buy_signal[i])\n",
    "    \n",
    "print(stock_Return)"
   ]
  },
  {
   "cell_type": "code",
   "execution_count": 37,
   "metadata": {},
   "outputs": [
    {
     "name": "stdout",
     "output_type": "stream",
     "text": [
      "Cumulative Return :  38.28651428222656\n"
     ]
    }
   ],
   "source": [
    "print(\"Cumulative Return : \", np.sum(stock_Return))"
   ]
  },
  {
   "cell_type": "markdown",
   "metadata": {},
   "source": [
    "## RSI (Relative Strength Index)  "
   ]
  },
  {
   "cell_type": "code",
   "execution_count": 38,
   "metadata": {},
   "outputs": [],
   "source": [
    "def calculate_RSI(data, time_window):\n",
    "    diff = data.diff(1).dropna()        # diff in one field(one day)\n",
    "\n",
    "    #this preservers dimensions off diff values\n",
    "    up_chg = 0 * diff\n",
    "    down_chg = 0 * diff\n",
    "    \n",
    "    # up change is equal to the positive difference, otherwise equal to zero\n",
    "    up_chg[diff > 0] = diff[ diff>0 ]\n",
    "    \n",
    "    # down change is equal to negative deifference, otherwise equal to zero\n",
    "    down_chg[diff < 0] = diff[ diff < 0 ]\n",
    "\n",
    "    # we set com=time_window-1 so we get decay alpha=1/time_window\n",
    "    up_chg_avg   = up_chg.ewm(com=time_window-1 , min_periods=time_window).mean()\n",
    "    down_chg_avg = down_chg.ewm(com=time_window-1 , min_periods=time_window).mean()\n",
    "    \n",
    "    rs = abs(up_chg_avg/down_chg_avg)\n",
    "    rsi = 100 - 100/(1+rs)\n",
    "    return rsi\n",
    "\n",
    "df['RSI'] = calculate_RSI(df['Close'], 14)"
   ]
  },
  {
   "cell_type": "code",
   "execution_count": 39,
   "metadata": {},
   "outputs": [],
   "source": [
    "def buy_sell_RSI(signal, upper=70, lower=30):\n",
    "    Buy = []\n",
    "    Sell = []\n",
    "\n",
    "    for i in range(0, len(signal)):\n",
    "        if signal['RSI'][i] > upper:\n",
    "            Sell.append(signal['Close'][i])\n",
    "            Buy.append(np.nan)\n",
    "        elif signal['RSI'][i] < lower:\n",
    "            Buy.append(signal['Close'][i])\n",
    "            Sell.append(np.nan)\n",
    "        else:\n",
    "            Buy.append(np.nan)\n",
    "            Sell.append(np.nan)\n",
    "\n",
    "    return (Buy, Sell)"
   ]
  },
  {
   "cell_type": "code",
   "execution_count": 42,
   "metadata": {},
   "outputs": [],
   "source": [
    "a = buy_sell_RSI(df)\n",
    "buy_signal = a[0]\n",
    "sell_signal = a[1]\n",
    "buy_signal = [x for x in buy_signal if x is not np.nan]\n",
    "sell_signal = [x for x in sell_signal if x is not np.nan]"
   ]
  },
  {
   "cell_type": "code",
   "execution_count": 43,
   "metadata": {},
   "outputs": [
    {
     "name": "stdout",
     "output_type": "stream",
     "text": [
      "[21.371788024902344, 21.341880798339844, 2.3903961181640625, 9.67376708984375]\n"
     ]
    }
   ],
   "source": [
    "# Assume we buy and sell at the close of the day\n",
    "stock_Return = []\n",
    "for i in range(0, len(buy_signal)):\n",
    "    stock_Return.append(sell_signal[i] - buy_signal[i])\n",
    "    \n",
    "print(stock_Return)"
   ]
  },
  {
   "cell_type": "code",
   "execution_count": 44,
   "metadata": {},
   "outputs": [
    {
     "name": "stdout",
     "output_type": "stream",
     "text": [
      "Cumulative Return :  54.77783203125\n"
     ]
    }
   ],
   "source": [
    "print(\"Cumulative Return : \", np.sum(stock_Return))"
   ]
  }
 ],
 "metadata": {
  "kernelspec": {
   "display_name": "ada",
   "language": "python",
   "name": "python3"
  },
  "language_info": {
   "codemirror_mode": {
    "name": "ipython",
    "version": 3
   },
   "file_extension": ".py",
   "mimetype": "text/x-python",
   "name": "python",
   "nbconvert_exporter": "python",
   "pygments_lexer": "ipython3",
   "version": "3.9.16"
  },
  "orig_nbformat": 4
 },
 "nbformat": 4,
 "nbformat_minor": 2
}
