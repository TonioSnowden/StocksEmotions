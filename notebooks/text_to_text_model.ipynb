{
  "cells": [
    {
      "cell_type": "code",
      "execution_count": null,
      "metadata": {
        "id": "RA7hD_Kq86d4"
      },
      "outputs": [],
      "source": [
        "import pandas as pd\n",
        "from transformers import T5Tokenizer, T5ForConditionalGeneration"
      ]
    },
    {
      "cell_type": "code",
      "execution_count": null,
      "metadata": {
        "id": "ShTyp2XVK26G"
      },
      "outputs": [],
      "source": [
        "data = pd.read_csv(\"news_sentences.csv\")"
      ]
    },
    {
      "cell_type": "code",
      "execution_count": null,
      "metadata": {
        "id": "KNqJfsfQXnFK"
      },
      "outputs": [],
      "source": [
        "def split_into_sentences(s):\n",
        "    # Remove the leading and trailing square brackets and single quotes\n",
        "    s = s[2:-2]\n",
        "\n",
        "    # Split the string into a list of sentences\n",
        "    sentences = s.split(\"', '\")\n",
        "\n",
        "    return sentences\n",
        "\n",
        "# Apply the function to the 'sentences' column\n",
        "data['sentences'] = data['sentences'].apply(split_into_sentences)"
      ]
    },
    {
      "cell_type": "code",
      "execution_count": null,
      "metadata": {
        "id": "ECPmM6h1LAlJ"
      },
      "outputs": [],
      "source": [
        "company, sentences = data.iloc[0][0], data.iloc[0][3]"
      ]
    },
    {
      "cell_type": "code",
      "execution_count": null,
      "metadata": {
        "colab": {
          "base_uri": "https://localhost:8080/"
        },
        "id": "guI7cCAjLcsb",
        "outputId": "5f57db00-e9d8-41dd-a035-5b906b3c5c2b"
      },
      "outputs": [],
      "source": [
        "tokenizer = T5Tokenizer.from_pretrained(\"google/flan-t5-base\")\n",
        "model = T5ForConditionalGeneration.from_pretrained(\"google/flan-t5-base\")"
      ]
    },
    {
      "cell_type": "code",
      "execution_count": null,
      "metadata": {
        "id": "CUYwrsAjYwor"
      },
      "outputs": [],
      "source": [
        "first_100 = data.head(100)"
      ]
    },
    {
      "cell_type": "code",
      "execution_count": null,
      "metadata": {
        "colab": {
          "base_uri": "https://localhost:8080/"
        },
        "id": "yl6MT5lTYvs2",
        "outputId": "39985673-9e8a-46ac-9257-8f6dd3219d2d"
      },
      "outputs": [],
      "source": [
        "def generate_answer(row):\n",
        "    # Initialize an empty list to store the answers\n",
        "    answers = []\n",
        "\n",
        "    # Iterate over all sentences\n",
        "    for sentence in row['sentences']:\n",
        "        # Prepare the input text\n",
        "        input_text = f\"Based on this sentence can you tell me if the stock of {row['company']} is going to go up, down or no information : {sentence}\"\n",
        "\n",
        "        # Tokenize the input text\n",
        "        input_ids = tokenizer(input_text, return_tensors=\"pt\").input_ids\n",
        "\n",
        "        # Generate the output\n",
        "        outputs = model.generate(input_ids)\n",
        "\n",
        "        # Decode the output and add it to the list of answers\n",
        "        answers.append(tokenizer.decode(outputs[0]))\n",
        "\n",
        "    # Return the list of answers\n",
        "    return answers\n",
        "\n",
        "# Apply the function to each row in the dataframe\n",
        "first_100['T5_answer'] = first_100.apply(generate_answer, axis=1)"
      ]
    },
    {
      "cell_type": "code",
      "execution_count": null,
      "metadata": {
        "colab": {
          "base_uri": "https://localhost:8080/"
        },
        "id": "1WubnekcZxVr",
        "outputId": "26ceda8a-fb21-4fff-af76-ff37d8687bb1"
      },
      "outputs": [],
      "source": [
        "print(first_100[[\"sentences\", \"T5_answer\"]])"
      ]
    },
    {
      "cell_type": "code",
      "execution_count": null,
      "metadata": {
        "colab": {
          "base_uri": "https://localhost:8080/"
        },
        "id": "PxfAMTTrafOn",
        "outputId": "47ef3e02-2450-4819-f45d-256e15f59d45"
      },
      "outputs": [],
      "source": [
        "# Convert the DataFrame to a single series\n",
        "flat_series = first_100.T5_answer.explode()\n",
        "\n",
        "# Count the frequency of each unique element\n",
        "counts = flat_series.value_counts()\n",
        "\n",
        "# Print the counts\n",
        "print(counts)"
      ]
    }
  ],
  "metadata": {
    "colab": {
      "provenance": []
    },
    "kernelspec": {
      "display_name": "Python 3",
      "name": "python3"
    },
    "language_info": {
      "name": "python",
      "version": "3.9.16"
    }
  },
  "nbformat": 4,
  "nbformat_minor": 0
}
