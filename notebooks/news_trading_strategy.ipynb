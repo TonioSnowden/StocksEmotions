{
 "cells": [
  {
   "cell_type": "code",
   "execution_count": null,
   "metadata": {},
   "outputs": [],
   "source": [
    "import pandas as pd\n",
    "import numpy as np\n",
    "import yfinance as yf\n",
    "import itertools"
   ]
  },
  {
   "cell_type": "markdown",
   "metadata": {},
   "source": [
    "# Useful tool"
   ]
  },
  {
   "cell_type": "code",
   "execution_count": null,
   "metadata": {},
   "outputs": [],
   "source": [
    "def get_stock(ticker):\n",
    "    # Get data on this ticker\n",
    "    tickerData = yf.Ticker(ticker)\n",
    "\n",
    "    # Get the historical prices for this ticker\n",
    "    stocks = tickerData.history(period='1d', start='2021-1-1', end='2023-1-1')\n",
    "\n",
    "    stocks.reset_index(inplace=True)\n",
    "    stocks.Date = pd.to_datetime(stocks.Date).dt.date\n",
    "    return stocks"
   ]
  },
  {
   "cell_type": "code",
   "execution_count": null,
   "metadata": {},
   "outputs": [],
   "source": [
    "stocks = get_stock('MSFT')"
   ]
  },
  {
   "cell_type": "code",
   "execution_count": null,
   "metadata": {},
   "outputs": [],
   "source": [
    "def cumulative_reward_long(df, func):\n",
    "    a = func(df)\n",
    "    buy_signal = a[0]\n",
    "    sell_signal = a[1]\n",
    "    buy_signal = [x for x in buy_signal if x is not np.nan]\n",
    "    sell_signal = [x for x in sell_signal if x is not np.nan]\n",
    "\n",
    "    # Assume we buy and sell at the close of the day\n",
    "    stock_Return = []\n",
    "    for i in range(0, len(sell_signal)):\n",
    "        stock_Return.append(sell_signal[i] - buy_signal[i])\n",
    "    \n",
    "    return np.sum(stock_Return)"
   ]
  },
  {
   "cell_type": "code",
   "execution_count": null,
   "metadata": {},
   "outputs": [],
   "source": [
    "def cumulative_reward_short(df, func):\n",
    "    a = func(df)\n",
    "    short_signal = a[0]\n",
    "    sell_signal = a[1]\n",
    "    short_signal = [x for x in short_signal if x is not np.nan]\n",
    "    sell_signal = [x for x in sell_signal if x is not np.nan]\n",
    "\n",
    "    # Assume we sell and then buy at the close of the day\n",
    "    stock_Return = []\n",
    "    for i in range(0, len(sell_signal)):\n",
    "        stock_Return.append(short_signal[i] - sell_signal[i])\n",
    "    \n",
    "    return np.sum(stock_Return)"
   ]
  },
  {
   "cell_type": "code",
   "execution_count": null,
   "metadata": {},
   "outputs": [],
   "source": [
    "def split_into_array(s):\n",
    "    # Remove the leading and trailing square brackets and single quotes\n",
    "    s = s[1:-1]\n",
    "\n",
    "    # Split the string into a list of sentences\n",
    "    integers = s.split(\", \")\n",
    "\n",
    "    return integers\n",
    "\n",
    "def merge_arrays(series):\n",
    "    return list(itertools.chain(*series.tolist()))\n",
    "\n",
    "def prepare_dataset(path, columns):\n",
    "    df = pandas.read_csv(path)\n",
    "    \n",
    "    df['Predictions'] = df['Predictions'].apply(split_into_array).apply(np.array).apply(lambda x: x.astype(int))\n",
    "    df['Positive'] = df['Positive'].apply(split_into_array).apply(np.array).apply(lambda x: x.astype(float))\n",
    "    df['Negative'] = df['Negative'].apply(split_into_array).apply(np.array).apply(lambda x: x.astype(float))\n",
    "    df['Neutral'] = df['Neutral'].apply(split_into_array).apply(np.array).apply(lambda x: x.astype(float))\n",
    "    df['published'] = pd.to_datetime(df['published']).dt.date\n",
    "    \n",
    "    columns_df = columns.copy()\n",
    "    columns_df.insert(0, 'published')\n",
    "    \n",
    "    input = df[columns_df]\n",
    "    input = input.copy()\n",
    "    input.rename(columns={'published': 'Date'}, inplace=True)\n",
    "    \n",
    "    grouped_df = input.groupby('Date')[columns].agg(merge_arrays)    \n",
    "    grouped_df = pd.merge(grouped_df, stocks[['Date', 'Close']], on='Date', how='left')\n",
    "\n",
    "    grouped_df = grouped_df.dropna()\n",
    "    grouped_df = grouped_df.reset_index(drop=True)\n",
    "\n",
    "    return grouped_df"
   ]
  },
  {
   "cell_type": "markdown",
   "metadata": {},
   "source": [
    "# Simple positive negative strategys"
   ]
  },
  {
   "cell_type": "code",
   "execution_count": null,
   "metadata": {},
   "outputs": [],
   "source": [
    "def buy_sell_sentiment(signal):\n",
    "    Buy = [np.nan for i in range(0, len(signal))]\n",
    "    Sell = [np.nan for i in range(0, len(signal))]\n",
    "    flag = 0\n",
    "\n",
    "    for i in range(0, len(signal)):\n",
    "        if signal['Predictions'][i] == 0:  # Positive sentiment\n",
    "            if flag != 1:\n",
    "                Buy[i] = signal['Close'][i]\n",
    "                flag = 1\n",
    "        elif signal['Predictions'][i] == 1:  # Negative sentiment\n",
    "            if flag != 0:\n",
    "                Sell[i] = signal['Close'][i]\n",
    "                flag = 0\n",
    "    return (Buy, Sell)"
   ]
  },
  {
   "cell_type": "code",
   "execution_count": null,
   "metadata": {},
   "outputs": [],
   "source": [
    "def short_sell_sentiment(signal):\n",
    "    Short = [np.nan for i in range(0, len(signal))]\n",
    "    Sell = [np.nan for i in range(0, len(signal))]\n",
    "    flag = 0\n",
    "\n",
    "    for i in range(0, len(signal)):\n",
    "        if signal['Predictions'][i] == 1:  # Negative sentiment\n",
    "            if flag != 1:\n",
    "                Short[i] = signal['Close'][i]\n",
    "                flag = 1\n",
    "        elif signal['Predictions'][i] == 0:  # Positive sentiment\n",
    "            if flag != 0:\n",
    "                Sell[i] = signal['Close'][i]\n",
    "                flag = 0\n",
    "    return (Short, Sell)"
   ]
  },
  {
   "cell_type": "markdown",
   "metadata": {},
   "source": [
    "Simple first implementation we look at the sentiment of the news and if it is positive we buy and if it is negative we sell. We will use the sentiment of the news from the previous day to make our decision, by mean of the sentences in a same day."
   ]
  },
  {
   "cell_type": "code",
   "execution_count": null,
   "metadata": {},
   "outputs": [],
   "source": [
    "simple_news_dataset = prepare_dataset(\"/Users/tony/Desktop/Antoine/Semestre/9.Financial ML/ProjectFinancialNews/data/msft_roberta_output.csv\", ['Predictions'])"
   ]
  },
  {
   "cell_type": "code",
   "execution_count": null,
   "metadata": {},
   "outputs": [],
   "source": [
    "simple_news_dataset"
   ]
  },
  {
   "cell_type": "code",
   "execution_count": null,
   "metadata": {},
   "outputs": [],
   "source": [
    "from collections import Counter\n",
    "\n",
    "def take_max_count_prediction(lst):\n",
    "    counts = Counter(lst)\n",
    "    max_count = max(counts.values())\n",
    "    modes = [k for k, v in counts.items() if v == max_count]\n",
    "    \n",
    "    if len(modes) == 1:\n",
    "        return modes[0]\n",
    "    elif len(modes) == 3:\n",
    "        return 2\n",
    "    elif 0 in modes and 1 in modes:\n",
    "        return 2\n",
    "    elif 0 in modes and 2 in modes:\n",
    "        return 0\n",
    "    elif 1 in modes and 2 in modes:\n",
    "        return 1\n",
    "    else:\n",
    "        return 2\n",
    "\n",
    "simple_news_dataset['Predictions'] = simple_news_dataset['Predictions'].apply(take_max_count_prediction)"
   ]
  },
  {
   "cell_type": "code",
   "execution_count": null,
   "metadata": {},
   "outputs": [],
   "source": [
    "simple_news_dataset.head()"
   ]
  },
  {
   "cell_type": "code",
   "execution_count": null,
   "metadata": {},
   "outputs": [],
   "source": [
    "print(\"Long Cumulative Return : \", cumulative_reward_long(simple_news_dataset, buy_sell_sentiment))\n",
    "print(\"Short Cumulative Return : \", cumulative_reward_short(simple_news_dataset, short_sell_sentiment))"
   ]
  },
  {
   "cell_type": "markdown",
   "metadata": {},
   "source": [
    "Now we take the maximum of the different sentences per day between positive and Negative"
   ]
  },
  {
   "cell_type": "code",
   "execution_count": null,
   "metadata": {},
   "outputs": [],
   "source": [
    "max_sum_score = prepare_dataset(\"/Users/tony/Desktop/Antoine/Semestre/9.Financial ML/ProjectFinancialNews/data/msft_roberta_output.csv\", ['Positive', 'Negative', 'Neutral'])\n",
    "max_sum_score.head()"
   ]
  },
  {
   "cell_type": "code",
   "execution_count": null,
   "metadata": {},
   "outputs": [],
   "source": [
    "max_sum_score[['Positive', 'Negative', 'Neutral']] = max_sum_score[['Positive', 'Negative', 'Neutral']].applymap(sum)\n",
    "max_sum_score.head()"
   ]
  },
  {
   "cell_type": "code",
   "execution_count": null,
   "metadata": {},
   "outputs": [],
   "source": [
    "# Python\n",
    "def take_max_count_prediction(row):\n",
    "    values = {'Positive': row['Positive'], 'Negative': row['Negative'], 'Neutral': row['Neutral']}\n",
    "    max_key = max(values, key=values.get)\n",
    "    \n",
    "    if max_key == 'Positive':\n",
    "        return 0\n",
    "    elif max_key == 'Negative':\n",
    "        return 1\n",
    "    else:\n",
    "        return 2\n",
    "\n",
    "max_sum_score['Predictions'] = max_sum_score.apply(take_max_count_prediction, axis=1)"
   ]
  },
  {
   "cell_type": "code",
   "execution_count": null,
   "metadata": {},
   "outputs": [],
   "source": [
    "max_sum_score.head()"
   ]
  },
  {
   "cell_type": "code",
   "execution_count": null,
   "metadata": {},
   "outputs": [],
   "source": [
    "print(\"Long Cumulative Return : \", cumulative_reward_long(max_sum_score, buy_sell_sentiment))\n",
    "print(\"Short Cumulative Return : \", cumulative_reward_short(max_sum_score, short_sell_sentiment))"
   ]
  },
  {
   "cell_type": "markdown",
   "metadata": {},
   "source": [
    "We perform less with this technique"
   ]
  },
  {
   "cell_type": "markdown",
   "metadata": {},
   "source": [
    "We take some threshold only the value greater than this into account, with mean of the day"
   ]
  },
  {
   "cell_type": "code",
   "execution_count": null,
   "metadata": {},
   "outputs": [],
   "source": [
    "threshold_input = prepare_dataset(\"/Users/tony/Desktop/Antoine/Semestre/9.Financial ML/ProjectFinancialNews/data/msft_roberta_output.csv\", ['Positive', 'Negative', 'Neutral'])\n",
    "THRESHOLD = 0.5"
   ]
  },
  {
   "cell_type": "code",
   "execution_count": null,
   "metadata": {},
   "outputs": [],
   "source": [
    "def replace_below_threshold(arr, threshold):\n",
    "    return [x for x in arr if x >= threshold]\n",
    "\n",
    "columns = ['Positive', 'Negative', 'Neutral']\n",
    "\n",
    "for col in columns:\n",
    "    threshold_input[col] = threshold_input[col].apply(lambda arr: replace_below_threshold(arr, threshold=THRESHOLD))"
   ]
  },
  {
   "cell_type": "code",
   "execution_count": null,
   "metadata": {},
   "outputs": [],
   "source": [
    "threshold_input.head()"
   ]
  },
  {
   "cell_type": "code",
   "execution_count": null,
   "metadata": {},
   "outputs": [],
   "source": [
    "threshold_input[['Positive', 'Negative', 'Neutral']] = threshold_input[['Positive', 'Negative', 'Neutral']].applymap(len)"
   ]
  },
  {
   "cell_type": "code",
   "execution_count": null,
   "metadata": {},
   "outputs": [],
   "source": [
    "threshold_input.head()"
   ]
  },
  {
   "cell_type": "code",
   "execution_count": null,
   "metadata": {},
   "outputs": [],
   "source": [
    "threshold_input['Predictions'] = threshold_input.apply(take_max_count_prediction, axis=1)"
   ]
  },
  {
   "cell_type": "code",
   "execution_count": null,
   "metadata": {},
   "outputs": [],
   "source": [
    "threshold_input.head()"
   ]
  },
  {
   "cell_type": "code",
   "execution_count": null,
   "metadata": {},
   "outputs": [],
   "source": [
    "print(\"Long Cumulative Return : \", cumulative_reward_long(threshold_input, buy_sell_sentiment))\n",
    "print(\"Short Cumulative Return : \", cumulative_reward_short(threshold_input, short_sell_sentiment))"
   ]
  },
  {
   "cell_type": "code",
   "execution_count": null,
   "metadata": {},
   "outputs": [],
   "source": [
    "def threshold_test():\n",
    "    THRESHOLD_ARRAY = [0.1, 0.2, 0.3, 0.4, 0.5, 0.6, 0.7, 0.8, 0.85, 0.9, 0.95, 0.99]\n",
    "    for THRESHOLD in THRESHOLD_ARRAY:\n",
    "        threshold_input = prepare_dataset(\"/Users/tony/Desktop/Antoine/Semestre/9.Financial ML/ProjectFinancialNews/data/msft_roberta_output.csv\", ['Positive', 'Negative', 'Neutral'])\n",
    "        \n",
    "        columns = ['Positive', 'Negative', 'Neutral']\n",
    "        for col in columns:\n",
    "            threshold_input[col] = threshold_input[col].apply(lambda arr: replace_below_threshold(arr, threshold=THRESHOLD))        \n",
    "            \n",
    "        threshold_input[['Positive', 'Negative', 'Neutral']] = threshold_input[['Positive', 'Negative', 'Neutral']].applymap(len)\n",
    "        \n",
    "        threshold_input['Predictions'] = threshold_input.apply(take_max_count_prediction, axis=1)\n",
    "        \n",
    "        print(\"Long Cumulative Return : \", cumulative_reward_long(threshold_input, buy_sell_sentiment))\n",
    "        print(\"Short Cumulative Return : \", cumulative_reward_short(threshold_input, short_sell_sentiment))"
   ]
  },
  {
   "cell_type": "code",
   "execution_count": null,
   "metadata": {},
   "outputs": [],
   "source": [
    "threshold_test()"
   ]
  },
  {
   "cell_type": "markdown",
   "metadata": {},
   "source": [
    "Weird, better is the filter the worst is the result"
   ]
  },
  {
   "cell_type": "markdown",
   "metadata": {},
   "source": [
    "# Momemntum X News trading strategy"
   ]
  },
  {
   "cell_type": "markdown",
   "metadata": {},
   "source": [
    "We are going to use the better we saw at this stage the Threshold 0.7"
   ]
  },
  {
   "cell_type": "markdown",
   "metadata": {},
   "source": [
    "## With MACD"
   ]
  },
  {
   "cell_type": "markdown",
   "metadata": {},
   "source": [
    "## AND need both signals to be positive"
   ]
  },
  {
   "cell_type": "code",
   "execution_count": null,
   "metadata": {},
   "outputs": [],
   "source": [
    "def buy_sell_momentum_sentiment(signal):\n",
    "    Buy = [np.nan for i in range(0, len(signal))]\n",
    "    Sell = [np.nan for i in range(0, len(signal))]\n",
    "    flag = 0\n",
    "\n",
    "    for i in range(0, len(signal)):\n",
    "        if signal['MACD'][i] > signal['Signal Line'][i] and signal['Predictions'][i] == 0:  # Positive momentum and sentiment\n",
    "            if flag != 1:\n",
    "                Buy[i] = signal['Close'][i]\n",
    "                flag = 1\n",
    "        elif signal['MACD'][i] < signal['Signal Line'][i] and signal['Predictions'][i] == 1:  # Negative momentum and sentiment\n",
    "            if flag != 0:\n",
    "                Sell[i] = signal['Close'][i]\n",
    "                flag = 0\n",
    "\n",
    "    return (Buy, Sell)"
   ]
  },
  {
   "cell_type": "code",
   "execution_count": null,
   "metadata": {},
   "outputs": [],
   "source": [
    "def short_sell_momentum_sentiment(signal):\n",
    "    Short = [np.nan for i in range(0, len(signal))]\n",
    "    Sell = [np.nan for i in range(0, len(signal))]\n",
    "    flag = 0\n",
    "\n",
    "    for i in range(0, len(signal)):\n",
    "        if signal['MACD'][i] < signal['Signal Line'][i] and signal['Predictions'][i] == 1:  # Negative momentum and sentiment\n",
    "            if flag != 1:\n",
    "                Short[i] = signal['Close'][i]\n",
    "                flag = 1\n",
    "        elif signal['MACD'][i] > signal['Signal Line'][i] and signal['Predictions'][i] == 0:  # Positive momentum and sentiment\n",
    "            if flag != 0:\n",
    "                Sell[i] = signal['Close'][i]\n",
    "                flag = 0\n",
    "\n",
    "    return (Short, Sell)"
   ]
  },
  {
   "cell_type": "code",
   "execution_count": null,
   "metadata": {},
   "outputs": [],
   "source": [
    "stocks = get_stock('MSFT')"
   ]
  },
  {
   "cell_type": "code",
   "execution_count": null,
   "metadata": {},
   "outputs": [],
   "source": [
    "# Calculate Short Term Exponential Moving Average\n",
    "ShortEMA = stocks.Close.ewm(span=12, adjust=False).mean() \n",
    "# Calculate Long Term Exponential Moving Average\n",
    "LongEMA = stocks.Close.ewm(span=26, adjust=False).mean() \n",
    "# Calculate MACD line\n",
    "MACD = ShortEMA - LongEMA\n",
    "# Calculate Signal line\n",
    "signal = MACD.ewm(span=9, adjust=False).mean()"
   ]
  },
  {
   "cell_type": "code",
   "execution_count": null,
   "metadata": {},
   "outputs": [],
   "source": [
    "stocks['MACD'] = MACD\n",
    "stocks['Signal Line'] = signal"
   ]
  },
  {
   "cell_type": "code",
   "execution_count": null,
   "metadata": {},
   "outputs": [],
   "source": [
    "THRESHOLD = 0.7\n",
    "\n",
    "MACD_news_input = prepare_dataset(\"/Users/tony/Desktop/Antoine/Semestre/9.Financial ML/ProjectFinancialNews/data/msft_roberta_output.csv\", ['Positive', 'Negative', 'Neutral'])\n",
    "MACD_news_input = pd.merge(MACD_news_input, stocks[['Date', 'MACD', 'Signal Line']], on='Date', how='left')\n",
    "\n",
    "columns = ['Positive', 'Negative', 'Neutral']\n",
    "\n",
    "for col in columns:\n",
    "    MACD_news_input[col] = MACD_news_input[col].apply(lambda arr: replace_below_threshold(arr, threshold=THRESHOLD))        \n",
    "    \n",
    "MACD_news_input[['Positive', 'Negative', 'Neutral']] = MACD_news_input[['Positive', 'Negative', 'Neutral']].applymap(len)\n",
    "\n",
    "MACD_news_input['Predictions'] = MACD_news_input.apply(take_max_count_prediction, axis=1)\n",
    "\n",
    "print(\"Threshold : \", THRESHOLD, \" Long Cumulative Return : \", cumulative_reward_long(MACD_news_input, buy_sell_momentum_sentiment))\n",
    "print(\"Threshold : \", THRESHOLD, \" Short Cumulative Return : \", cumulative_reward_short(MACD_news_input, short_sell_momentum_sentiment))\n"
   ]
  },
  {
   "cell_type": "markdown",
   "metadata": {},
   "source": [
    "## OR need one of the signal to be positive"
   ]
  },
  {
   "cell_type": "code",
   "execution_count": null,
   "metadata": {},
   "outputs": [],
   "source": [
    "def buy_sell_momentum_sentiment(signal):\n",
    "    Buy = [np.nan for i in range(0, len(signal))]\n",
    "    Sell = [np.nan for i in range(0, len(signal))]\n",
    "    flag = 0\n",
    "\n",
    "    for i in range(0, len(signal)):\n",
    "        if signal['MACD'][i] > signal['Signal Line'][i] or signal['Predictions'][i] == 0:  # Positive momentum and sentiment\n",
    "            if flag != 1:\n",
    "                Buy[i] = signal['Close'][i]\n",
    "                flag = 1\n",
    "        elif signal['MACD'][i] < signal['Signal Line'][i] or signal['Predictions'][i] == 1:  # Negative momentum and sentiment\n",
    "            if flag != 0:\n",
    "                Sell[i] = signal['Close'][i]\n",
    "                flag = 0\n",
    "\n",
    "    return (Buy, Sell)"
   ]
  },
  {
   "cell_type": "code",
   "execution_count": null,
   "metadata": {},
   "outputs": [],
   "source": [
    "def short_sell_momentum_sentiment(signal):\n",
    "    Short = [np.nan for i in range(0, len(signal))]\n",
    "    Sell = [np.nan for i in range(0, len(signal))]\n",
    "    flag = 0\n",
    "\n",
    "    for i in range(0, len(signal)):\n",
    "        if signal['MACD'][i] < signal['Signal Line'][i] or signal['Predictions'][i] == 1:  # Negative momentum and sentiment\n",
    "            if flag != 1:\n",
    "                Short[i] = signal['Close'][i]\n",
    "                flag = 1\n",
    "        elif signal['MACD'][i] > signal['Signal Line'][i] or signal['Predictions'][i] == 0:  # Positive momentum and sentiment\n",
    "            if flag != 0:\n",
    "                Sell[i] = signal['Close'][i]\n",
    "                flag = 0\n",
    "\n",
    "    return (Short, Sell)"
   ]
  },
  {
   "cell_type": "code",
   "execution_count": null,
   "metadata": {},
   "outputs": [],
   "source": [
    "stocks = get_stock('MSFT')"
   ]
  },
  {
   "cell_type": "code",
   "execution_count": null,
   "metadata": {},
   "outputs": [],
   "source": [
    "# Calculate Short Term Exponential Moving Average\n",
    "ShortEMA = stocks.Close.ewm(span=12, adjust=False).mean() \n",
    "# Calculate Long Term Exponential Moving Average\n",
    "LongEMA = stocks.Close.ewm(span=26, adjust=False).mean() \n",
    "# Calculate MACD line\n",
    "MACD = ShortEMA - LongEMA\n",
    "# Calculate Signal line\n",
    "signal = MACD.ewm(span=9, adjust=False).mean()"
   ]
  },
  {
   "cell_type": "code",
   "execution_count": null,
   "metadata": {},
   "outputs": [],
   "source": [
    "stocks['MACD'] = MACD\n",
    "stocks['Signal Line'] = signal"
   ]
  },
  {
   "cell_type": "code",
   "execution_count": null,
   "metadata": {},
   "outputs": [],
   "source": [
    "THRESHOLD = 0.7\n",
    "\n",
    "MACD_news_input = prepare_dataset(\"/Users/tony/Desktop/Antoine/Semestre/9.Financial ML/ProjectFinancialNews/data/msft_roberta_output.csv\", ['Positive', 'Negative', 'Neutral'])\n",
    "MACD_news_input = pd.merge(MACD_news_input, stocks[['Date', 'MACD', 'Signal Line']], on='Date', how='left')\n",
    "\n",
    "columns = ['Positive', 'Negative', 'Neutral']\n",
    "\n",
    "for col in columns:\n",
    "    MACD_news_input[col] = MACD_news_input[col].apply(lambda arr: replace_below_threshold(arr, threshold=THRESHOLD))        \n",
    "    \n",
    "MACD_news_input[['Positive', 'Negative', 'Neutral']] = MACD_news_input[['Positive', 'Negative', 'Neutral']].applymap(len)\n",
    "\n",
    "MACD_news_input['Predictions'] = MACD_news_input.apply(take_max_count_prediction, axis=1)\n",
    "\n",
    "print(\"Threshold : \", THRESHOLD, \" Long Cumulative Return : \", cumulative_reward_long(MACD_news_input, buy_sell_momentum_sentiment))\n",
    "print(\"Threshold : \", THRESHOLD, \" Short Cumulative Return : \", cumulative_reward_short(MACD_news_input, short_sell_momentum_sentiment))"
   ]
  },
  {
   "cell_type": "markdown",
   "metadata": {},
   "source": [
    "## With RSI"
   ]
  },
  {
   "cell_type": "markdown",
   "metadata": {},
   "source": [
    "## AND need both signals to be positive"
   ]
  },
  {
   "cell_type": "code",
   "execution_count": null,
   "metadata": {},
   "outputs": [],
   "source": [
    "def buy_sell_RSI_sentiment(signal, upper=70, lower=30):\n",
    "    Buy = [np.nan for i in range(0, len(signal))]\n",
    "    Sell = [np.nan for i in range(0, len(signal))]\n",
    "    flag = 0\n",
    "\n",
    "    for i in range(0, len(signal)):\n",
    "        if signal['RSI'][i] < lower and signal['Predictions'][i] == 0:\n",
    "            if flag != 1:\n",
    "                Buy[i] = signal['Close'][i]\n",
    "                flag = 1\n",
    "        elif signal['RSI'][i] > upper and signal['Predictions'][i] == 1:\n",
    "            if flag != 0:\n",
    "                Sell[i] = signal['Close'][i]\n",
    "                flag = 0\n",
    "\n",
    "    return (Buy, Sell)"
   ]
  },
  {
   "cell_type": "code",
   "execution_count": null,
   "metadata": {},
   "outputs": [],
   "source": [
    "def short_sell_RSI_sentiment(signal, upper=70, lower=30):\n",
    "    Short = [np.nan for i in range(0, len(signal))]\n",
    "    Sell = [np.nan for i in range(0, len(signal))]\n",
    "    flag = 0\n",
    "\n",
    "    for i in range(0, len(signal)):\n",
    "        if signal['RSI'][i] > upper and signal['Predictions'][i] == 1:\n",
    "            if flag != 1:\n",
    "                Short[i] = signal['Close'][i]\n",
    "                flag = 1\n",
    "        elif signal['RSI'][i] < lower and signal['Predictions'][i] == 0:\n",
    "            if flag != 0:\n",
    "                Sell[i] = signal['Close'][i]\n",
    "                flag = 0\n",
    "\n",
    "    return (Short, Sell)"
   ]
  },
  {
   "cell_type": "code",
   "execution_count": null,
   "metadata": {},
   "outputs": [],
   "source": [
    "def calculate_RSI(data, time_window):\n",
    "    diff = data.diff(1).dropna()        # diff in one field(one day)\n",
    "\n",
    "    #this preservers dimensions off diff values\n",
    "    up_chg = 0 * diff\n",
    "    down_chg = 0 * diff\n",
    "    \n",
    "    # up change is equal to the positive difference, otherwise equal to zero\n",
    "    up_chg[diff > 0] = diff[ diff>0 ]\n",
    "    \n",
    "    # down change is equal to negative deifference, otherwise equal to zero\n",
    "    down_chg[diff < 0] = diff[ diff < 0 ]\n",
    "\n",
    "    # we set com=time_window-1 so we get decay alpha=1/time_window\n",
    "    up_chg_avg   = up_chg.ewm(com=time_window-1 , min_periods=time_window).mean()\n",
    "    down_chg_avg = down_chg.ewm(com=time_window-1 , min_periods=time_window).mean()\n",
    "    \n",
    "    rs = abs(up_chg_avg/down_chg_avg)\n",
    "    rsi = 100 - 100/(1+rs)\n",
    "    return rsi\n",
    "\n",
    "stocks = get_stock('MSFT')\n",
    "\n",
    "stocks['RSI'] = calculate_RSI(stocks['Close'], 14)"
   ]
  },
  {
   "cell_type": "code",
   "execution_count": null,
   "metadata": {},
   "outputs": [],
   "source": [
    "THRESHOLD = 0.7\n",
    "\n",
    "RSI_news_input = prepare_dataset(\"/Users/tony/Desktop/Antoine/Semestre/9.Financial ML/ProjectFinancialNews/data/msft_roberta_output.csv\", ['Positive', 'Negative', 'Neutral'])\n",
    "RSI_news_input = pd.merge(RSI_news_input, stocks[['Date', 'RSI']], on='Date', how='left')\n",
    "\n",
    "columns = ['Positive', 'Negative', 'Neutral']\n",
    "\n",
    "for col in columns:\n",
    "    RSI_news_input[col] = RSI_news_input[col].apply(lambda arr: replace_below_threshold(arr, threshold=THRESHOLD))        \n",
    "    \n",
    "RSI_news_input[['Positive', 'Negative', 'Neutral']] = RSI_news_input[['Positive', 'Negative', 'Neutral']].applymap(len)\n",
    "\n",
    "RSI_news_input['Predictions'] = RSI_news_input.apply(take_max_count_prediction, axis=1)\n",
    "\n",
    "print(\"Threshold : \", THRESHOLD, \" Long Cumulative Return : \", cumulative_reward_long(RSI_news_input, buy_sell_RSI_sentiment))\n",
    "print(\"Threshold : \", THRESHOLD, \" Short Cumulative Return : \", cumulative_reward_short(RSI_news_input, short_sell_RSI_sentiment))"
   ]
  },
  {
   "cell_type": "markdown",
   "metadata": {},
   "source": [
    "## OR need one of the signal to be positive"
   ]
  },
  {
   "cell_type": "code",
   "execution_count": null,
   "metadata": {},
   "outputs": [],
   "source": [
    "def buy_sell_RSI_sentiment(signal, upper=70, lower=30):\n",
    "    Buy = [np.nan for i in range(0, len(signal))]\n",
    "    Sell = [np.nan for i in range(0, len(signal))]\n",
    "    flag = -1\n",
    "\n",
    "    for i in range(0, len(signal)):\n",
    "        if signal['RSI'][i] < lower or signal['Predictions'][i] == 0:\n",
    "            if flag != 1:\n",
    "                Buy[i] = signal['Close'][i]\n",
    "                flag = 1\n",
    "        elif signal['RSI'][i] > upper or signal['Predictions'][i] == 1:\n",
    "            if flag != 0:\n",
    "                Sell[i] = signal['Close'][i]\n",
    "                flag = 0\n",
    "\n",
    "    return (Buy, Sell)"
   ]
  },
  {
   "cell_type": "code",
   "execution_count": null,
   "metadata": {},
   "outputs": [],
   "source": [
    "def short_sell_RSI_sentiment(signal, upper=70, lower=30):\n",
    "    Short = [np.nan for i in range(0, len(signal))]\n",
    "    Sell = [np.nan for i in range(0, len(signal))]\n",
    "    flag = 0\n",
    "\n",
    "    for i in range(0, len(signal)):\n",
    "        if signal['RSI'][i] > upper or signal['Predictions'][i] == 1:\n",
    "            if flag != 1:\n",
    "                Short[i] = signal['Close'][i]\n",
    "                flag = 1\n",
    "        elif signal['RSI'][i] < lower or signal['Predictions'][i] == 0:\n",
    "            if flag != 0:\n",
    "                Sell[i] = signal['Close'][i]\n",
    "                flag = 0\n",
    "\n",
    "    return (Short, Sell)"
   ]
  },
  {
   "cell_type": "code",
   "execution_count": null,
   "metadata": {},
   "outputs": [],
   "source": [
    "THRESHOLD = 0.7\n",
    "\n",
    "RSI_news_input = prepare_dataset(\"/Users/tony/Desktop/Antoine/Semestre/9.Financial ML/ProjectFinancialNews/data/msft_roberta_output.csv\", ['Positive', 'Negative', 'Neutral'])\n",
    "RSI_news_input = pd.merge(RSI_news_input, stocks[['Date', 'RSI']], on='Date', how='left')\n",
    "\n",
    "columns = ['Positive', 'Negative', 'Neutral']\n",
    "\n",
    "for col in columns:\n",
    "    RSI_news_input[col] = RSI_news_input[col].apply(lambda arr: replace_below_threshold(arr, threshold=THRESHOLD))        \n",
    "    \n",
    "RSI_news_input[['Positive', 'Negative', 'Neutral']] = RSI_news_input[['Positive', 'Negative', 'Neutral']].applymap(len)\n",
    "\n",
    "RSI_news_input['Predictions'] = RSI_news_input.apply(take_max_count_prediction, axis=1)\n",
    "\n",
    "print(\"Threshold : \", THRESHOLD, \" Long Cumulative Return : \", cumulative_reward_long(RSI_news_input, buy_sell_RSI_sentiment))\n",
    "print(\"Threshold : \", THRESHOLD, \" Short Cumulative Return : \", cumulative_reward_short(RSI_news_input, short_sell_RSI_sentiment))"
   ]
  }
 ],
 "metadata": {
  "kernelspec": {
   "display_name": "myenv",
   "language": "python",
   "name": "python3"
  },
  "language_info": {
   "codemirror_mode": {
    "name": "ipython",
    "version": 3
   },
   "file_extension": ".py",
   "mimetype": "text/x-python",
   "name": "python",
   "nbconvert_exporter": "python",
   "pygments_lexer": "ipython3",
   "version": "3.9.16"
  }
 },
 "nbformat": 4,
 "nbformat_minor": 2
}
