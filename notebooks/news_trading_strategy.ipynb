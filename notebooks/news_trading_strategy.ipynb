{
 "cells": [
  {
   "cell_type": "code",
   "execution_count": 372,
   "metadata": {},
   "outputs": [],
   "source": [
    "import pandas\n",
    "import numpy as np\n",
    "import yfinance as yf\n",
    "import itertools\n"
   ]
  },
  {
   "cell_type": "markdown",
   "metadata": {},
   "source": [
    "# Useful tool"
   ]
  },
  {
   "cell_type": "code",
   "execution_count": 425,
   "metadata": {},
   "outputs": [],
   "source": [
    "def get_stock(ticker):\n",
    "    # Get data on this ticker\n",
    "    tickerData = yf.Ticker(ticker)\n",
    "\n",
    "    # Get the historical prices for this ticker\n",
    "    stocks = tickerData.history(period='1d', start='2021-1-1', end='2023-1-1')\n",
    "\n",
    "    stocks.reset_index(inplace=True)\n",
    "    stocks.Date = pd.to_datetime(stocks.Date).dt.date\n",
    "    return stocks"
   ]
  },
  {
   "cell_type": "code",
   "execution_count": 426,
   "metadata": {},
   "outputs": [],
   "source": [
    "stocks = get_stock('MSFT')"
   ]
  },
  {
   "cell_type": "code",
   "execution_count": 374,
   "metadata": {},
   "outputs": [],
   "source": [
    "def cumulative_reward(df, func):\n",
    "    a = func(df)\n",
    "    buy_signal = a[0]\n",
    "    sell_signal = a[1]\n",
    "    buy_signal = [x for x in buy_signal if x is not np.nan]\n",
    "    sell_signal = [x for x in sell_signal if x is not np.nan]\n",
    "\n",
    "    # Assume we buy and sell at the close of the day\n",
    "    stock_Return = []\n",
    "    for i in range(0, len(sell_signal)):\n",
    "        stock_Return.append(sell_signal[i] - buy_signal[i])\n",
    "    \n",
    "    return np.sum(stock_Return)"
   ]
  },
  {
   "cell_type": "code",
   "execution_count": 375,
   "metadata": {},
   "outputs": [],
   "source": [
    "def split_into_array(s):\n",
    "    # Remove the leading and trailing square brackets and single quotes\n",
    "    s = s[1:-1]\n",
    "\n",
    "    # Split the string into a list of sentences\n",
    "    integers = s.split(\", \")\n",
    "\n",
    "    return integers\n",
    "\n",
    "def merge_arrays(series):\n",
    "    return list(itertools.chain(*series.tolist()))\n",
    "\n",
    "def prepare_dataset(path, columns):\n",
    "    df = pandas.read_csv(path)\n",
    "    \n",
    "    df['Predictions'] = df['Predictions'].apply(split_into_array).apply(np.array).apply(lambda x: x.astype(int))\n",
    "    df['Positive'] = df['Positive'].apply(split_into_array).apply(np.array).apply(lambda x: x.astype(float))\n",
    "    df['Negative'] = df['Negative'].apply(split_into_array).apply(np.array).apply(lambda x: x.astype(float))\n",
    "    df['Neutral'] = df['Neutral'].apply(split_into_array).apply(np.array).apply(lambda x: x.astype(float))\n",
    "    df['published'] = pd.to_datetime(df['published']).dt.date\n",
    "    \n",
    "    columns_df = columns.copy()\n",
    "    columns_df.insert(0, 'published')\n",
    "    \n",
    "    input = df[columns_df]\n",
    "    input = input.copy()\n",
    "    input.rename(columns={'published': 'Date'}, inplace=True)\n",
    "    \n",
    "    grouped_df = input.groupby('Date')[columns].agg(merge_arrays)    \n",
    "    grouped_df = pd.merge(grouped_df, stocks[['Date', 'Close']], on='Date', how='left')\n",
    "\n",
    "    grouped_df = grouped_df.dropna()\n",
    "    grouped_df = grouped_df.reset_index(drop=True)\n",
    "\n",
    "    return grouped_df"
   ]
  },
  {
   "cell_type": "markdown",
   "metadata": {},
   "source": [
    "# Simple positive negative strategys"
   ]
  },
  {
   "cell_type": "code",
   "execution_count": 376,
   "metadata": {},
   "outputs": [],
   "source": [
    "def buy_sell_sentiment(signal):\n",
    "    Buy = [np.nan for i in range(0, len(signal))]\n",
    "    Sell = [np.nan for i in range(0, len(signal))]\n",
    "    flag = -1\n",
    "\n",
    "    for i in range(0, len(signal)):\n",
    "        if signal['Predictions'][i] == 0:  # Positive sentiment\n",
    "            if flag != 1:\n",
    "                Buy[i] = signal['Close'][i]\n",
    "                flag = 1\n",
    "        elif signal['Predictions'][i] == 1:  # Negative sentiment\n",
    "            if flag != 0:\n",
    "                Sell[i] = signal['Close'][i]\n",
    "                flag = 0\n",
    "    return (Buy, Sell)"
   ]
  },
  {
   "cell_type": "markdown",
   "metadata": {},
   "source": [
    "Simple first implementation we look at the sentiment of the news and if it is positive we buy and if it is negative we sell. We will use the sentiment of the news from the previous day to make our decision, by mean of the sentences in a same day."
   ]
  },
  {
   "cell_type": "code",
   "execution_count": 377,
   "metadata": {},
   "outputs": [],
   "source": [
    "simple_news_dataset = prepare_dataset(\"/Users/tony/Desktop/Antoine/Semestre/9.Financial ML/ProjectFinancialNews/data/msft_roberta_output.csv\", ['Predictions'])"
   ]
  },
  {
   "cell_type": "code",
   "execution_count": 378,
   "metadata": {},
   "outputs": [
    {
     "data": {
      "text/html": [
       "<div>\n",
       "<style scoped>\n",
       "    .dataframe tbody tr th:only-of-type {\n",
       "        vertical-align: middle;\n",
       "    }\n",
       "\n",
       "    .dataframe tbody tr th {\n",
       "        vertical-align: top;\n",
       "    }\n",
       "\n",
       "    .dataframe thead th {\n",
       "        text-align: right;\n",
       "    }\n",
       "</style>\n",
       "<table border=\"1\" class=\"dataframe\">\n",
       "  <thead>\n",
       "    <tr style=\"text-align: right;\">\n",
       "      <th></th>\n",
       "      <th>Date</th>\n",
       "      <th>Predictions</th>\n",
       "      <th>Close</th>\n",
       "    </tr>\n",
       "  </thead>\n",
       "  <tbody>\n",
       "    <tr>\n",
       "      <th>0</th>\n",
       "      <td>2021-01-04</td>\n",
       "      <td>[2, 0, 2, 2, 2, 0, 2]</td>\n",
       "      <td>211.996613</td>\n",
       "    </tr>\n",
       "    <tr>\n",
       "      <th>1</th>\n",
       "      <td>2021-01-05</td>\n",
       "      <td>[2, 2, 1, 2, 2, 0, 2, 2, 0, 2, 0, 2, 2, 2, 0, ...</td>\n",
       "      <td>212.201111</td>\n",
       "    </tr>\n",
       "    <tr>\n",
       "      <th>2</th>\n",
       "      <td>2021-01-06</td>\n",
       "      <td>[0, 0, 2, 2, 2, 0, 0, 2, 0, 2, 2, 2, 2]</td>\n",
       "      <td>206.698883</td>\n",
       "    </tr>\n",
       "    <tr>\n",
       "      <th>3</th>\n",
       "      <td>2021-01-07</td>\n",
       "      <td>[2, 2, 2, 2, 2, 2, 2, 2, 1, 2, 2, 1, 2, 2, 2, ...</td>\n",
       "      <td>212.580933</td>\n",
       "    </tr>\n",
       "    <tr>\n",
       "      <th>4</th>\n",
       "      <td>2021-01-08</td>\n",
       "      <td>[2, 2, 2, 2, 2, 2, 2, 2]</td>\n",
       "      <td>213.876129</td>\n",
       "    </tr>\n",
       "    <tr>\n",
       "      <th>...</th>\n",
       "      <td>...</td>\n",
       "      <td>...</td>\n",
       "      <td>...</td>\n",
       "    </tr>\n",
       "    <tr>\n",
       "      <th>498</th>\n",
       "      <td>2022-12-23</td>\n",
       "      <td>[1, 2, 2, 2, 1, 0, 0, 2, 1, 0, 0, 0, 2, 2, 1, ...</td>\n",
       "      <td>236.631805</td>\n",
       "    </tr>\n",
       "    <tr>\n",
       "      <th>499</th>\n",
       "      <td>2022-12-27</td>\n",
       "      <td>[2, 2, 0, 0, 2, 0]</td>\n",
       "      <td>234.877380</td>\n",
       "    </tr>\n",
       "    <tr>\n",
       "      <th>500</th>\n",
       "      <td>2022-12-28</td>\n",
       "      <td>[0, 0, 2, 2, 2, 0, 0, 0, 0, 0, 1, 1, 2, 2, 2, ...</td>\n",
       "      <td>232.468719</td>\n",
       "    </tr>\n",
       "    <tr>\n",
       "      <th>501</th>\n",
       "      <td>2022-12-29</td>\n",
       "      <td>[2, 0, 2, 2, 2, 0, 1, 2, 2, 2, 2, 1, 2, 1, 1, ...</td>\n",
       "      <td>238.891769</td>\n",
       "    </tr>\n",
       "    <tr>\n",
       "      <th>502</th>\n",
       "      <td>2022-12-30</td>\n",
       "      <td>[2, 2, 0, 2, 2, 1, 0, 2, 2, 2, 2, 2, 2, 2, 2, ...</td>\n",
       "      <td>237.712219</td>\n",
       "    </tr>\n",
       "  </tbody>\n",
       "</table>\n",
       "<p>503 rows × 3 columns</p>\n",
       "</div>"
      ],
      "text/plain": [
       "           Date                                        Predictions       Close\n",
       "0    2021-01-04                              [2, 0, 2, 2, 2, 0, 2]  211.996613\n",
       "1    2021-01-05  [2, 2, 1, 2, 2, 0, 2, 2, 0, 2, 0, 2, 2, 2, 0, ...  212.201111\n",
       "2    2021-01-06            [0, 0, 2, 2, 2, 0, 0, 2, 0, 2, 2, 2, 2]  206.698883\n",
       "3    2021-01-07  [2, 2, 2, 2, 2, 2, 2, 2, 1, 2, 2, 1, 2, 2, 2, ...  212.580933\n",
       "4    2021-01-08                           [2, 2, 2, 2, 2, 2, 2, 2]  213.876129\n",
       "..          ...                                                ...         ...\n",
       "498  2022-12-23  [1, 2, 2, 2, 1, 0, 0, 2, 1, 0, 0, 0, 2, 2, 1, ...  236.631805\n",
       "499  2022-12-27                                 [2, 2, 0, 0, 2, 0]  234.877380\n",
       "500  2022-12-28  [0, 0, 2, 2, 2, 0, 0, 0, 0, 0, 1, 1, 2, 2, 2, ...  232.468719\n",
       "501  2022-12-29  [2, 0, 2, 2, 2, 0, 1, 2, 2, 2, 2, 1, 2, 1, 1, ...  238.891769\n",
       "502  2022-12-30  [2, 2, 0, 2, 2, 1, 0, 2, 2, 2, 2, 2, 2, 2, 2, ...  237.712219\n",
       "\n",
       "[503 rows x 3 columns]"
      ]
     },
     "execution_count": 378,
     "metadata": {},
     "output_type": "execute_result"
    }
   ],
   "source": [
    "simple_news_dataset"
   ]
  },
  {
   "cell_type": "code",
   "execution_count": 379,
   "metadata": {},
   "outputs": [],
   "source": [
    "# Python\n",
    "from collections import Counter\n",
    "\n",
    "def take_max_count_prediction(lst):\n",
    "    counts = Counter(lst)\n",
    "    max_count = max(counts.values())\n",
    "    modes = [k for k, v in counts.items() if v == max_count]\n",
    "    \n",
    "    if len(modes) == 1:\n",
    "        return modes[0]\n",
    "    elif len(modes) == 3:\n",
    "        return 2\n",
    "    elif 0 in modes and 1 in modes:\n",
    "        return 2\n",
    "    elif 0 in modes and 2 in modes:\n",
    "        return 0\n",
    "    elif 1 in modes and 2 in modes:\n",
    "        return 1\n",
    "    else:\n",
    "        return 2\n",
    "\n",
    "simple_news_dataset['Predictions'] = simple_news_dataset['Predictions'].apply(take_max_count_prediction)"
   ]
  },
  {
   "cell_type": "code",
   "execution_count": 380,
   "metadata": {},
   "outputs": [
    {
     "data": {
      "text/html": [
       "<div>\n",
       "<style scoped>\n",
       "    .dataframe tbody tr th:only-of-type {\n",
       "        vertical-align: middle;\n",
       "    }\n",
       "\n",
       "    .dataframe tbody tr th {\n",
       "        vertical-align: top;\n",
       "    }\n",
       "\n",
       "    .dataframe thead th {\n",
       "        text-align: right;\n",
       "    }\n",
       "</style>\n",
       "<table border=\"1\" class=\"dataframe\">\n",
       "  <thead>\n",
       "    <tr style=\"text-align: right;\">\n",
       "      <th></th>\n",
       "      <th>Date</th>\n",
       "      <th>Predictions</th>\n",
       "      <th>Close</th>\n",
       "    </tr>\n",
       "  </thead>\n",
       "  <tbody>\n",
       "    <tr>\n",
       "      <th>0</th>\n",
       "      <td>2021-01-04</td>\n",
       "      <td>2</td>\n",
       "      <td>211.996613</td>\n",
       "    </tr>\n",
       "    <tr>\n",
       "      <th>1</th>\n",
       "      <td>2021-01-05</td>\n",
       "      <td>2</td>\n",
       "      <td>212.201111</td>\n",
       "    </tr>\n",
       "    <tr>\n",
       "      <th>2</th>\n",
       "      <td>2021-01-06</td>\n",
       "      <td>2</td>\n",
       "      <td>206.698883</td>\n",
       "    </tr>\n",
       "    <tr>\n",
       "      <th>3</th>\n",
       "      <td>2021-01-07</td>\n",
       "      <td>2</td>\n",
       "      <td>212.580933</td>\n",
       "    </tr>\n",
       "    <tr>\n",
       "      <th>4</th>\n",
       "      <td>2021-01-08</td>\n",
       "      <td>2</td>\n",
       "      <td>213.876129</td>\n",
       "    </tr>\n",
       "  </tbody>\n",
       "</table>\n",
       "</div>"
      ],
      "text/plain": [
       "         Date  Predictions       Close\n",
       "0  2021-01-04            2  211.996613\n",
       "1  2021-01-05            2  212.201111\n",
       "2  2021-01-06            2  206.698883\n",
       "3  2021-01-07            2  212.580933\n",
       "4  2021-01-08            2  213.876129"
      ]
     },
     "execution_count": 380,
     "metadata": {},
     "output_type": "execute_result"
    }
   ],
   "source": [
    "simple_news_dataset.head()"
   ]
  },
  {
   "cell_type": "code",
   "execution_count": 381,
   "metadata": {},
   "outputs": [
    {
     "name": "stdout",
     "output_type": "stream",
     "text": [
      "Cumulative Return :  52.32206726074219\n"
     ]
    }
   ],
   "source": [
    "print(\"Cumulative Return : \", cumulative_reward(simple_news_dataset, buy_sell_sentiment))"
   ]
  },
  {
   "cell_type": "markdown",
   "metadata": {},
   "source": [
    "Now we take the maximum of the different sentences per day between positive and Negative"
   ]
  },
  {
   "cell_type": "code",
   "execution_count": 382,
   "metadata": {},
   "outputs": [
    {
     "data": {
      "text/html": [
       "<div>\n",
       "<style scoped>\n",
       "    .dataframe tbody tr th:only-of-type {\n",
       "        vertical-align: middle;\n",
       "    }\n",
       "\n",
       "    .dataframe tbody tr th {\n",
       "        vertical-align: top;\n",
       "    }\n",
       "\n",
       "    .dataframe thead th {\n",
       "        text-align: right;\n",
       "    }\n",
       "</style>\n",
       "<table border=\"1\" class=\"dataframe\">\n",
       "  <thead>\n",
       "    <tr style=\"text-align: right;\">\n",
       "      <th></th>\n",
       "      <th>Date</th>\n",
       "      <th>Positive</th>\n",
       "      <th>Negative</th>\n",
       "      <th>Neutral</th>\n",
       "      <th>Close</th>\n",
       "    </tr>\n",
       "  </thead>\n",
       "  <tbody>\n",
       "    <tr>\n",
       "      <th>0</th>\n",
       "      <td>2021-01-04</td>\n",
       "      <td>[5.761160355177708e-05, 0.7729113101959229, 8....</td>\n",
       "      <td>[8.459905802737921e-05, 0.0005494784563779831,...</td>\n",
       "      <td>[0.9998577833175659, 0.2265392392873764, 0.999...</td>\n",
       "      <td>211.996613</td>\n",
       "    </tr>\n",
       "    <tr>\n",
       "      <th>1</th>\n",
       "      <td>2021-01-05</td>\n",
       "      <td>[6.80618395563215e-05, 7.606166764162481e-05, ...</td>\n",
       "      <td>[6.462157034548e-05, 6.527246296172962e-05, 0....</td>\n",
       "      <td>[0.99986732006073, 0.9998586177825928, 0.00241...</td>\n",
       "      <td>212.201111</td>\n",
       "    </tr>\n",
       "    <tr>\n",
       "      <th>2</th>\n",
       "      <td>2021-01-06</td>\n",
       "      <td>[0.9927652478218079, 0.9984225034713745, 5.471...</td>\n",
       "      <td>[0.00025216813082806766, 0.0001982791873160749...</td>\n",
       "      <td>[0.006982621271163225, 0.0013791749952360988, ...</td>\n",
       "      <td>206.698883</td>\n",
       "    </tr>\n",
       "    <tr>\n",
       "      <th>3</th>\n",
       "      <td>2021-01-07</td>\n",
       "      <td>[7.9099896538537e-05, 5.7219538575736806e-05, ...</td>\n",
       "      <td>[0.0005839336663484573, 0.00021778183872811496...</td>\n",
       "      <td>[0.9993368983268738, 0.9997250437736511, 0.999...</td>\n",
       "      <td>212.580933</td>\n",
       "    </tr>\n",
       "    <tr>\n",
       "      <th>4</th>\n",
       "      <td>2021-01-08</td>\n",
       "      <td>[4.7886129323160276e-05, 4.737492781714536e-05...</td>\n",
       "      <td>[6.148114334791899e-05, 6.220681098056957e-05,...</td>\n",
       "      <td>[0.9998905658721924, 0.9998904466629028, 0.999...</td>\n",
       "      <td>213.876129</td>\n",
       "    </tr>\n",
       "  </tbody>\n",
       "</table>\n",
       "</div>"
      ],
      "text/plain": [
       "         Date                                           Positive  \\\n",
       "0  2021-01-04  [5.761160355177708e-05, 0.7729113101959229, 8....   \n",
       "1  2021-01-05  [6.80618395563215e-05, 7.606166764162481e-05, ...   \n",
       "2  2021-01-06  [0.9927652478218079, 0.9984225034713745, 5.471...   \n",
       "3  2021-01-07  [7.9099896538537e-05, 5.7219538575736806e-05, ...   \n",
       "4  2021-01-08  [4.7886129323160276e-05, 4.737492781714536e-05...   \n",
       "\n",
       "                                            Negative  \\\n",
       "0  [8.459905802737921e-05, 0.0005494784563779831,...   \n",
       "1  [6.462157034548e-05, 6.527246296172962e-05, 0....   \n",
       "2  [0.00025216813082806766, 0.0001982791873160749...   \n",
       "3  [0.0005839336663484573, 0.00021778183872811496...   \n",
       "4  [6.148114334791899e-05, 6.220681098056957e-05,...   \n",
       "\n",
       "                                             Neutral       Close  \n",
       "0  [0.9998577833175659, 0.2265392392873764, 0.999...  211.996613  \n",
       "1  [0.99986732006073, 0.9998586177825928, 0.00241...  212.201111  \n",
       "2  [0.006982621271163225, 0.0013791749952360988, ...  206.698883  \n",
       "3  [0.9993368983268738, 0.9997250437736511, 0.999...  212.580933  \n",
       "4  [0.9998905658721924, 0.9998904466629028, 0.999...  213.876129  "
      ]
     },
     "execution_count": 382,
     "metadata": {},
     "output_type": "execute_result"
    }
   ],
   "source": [
    "max_sum_score = prepare_dataset(\"/Users/tony/Desktop/Antoine/Semestre/9.Financial ML/ProjectFinancialNews/data/msft_roberta_output.csv\", ['Positive', 'Negative', 'Neutral'])\n",
    "max_sum_score.head()"
   ]
  },
  {
   "cell_type": "code",
   "execution_count": 383,
   "metadata": {},
   "outputs": [
    {
     "data": {
      "text/html": [
       "<div>\n",
       "<style scoped>\n",
       "    .dataframe tbody tr th:only-of-type {\n",
       "        vertical-align: middle;\n",
       "    }\n",
       "\n",
       "    .dataframe tbody tr th {\n",
       "        vertical-align: top;\n",
       "    }\n",
       "\n",
       "    .dataframe thead th {\n",
       "        text-align: right;\n",
       "    }\n",
       "</style>\n",
       "<table border=\"1\" class=\"dataframe\">\n",
       "  <thead>\n",
       "    <tr style=\"text-align: right;\">\n",
       "      <th></th>\n",
       "      <th>Date</th>\n",
       "      <th>Positive</th>\n",
       "      <th>Negative</th>\n",
       "      <th>Neutral</th>\n",
       "      <th>Close</th>\n",
       "    </tr>\n",
       "  </thead>\n",
       "  <tbody>\n",
       "    <tr>\n",
       "      <th>0</th>\n",
       "      <td>2021-01-04</td>\n",
       "      <td>1.723691</td>\n",
       "      <td>0.001351</td>\n",
       "      <td>5.274958</td>\n",
       "      <td>211.996613</td>\n",
       "    </tr>\n",
       "    <tr>\n",
       "      <th>1</th>\n",
       "      <td>2021-01-05</td>\n",
       "      <td>7.853685</td>\n",
       "      <td>3.949336</td>\n",
       "      <td>17.196979</td>\n",
       "      <td>212.201111</td>\n",
       "    </tr>\n",
       "    <tr>\n",
       "      <th>2</th>\n",
       "      <td>2021-01-06</td>\n",
       "      <td>4.950893</td>\n",
       "      <td>0.122638</td>\n",
       "      <td>7.926469</td>\n",
       "      <td>206.698883</td>\n",
       "    </tr>\n",
       "    <tr>\n",
       "      <th>3</th>\n",
       "      <td>2021-01-07</td>\n",
       "      <td>0.013350</td>\n",
       "      <td>3.293995</td>\n",
       "      <td>18.692655</td>\n",
       "      <td>212.580933</td>\n",
       "    </tr>\n",
       "    <tr>\n",
       "      <th>4</th>\n",
       "      <td>2021-01-08</td>\n",
       "      <td>0.000524</td>\n",
       "      <td>0.000791</td>\n",
       "      <td>7.998685</td>\n",
       "      <td>213.876129</td>\n",
       "    </tr>\n",
       "  </tbody>\n",
       "</table>\n",
       "</div>"
      ],
      "text/plain": [
       "         Date  Positive  Negative    Neutral       Close\n",
       "0  2021-01-04  1.723691  0.001351   5.274958  211.996613\n",
       "1  2021-01-05  7.853685  3.949336  17.196979  212.201111\n",
       "2  2021-01-06  4.950893  0.122638   7.926469  206.698883\n",
       "3  2021-01-07  0.013350  3.293995  18.692655  212.580933\n",
       "4  2021-01-08  0.000524  0.000791   7.998685  213.876129"
      ]
     },
     "execution_count": 383,
     "metadata": {},
     "output_type": "execute_result"
    }
   ],
   "source": [
    "max_sum_score[['Positive', 'Negative', 'Neutral']] = max_sum_score[['Positive', 'Negative', 'Neutral']].applymap(sum)\n",
    "max_sum_score.head()"
   ]
  },
  {
   "cell_type": "code",
   "execution_count": 384,
   "metadata": {},
   "outputs": [],
   "source": [
    "# Python\n",
    "def take_max_count_prediction(row):\n",
    "    values = {'Positive': row['Positive'], 'Negative': row['Negative'], 'Neutral': row['Neutral']}\n",
    "    max_key = max(values, key=values.get)\n",
    "    \n",
    "    if max_key == 'Positive':\n",
    "        return 0\n",
    "    elif max_key == 'Negative':\n",
    "        return 1\n",
    "    else:\n",
    "        return 2\n",
    "\n",
    "max_sum_score['Predictions'] = max_sum_score.apply(take_max_count_prediction, axis=1)"
   ]
  },
  {
   "cell_type": "code",
   "execution_count": 385,
   "metadata": {},
   "outputs": [
    {
     "data": {
      "text/html": [
       "<div>\n",
       "<style scoped>\n",
       "    .dataframe tbody tr th:only-of-type {\n",
       "        vertical-align: middle;\n",
       "    }\n",
       "\n",
       "    .dataframe tbody tr th {\n",
       "        vertical-align: top;\n",
       "    }\n",
       "\n",
       "    .dataframe thead th {\n",
       "        text-align: right;\n",
       "    }\n",
       "</style>\n",
       "<table border=\"1\" class=\"dataframe\">\n",
       "  <thead>\n",
       "    <tr style=\"text-align: right;\">\n",
       "      <th></th>\n",
       "      <th>Date</th>\n",
       "      <th>Positive</th>\n",
       "      <th>Negative</th>\n",
       "      <th>Neutral</th>\n",
       "      <th>Close</th>\n",
       "      <th>Predictions</th>\n",
       "    </tr>\n",
       "  </thead>\n",
       "  <tbody>\n",
       "    <tr>\n",
       "      <th>0</th>\n",
       "      <td>2021-01-04</td>\n",
       "      <td>1.723691</td>\n",
       "      <td>0.001351</td>\n",
       "      <td>5.274958</td>\n",
       "      <td>211.996613</td>\n",
       "      <td>2</td>\n",
       "    </tr>\n",
       "    <tr>\n",
       "      <th>1</th>\n",
       "      <td>2021-01-05</td>\n",
       "      <td>7.853685</td>\n",
       "      <td>3.949336</td>\n",
       "      <td>17.196979</td>\n",
       "      <td>212.201111</td>\n",
       "      <td>2</td>\n",
       "    </tr>\n",
       "    <tr>\n",
       "      <th>2</th>\n",
       "      <td>2021-01-06</td>\n",
       "      <td>4.950893</td>\n",
       "      <td>0.122638</td>\n",
       "      <td>7.926469</td>\n",
       "      <td>206.698883</td>\n",
       "      <td>2</td>\n",
       "    </tr>\n",
       "    <tr>\n",
       "      <th>3</th>\n",
       "      <td>2021-01-07</td>\n",
       "      <td>0.013350</td>\n",
       "      <td>3.293995</td>\n",
       "      <td>18.692655</td>\n",
       "      <td>212.580933</td>\n",
       "      <td>2</td>\n",
       "    </tr>\n",
       "    <tr>\n",
       "      <th>4</th>\n",
       "      <td>2021-01-08</td>\n",
       "      <td>0.000524</td>\n",
       "      <td>0.000791</td>\n",
       "      <td>7.998685</td>\n",
       "      <td>213.876129</td>\n",
       "      <td>2</td>\n",
       "    </tr>\n",
       "  </tbody>\n",
       "</table>\n",
       "</div>"
      ],
      "text/plain": [
       "         Date  Positive  Negative    Neutral       Close  Predictions\n",
       "0  2021-01-04  1.723691  0.001351   5.274958  211.996613            2\n",
       "1  2021-01-05  7.853685  3.949336  17.196979  212.201111            2\n",
       "2  2021-01-06  4.950893  0.122638   7.926469  206.698883            2\n",
       "3  2021-01-07  0.013350  3.293995  18.692655  212.580933            2\n",
       "4  2021-01-08  0.000524  0.000791   7.998685  213.876129            2"
      ]
     },
     "execution_count": 385,
     "metadata": {},
     "output_type": "execute_result"
    }
   ],
   "source": [
    "max_sum_score.head()"
   ]
  },
  {
   "cell_type": "code",
   "execution_count": 386,
   "metadata": {},
   "outputs": [
    {
     "name": "stdout",
     "output_type": "stream",
     "text": [
      "Cumulative Return :  28.418533325195312\n"
     ]
    }
   ],
   "source": [
    "print(\"Cumulative Return : \", cumulative_reward(max_sum_score, buy_sell_sentiment))"
   ]
  },
  {
   "cell_type": "markdown",
   "metadata": {},
   "source": [
    "We perform less with this technique"
   ]
  },
  {
   "cell_type": "markdown",
   "metadata": {},
   "source": [
    "We take some threshold only the value greater than this into account, with mean of the day"
   ]
  },
  {
   "cell_type": "code",
   "execution_count": 411,
   "metadata": {},
   "outputs": [],
   "source": [
    "threshold_input = prepare_dataset(\"/Users/tony/Desktop/Antoine/Semestre/9.Financial ML/ProjectFinancialNews/data/msft_roberta_output.csv\", ['Positive', 'Negative', 'Neutral'])\n",
    "THRESHOLD = 0.5"
   ]
  },
  {
   "cell_type": "code",
   "execution_count": 412,
   "metadata": {},
   "outputs": [],
   "source": [
    "def replace_below_threshold(arr, threshold):\n",
    "    return [x for x in arr if x >= threshold]\n",
    "\n",
    "columns = ['Positive', 'Negative', 'Neutral']\n",
    "\n",
    "for col in columns:\n",
    "    threshold_input[col] = threshold_input[col].apply(lambda arr: replace_below_threshold(arr, threshold=THRESHOLD))"
   ]
  },
  {
   "cell_type": "code",
   "execution_count": 413,
   "metadata": {},
   "outputs": [
    {
     "data": {
      "text/html": [
       "<div>\n",
       "<style scoped>\n",
       "    .dataframe tbody tr th:only-of-type {\n",
       "        vertical-align: middle;\n",
       "    }\n",
       "\n",
       "    .dataframe tbody tr th {\n",
       "        vertical-align: top;\n",
       "    }\n",
       "\n",
       "    .dataframe thead th {\n",
       "        text-align: right;\n",
       "    }\n",
       "</style>\n",
       "<table border=\"1\" class=\"dataframe\">\n",
       "  <thead>\n",
       "    <tr style=\"text-align: right;\">\n",
       "      <th></th>\n",
       "      <th>Date</th>\n",
       "      <th>Positive</th>\n",
       "      <th>Negative</th>\n",
       "      <th>Neutral</th>\n",
       "      <th>Close</th>\n",
       "    </tr>\n",
       "  </thead>\n",
       "  <tbody>\n",
       "    <tr>\n",
       "      <th>0</th>\n",
       "      <td>2021-01-04</td>\n",
       "      <td>[0.7729113101959229, 0.9503400325775146]</td>\n",
       "      <td>[]</td>\n",
       "      <td>[0.9998577833175659, 0.9998621940612793, 0.999...</td>\n",
       "      <td>211.996613</td>\n",
       "    </tr>\n",
       "    <tr>\n",
       "      <th>1</th>\n",
       "      <td>2021-01-05</td>\n",
       "      <td>[0.9276857972145081, 0.9853912591934204, 0.997...</td>\n",
       "      <td>[0.9968718886375427, 0.9968718886375427, 0.996...</td>\n",
       "      <td>[0.99986732006073, 0.9998586177825928, 0.99975...</td>\n",
       "      <td>212.201111</td>\n",
       "    </tr>\n",
       "    <tr>\n",
       "      <th>2</th>\n",
       "      <td>2021-01-06</td>\n",
       "      <td>[0.9927652478218079, 0.9984225034713745, 0.992...</td>\n",
       "      <td>[]</td>\n",
       "      <td>[0.9998841285705566, 0.878739595413208, 0.9998...</td>\n",
       "      <td>206.698883</td>\n",
       "    </tr>\n",
       "    <tr>\n",
       "      <th>3</th>\n",
       "      <td>2021-01-07</td>\n",
       "      <td>[]</td>\n",
       "      <td>[0.9986888766288757, 0.9969198703765869, 0.998...</td>\n",
       "      <td>[0.9993368983268738, 0.9997250437736511, 0.999...</td>\n",
       "      <td>212.580933</td>\n",
       "    </tr>\n",
       "    <tr>\n",
       "      <th>4</th>\n",
       "      <td>2021-01-08</td>\n",
       "      <td>[]</td>\n",
       "      <td>[]</td>\n",
       "      <td>[0.9998905658721924, 0.9998904466629028, 0.999...</td>\n",
       "      <td>213.876129</td>\n",
       "    </tr>\n",
       "  </tbody>\n",
       "</table>\n",
       "</div>"
      ],
      "text/plain": [
       "         Date                                           Positive  \\\n",
       "0  2021-01-04           [0.7729113101959229, 0.9503400325775146]   \n",
       "1  2021-01-05  [0.9276857972145081, 0.9853912591934204, 0.997...   \n",
       "2  2021-01-06  [0.9927652478218079, 0.9984225034713745, 0.992...   \n",
       "3  2021-01-07                                                 []   \n",
       "4  2021-01-08                                                 []   \n",
       "\n",
       "                                            Negative  \\\n",
       "0                                                 []   \n",
       "1  [0.9968718886375427, 0.9968718886375427, 0.996...   \n",
       "2                                                 []   \n",
       "3  [0.9986888766288757, 0.9969198703765869, 0.998...   \n",
       "4                                                 []   \n",
       "\n",
       "                                             Neutral       Close  \n",
       "0  [0.9998577833175659, 0.9998621940612793, 0.999...  211.996613  \n",
       "1  [0.99986732006073, 0.9998586177825928, 0.99975...  212.201111  \n",
       "2  [0.9998841285705566, 0.878739595413208, 0.9998...  206.698883  \n",
       "3  [0.9993368983268738, 0.9997250437736511, 0.999...  212.580933  \n",
       "4  [0.9998905658721924, 0.9998904466629028, 0.999...  213.876129  "
      ]
     },
     "execution_count": 413,
     "metadata": {},
     "output_type": "execute_result"
    }
   ],
   "source": [
    "threshold_input.head()"
   ]
  },
  {
   "cell_type": "code",
   "execution_count": 414,
   "metadata": {},
   "outputs": [],
   "source": [
    "threshold_input[['Positive', 'Negative', 'Neutral']] = threshold_input[['Positive', 'Negative', 'Neutral']].applymap(len)"
   ]
  },
  {
   "cell_type": "code",
   "execution_count": 415,
   "metadata": {},
   "outputs": [
    {
     "data": {
      "text/html": [
       "<div>\n",
       "<style scoped>\n",
       "    .dataframe tbody tr th:only-of-type {\n",
       "        vertical-align: middle;\n",
       "    }\n",
       "\n",
       "    .dataframe tbody tr th {\n",
       "        vertical-align: top;\n",
       "    }\n",
       "\n",
       "    .dataframe thead th {\n",
       "        text-align: right;\n",
       "    }\n",
       "</style>\n",
       "<table border=\"1\" class=\"dataframe\">\n",
       "  <thead>\n",
       "    <tr style=\"text-align: right;\">\n",
       "      <th></th>\n",
       "      <th>Date</th>\n",
       "      <th>Positive</th>\n",
       "      <th>Negative</th>\n",
       "      <th>Neutral</th>\n",
       "      <th>Close</th>\n",
       "    </tr>\n",
       "  </thead>\n",
       "  <tbody>\n",
       "    <tr>\n",
       "      <th>0</th>\n",
       "      <td>2021-01-04</td>\n",
       "      <td>2</td>\n",
       "      <td>0</td>\n",
       "      <td>5</td>\n",
       "      <td>211.996613</td>\n",
       "    </tr>\n",
       "    <tr>\n",
       "      <th>1</th>\n",
       "      <td>2021-01-05</td>\n",
       "      <td>8</td>\n",
       "      <td>3</td>\n",
       "      <td>17</td>\n",
       "      <td>212.201111</td>\n",
       "    </tr>\n",
       "    <tr>\n",
       "      <th>2</th>\n",
       "      <td>2021-01-06</td>\n",
       "      <td>5</td>\n",
       "      <td>0</td>\n",
       "      <td>8</td>\n",
       "      <td>206.698883</td>\n",
       "    </tr>\n",
       "    <tr>\n",
       "      <th>3</th>\n",
       "      <td>2021-01-07</td>\n",
       "      <td>0</td>\n",
       "      <td>3</td>\n",
       "      <td>19</td>\n",
       "      <td>212.580933</td>\n",
       "    </tr>\n",
       "    <tr>\n",
       "      <th>4</th>\n",
       "      <td>2021-01-08</td>\n",
       "      <td>0</td>\n",
       "      <td>0</td>\n",
       "      <td>8</td>\n",
       "      <td>213.876129</td>\n",
       "    </tr>\n",
       "  </tbody>\n",
       "</table>\n",
       "</div>"
      ],
      "text/plain": [
       "         Date  Positive  Negative  Neutral       Close\n",
       "0  2021-01-04         2         0        5  211.996613\n",
       "1  2021-01-05         8         3       17  212.201111\n",
       "2  2021-01-06         5         0        8  206.698883\n",
       "3  2021-01-07         0         3       19  212.580933\n",
       "4  2021-01-08         0         0        8  213.876129"
      ]
     },
     "execution_count": 415,
     "metadata": {},
     "output_type": "execute_result"
    }
   ],
   "source": [
    "threshold_input.head()"
   ]
  },
  {
   "cell_type": "code",
   "execution_count": 416,
   "metadata": {},
   "outputs": [],
   "source": [
    "threshold_input['Predictions'] = threshold_input.apply(take_max_count_prediction, axis=1)"
   ]
  },
  {
   "cell_type": "code",
   "execution_count": 417,
   "metadata": {},
   "outputs": [
    {
     "data": {
      "text/html": [
       "<div>\n",
       "<style scoped>\n",
       "    .dataframe tbody tr th:only-of-type {\n",
       "        vertical-align: middle;\n",
       "    }\n",
       "\n",
       "    .dataframe tbody tr th {\n",
       "        vertical-align: top;\n",
       "    }\n",
       "\n",
       "    .dataframe thead th {\n",
       "        text-align: right;\n",
       "    }\n",
       "</style>\n",
       "<table border=\"1\" class=\"dataframe\">\n",
       "  <thead>\n",
       "    <tr style=\"text-align: right;\">\n",
       "      <th></th>\n",
       "      <th>Date</th>\n",
       "      <th>Positive</th>\n",
       "      <th>Negative</th>\n",
       "      <th>Neutral</th>\n",
       "      <th>Close</th>\n",
       "      <th>Predictions</th>\n",
       "    </tr>\n",
       "  </thead>\n",
       "  <tbody>\n",
       "    <tr>\n",
       "      <th>0</th>\n",
       "      <td>2021-01-04</td>\n",
       "      <td>2</td>\n",
       "      <td>0</td>\n",
       "      <td>5</td>\n",
       "      <td>211.996613</td>\n",
       "      <td>2</td>\n",
       "    </tr>\n",
       "    <tr>\n",
       "      <th>1</th>\n",
       "      <td>2021-01-05</td>\n",
       "      <td>8</td>\n",
       "      <td>3</td>\n",
       "      <td>17</td>\n",
       "      <td>212.201111</td>\n",
       "      <td>2</td>\n",
       "    </tr>\n",
       "    <tr>\n",
       "      <th>2</th>\n",
       "      <td>2021-01-06</td>\n",
       "      <td>5</td>\n",
       "      <td>0</td>\n",
       "      <td>8</td>\n",
       "      <td>206.698883</td>\n",
       "      <td>2</td>\n",
       "    </tr>\n",
       "    <tr>\n",
       "      <th>3</th>\n",
       "      <td>2021-01-07</td>\n",
       "      <td>0</td>\n",
       "      <td>3</td>\n",
       "      <td>19</td>\n",
       "      <td>212.580933</td>\n",
       "      <td>2</td>\n",
       "    </tr>\n",
       "    <tr>\n",
       "      <th>4</th>\n",
       "      <td>2021-01-08</td>\n",
       "      <td>0</td>\n",
       "      <td>0</td>\n",
       "      <td>8</td>\n",
       "      <td>213.876129</td>\n",
       "      <td>2</td>\n",
       "    </tr>\n",
       "  </tbody>\n",
       "</table>\n",
       "</div>"
      ],
      "text/plain": [
       "         Date  Positive  Negative  Neutral       Close  Predictions\n",
       "0  2021-01-04         2         0        5  211.996613            2\n",
       "1  2021-01-05         8         3       17  212.201111            2\n",
       "2  2021-01-06         5         0        8  206.698883            2\n",
       "3  2021-01-07         0         3       19  212.580933            2\n",
       "4  2021-01-08         0         0        8  213.876129            2"
      ]
     },
     "execution_count": 417,
     "metadata": {},
     "output_type": "execute_result"
    }
   ],
   "source": [
    "threshold_input.head()"
   ]
  },
  {
   "cell_type": "code",
   "execution_count": 418,
   "metadata": {},
   "outputs": [
    {
     "name": "stdout",
     "output_type": "stream",
     "text": [
      "Cumulative Return :  45.48675537109375\n"
     ]
    }
   ],
   "source": [
    "print(\"Cumulative Return : \", cumulative_reward(threshold_input, buy_sell_sentiment))"
   ]
  },
  {
   "cell_type": "code",
   "execution_count": 419,
   "metadata": {},
   "outputs": [],
   "source": [
    "def threshold_test():\n",
    "    THRESHOLD_ARRAY = [0.1, 0.2, 0.3, 0.4, 0.5, 0.6, 0.7, 0.8, 0.85, 0.9, 0.95, 0.99]\n",
    "    for THRESHOLD in THRESHOLD_ARRAY:\n",
    "        threshold_input = prepare_dataset(\"/Users/tony/Desktop/Antoine/Semestre/9.Financial ML/ProjectFinancialNews/data/msft_roberta_output.csv\", ['Positive', 'Negative', 'Neutral'])\n",
    "        \n",
    "        columns = ['Positive', 'Negative', 'Neutral']\n",
    "        for col in columns:\n",
    "            threshold_input[col] = threshold_input[col].apply(lambda arr: replace_below_threshold(arr, threshold=THRESHOLD))        \n",
    "            \n",
    "        threshold_input[['Positive', 'Negative', 'Neutral']] = threshold_input[['Positive', 'Negative', 'Neutral']].applymap(len)\n",
    "        \n",
    "        threshold_input['Predictions'] = threshold_input.apply(take_max_count_prediction, axis=1)\n",
    "        \n",
    "        print(\"Threshold : \", THRESHOLD, \" Cumulative Return : \", cumulative_reward(threshold_input, buy_sell_sentiment))"
   ]
  },
  {
   "cell_type": "code",
   "execution_count": 420,
   "metadata": {},
   "outputs": [
    {
     "name": "stdout",
     "output_type": "stream",
     "text": [
      "Threshold :  0.1  Cumulative Return :  48.290008544921875\n",
      "Threshold :  0.2  Cumulative Return :  47.42250061035156\n",
      "Threshold :  0.3  Cumulative Return :  47.42250061035156\n",
      "Threshold :  0.4  Cumulative Return :  41.08770751953125\n",
      "Threshold :  0.5  Cumulative Return :  45.48675537109375\n",
      "Threshold :  0.6  Cumulative Return :  45.48675537109375\n",
      "Threshold :  0.7  Cumulative Return :  51.82154846191406\n",
      "Threshold :  0.8  Cumulative Return :  47.42250061035156\n",
      "Threshold :  0.85  Cumulative Return :  32.73236083984375\n",
      "Threshold :  0.9  Cumulative Return :  32.73236083984375\n",
      "Threshold :  0.95  Cumulative Return :  37.13140869140625\n",
      "Threshold :  0.99  Cumulative Return :  28.177627563476562\n"
     ]
    }
   ],
   "source": [
    "threshold_test()"
   ]
  },
  {
   "cell_type": "markdown",
   "metadata": {},
   "source": [
    "Weird, better is the filter the worst is the result"
   ]
  },
  {
   "cell_type": "markdown",
   "metadata": {},
   "source": [
    "# Momemntum X News trading strategy"
   ]
  },
  {
   "cell_type": "markdown",
   "metadata": {},
   "source": [
    "We are going to use the better we saw at this stage the Threshold 0.7"
   ]
  },
  {
   "cell_type": "markdown",
   "metadata": {},
   "source": [
    "## With MACD"
   ]
  },
  {
   "cell_type": "markdown",
   "metadata": {},
   "source": [
    "## AND need both signals to be positive"
   ]
  },
  {
   "cell_type": "code",
   "execution_count": 421,
   "metadata": {},
   "outputs": [],
   "source": [
    "def buy_sell_momentum_sentiment(signal):\n",
    "    Buy = [np.nan for i in range(0, len(signal))]\n",
    "    Sell = [np.nan for i in range(0, len(signal))]\n",
    "    flag = -1\n",
    "\n",
    "    for i in range(0, len(signal)):\n",
    "        if signal['MACD'][i] > signal['Signal Line'][i] and signal['Predictions'][i] == 0:  # Positive momentum and sentiment\n",
    "            if flag != 1:\n",
    "                Buy[i] = signal['Close'][i]\n",
    "                flag = 1\n",
    "        elif signal['MACD'][i] < signal['Signal Line'][i] and signal['Predictions'][i] == 1:  # Negative momentum and sentiment\n",
    "            if flag != 0:\n",
    "                Sell[i] = signal['Close'][i]\n",
    "                flag = 0\n",
    "\n",
    "    return (Buy, Sell)"
   ]
  },
  {
   "cell_type": "code",
   "execution_count": 427,
   "metadata": {},
   "outputs": [],
   "source": [
    "stocks = get_stock('MSFT')"
   ]
  },
  {
   "cell_type": "code",
   "execution_count": 428,
   "metadata": {},
   "outputs": [],
   "source": [
    "# Calculate Short Term Exponential Moving Average\n",
    "ShortEMA = stocks.Close.ewm(span=12, adjust=False).mean() \n",
    "# Calculate Long Term Exponential Moving Average\n",
    "LongEMA = stocks.Close.ewm(span=26, adjust=False).mean() \n",
    "# Calculate MACD line\n",
    "MACD = ShortEMA - LongEMA\n",
    "# Calculate Signal line\n",
    "signal = MACD.ewm(span=9, adjust=False).mean()"
   ]
  },
  {
   "cell_type": "code",
   "execution_count": 429,
   "metadata": {},
   "outputs": [],
   "source": [
    "stocks['MACD'] = MACD\n",
    "stocks['Signal Line'] = signal"
   ]
  },
  {
   "cell_type": "code",
   "execution_count": 432,
   "metadata": {},
   "outputs": [
    {
     "name": "stdout",
     "output_type": "stream",
     "text": [
      "Threshold :  0.7  Cumulative Return :  20.967803955078125\n"
     ]
    }
   ],
   "source": [
    "THRESHOLD = 0.7\n",
    "\n",
    "MACD_news_input = prepare_dataset(\"/Users/tony/Desktop/Antoine/Semestre/9.Financial ML/ProjectFinancialNews/data/msft_roberta_output.csv\", ['Positive', 'Negative', 'Neutral'])\n",
    "MACD_news_input = pd.merge(MACD_news_input, stocks[['Date', 'MACD', 'Signal Line']], on='Date', how='left')\n",
    "\n",
    "columns = ['Positive', 'Negative', 'Neutral']\n",
    "\n",
    "for col in columns:\n",
    "    MACD_news_input[col] = MACD_news_input[col].apply(lambda arr: replace_below_threshold(arr, threshold=THRESHOLD))        \n",
    "    \n",
    "MACD_news_input[['Positive', 'Negative', 'Neutral']] = MACD_news_input[['Positive', 'Negative', 'Neutral']].applymap(len)\n",
    "\n",
    "MACD_news_input['Predictions'] = MACD_news_input.apply(take_max_count_prediction, axis=1)\n",
    "\n",
    "print(\"Threshold : \", THRESHOLD, \" Cumulative Return : \", cumulative_reward(MACD_news_input, buy_sell_momentum_sentiment))"
   ]
  },
  {
   "cell_type": "markdown",
   "metadata": {},
   "source": [
    "## OR need one of the signal to be positive"
   ]
  },
  {
   "cell_type": "code",
   "execution_count": 433,
   "metadata": {},
   "outputs": [],
   "source": [
    "def buy_sell_momentum_sentiment(signal):\n",
    "    Buy = [np.nan for i in range(0, len(signal))]\n",
    "    Sell = [np.nan for i in range(0, len(signal))]\n",
    "    flag = -1\n",
    "\n",
    "    for i in range(0, len(signal)):\n",
    "        if signal['MACD'][i] > signal['Signal Line'][i] or signal['Predictions'][i] == 0:  # Positive momentum and sentiment\n",
    "            if flag != 1:\n",
    "                Buy[i] = signal['Close'][i]\n",
    "                flag = 1\n",
    "        elif signal['MACD'][i] < signal['Signal Line'][i] or signal['Predictions'][i] == 1:  # Negative momentum and sentiment\n",
    "            if flag != 0:\n",
    "                Sell[i] = signal['Close'][i]\n",
    "                flag = 0\n",
    "\n",
    "    return (Buy, Sell)"
   ]
  },
  {
   "cell_type": "code",
   "execution_count": 434,
   "metadata": {},
   "outputs": [],
   "source": [
    "stocks = get_stock('MSFT')"
   ]
  },
  {
   "cell_type": "code",
   "execution_count": 435,
   "metadata": {},
   "outputs": [],
   "source": [
    "# Calculate Short Term Exponential Moving Average\n",
    "ShortEMA = stocks.Close.ewm(span=12, adjust=False).mean() \n",
    "# Calculate Long Term Exponential Moving Average\n",
    "LongEMA = stocks.Close.ewm(span=26, adjust=False).mean() \n",
    "# Calculate MACD line\n",
    "MACD = ShortEMA - LongEMA\n",
    "# Calculate Signal line\n",
    "signal = MACD.ewm(span=9, adjust=False).mean()"
   ]
  },
  {
   "cell_type": "code",
   "execution_count": 436,
   "metadata": {},
   "outputs": [],
   "source": [
    "stocks['MACD'] = MACD\n",
    "stocks['Signal Line'] = signal"
   ]
  },
  {
   "cell_type": "code",
   "execution_count": 437,
   "metadata": {},
   "outputs": [
    {
     "name": "stdout",
     "output_type": "stream",
     "text": [
      "Threshold :  0.7  Cumulative Return :  10.322128295898438\n"
     ]
    }
   ],
   "source": [
    "THRESHOLD = 0.7\n",
    "\n",
    "MACD_news_input = prepare_dataset(\"/Users/tony/Desktop/Antoine/Semestre/9.Financial ML/ProjectFinancialNews/data/msft_roberta_output.csv\", ['Positive', 'Negative', 'Neutral'])\n",
    "MACD_news_input = pd.merge(MACD_news_input, stocks[['Date', 'MACD', 'Signal Line']], on='Date', how='left')\n",
    "\n",
    "columns = ['Positive', 'Negative', 'Neutral']\n",
    "\n",
    "for col in columns:\n",
    "    MACD_news_input[col] = MACD_news_input[col].apply(lambda arr: replace_below_threshold(arr, threshold=THRESHOLD))        \n",
    "    \n",
    "MACD_news_input[['Positive', 'Negative', 'Neutral']] = MACD_news_input[['Positive', 'Negative', 'Neutral']].applymap(len)\n",
    "\n",
    "MACD_news_input['Predictions'] = MACD_news_input.apply(take_max_count_prediction, axis=1)\n",
    "\n",
    "print(\"Threshold : \", THRESHOLD, \" Cumulative Return : \", cumulative_reward(MACD_news_input, buy_sell_momentum_sentiment))"
   ]
  },
  {
   "cell_type": "markdown",
   "metadata": {},
   "source": [
    "## With RSI"
   ]
  },
  {
   "cell_type": "markdown",
   "metadata": {},
   "source": [
    "## AND need both signals to be positive"
   ]
  },
  {
   "cell_type": "code",
   "execution_count": 455,
   "metadata": {},
   "outputs": [],
   "source": [
    "def buy_sell_RSI_sentiment(signal, upper=70, lower=30):\n",
    "    Buy = [np.nan for i in range(0, len(signal))]\n",
    "    Sell = [np.nan for i in range(0, len(signal))]\n",
    "    flag = -1\n",
    "\n",
    "    for i in range(0, len(signal)):\n",
    "        if signal['RSI'][i] < lower and signal['Predictions'][i] == 0:\n",
    "            if flag != 1:\n",
    "                Buy[i] = signal['Close'][i]\n",
    "                flag = 1\n",
    "        elif signal['RSI'][i] > upper and signal['Predictions'][i] == 1:\n",
    "            if flag != 0:\n",
    "                Sell[i] = signal['Close'][i]\n",
    "                flag = 0\n",
    "\n",
    "    return (Buy, Sell)"
   ]
  },
  {
   "cell_type": "code",
   "execution_count": 456,
   "metadata": {},
   "outputs": [],
   "source": [
    "def calculate_RSI(data, time_window):\n",
    "    diff = data.diff(1).dropna()        # diff in one field(one day)\n",
    "\n",
    "    #this preservers dimensions off diff values\n",
    "    up_chg = 0 * diff\n",
    "    down_chg = 0 * diff\n",
    "    \n",
    "    # up change is equal to the positive difference, otherwise equal to zero\n",
    "    up_chg[diff > 0] = diff[ diff>0 ]\n",
    "    \n",
    "    # down change is equal to negative deifference, otherwise equal to zero\n",
    "    down_chg[diff < 0] = diff[ diff < 0 ]\n",
    "\n",
    "    # we set com=time_window-1 so we get decay alpha=1/time_window\n",
    "    up_chg_avg   = up_chg.ewm(com=time_window-1 , min_periods=time_window).mean()\n",
    "    down_chg_avg = down_chg.ewm(com=time_window-1 , min_periods=time_window).mean()\n",
    "    \n",
    "    rs = abs(up_chg_avg/down_chg_avg)\n",
    "    rsi = 100 - 100/(1+rs)\n",
    "    return rsi\n",
    "\n",
    "stocks = get_stock('MSFT')\n",
    "\n",
    "stocks['RSI'] = calculate_RSI(stocks['Close'], 14)"
   ]
  },
  {
   "cell_type": "code",
   "execution_count": 457,
   "metadata": {},
   "outputs": [
    {
     "name": "stdout",
     "output_type": "stream",
     "text": [
      "Threshold :  0.7  Cumulative Return :  -44.93894958496094\n"
     ]
    }
   ],
   "source": [
    "THRESHOLD = 0.7\n",
    "\n",
    "RSI_news_input = prepare_dataset(\"/Users/tony/Desktop/Antoine/Semestre/9.Financial ML/ProjectFinancialNews/data/msft_roberta_output.csv\", ['Positive', 'Negative', 'Neutral'])\n",
    "RSI_news_input = pd.merge(RSI_news_input, stocks[['Date', 'RSI']], on='Date', how='left')\n",
    "\n",
    "columns = ['Positive', 'Negative', 'Neutral']\n",
    "\n",
    "for col in columns:\n",
    "    RSI_news_input[col] = RSI_news_input[col].apply(lambda arr: replace_below_threshold(arr, threshold=THRESHOLD))        \n",
    "    \n",
    "RSI_news_input[['Positive', 'Negative', 'Neutral']] = RSI_news_input[['Positive', 'Negative', 'Neutral']].applymap(len)\n",
    "\n",
    "RSI_news_input['Predictions'] = RSI_news_input.apply(take_max_count_prediction, axis=1)\n",
    "\n",
    "print(\"Threshold : \", THRESHOLD, \" Cumulative Return : \", cumulative_reward(RSI_news_input, buy_sell_RSI_sentiment))"
   ]
  },
  {
   "cell_type": "markdown",
   "metadata": {},
   "source": [
    "## OR need one of the signal to be positive"
   ]
  },
  {
   "cell_type": "code",
   "execution_count": 460,
   "metadata": {},
   "outputs": [],
   "source": [
    "def buy_sell_RSI_sentiment(signal, upper=70, lower=30):\n",
    "    Buy = [np.nan for i in range(0, len(signal))]\n",
    "    Sell = [np.nan for i in range(0, len(signal))]\n",
    "    flag = -1\n",
    "\n",
    "    for i in range(0, len(signal)):\n",
    "        if signal['RSI'][i] < lower or signal['Predictions'][i] == 0:\n",
    "            if flag != 1:\n",
    "                Buy[i] = signal['Close'][i]\n",
    "                flag = 1\n",
    "        elif signal['RSI'][i] > upper or signal['Predictions'][i] == 1:\n",
    "            if flag != 0:\n",
    "                Sell[i] = signal['Close'][i]\n",
    "                flag = 0\n",
    "\n",
    "    return (Buy, Sell)"
   ]
  },
  {
   "cell_type": "code",
   "execution_count": 461,
   "metadata": {},
   "outputs": [
    {
     "name": "stdout",
     "output_type": "stream",
     "text": [
      "Threshold :  0.7  Cumulative Return :  21.994796752929688\n"
     ]
    }
   ],
   "source": [
    "THRESHOLD = 0.7\n",
    "\n",
    "RSI_news_input = prepare_dataset(\"/Users/tony/Desktop/Antoine/Semestre/9.Financial ML/ProjectFinancialNews/data/msft_roberta_output.csv\", ['Positive', 'Negative', 'Neutral'])\n",
    "RSI_news_input = pd.merge(RSI_news_input, stocks[['Date', 'RSI']], on='Date', how='left')\n",
    "\n",
    "columns = ['Positive', 'Negative', 'Neutral']\n",
    "\n",
    "for col in columns:\n",
    "    RSI_news_input[col] = RSI_news_input[col].apply(lambda arr: replace_below_threshold(arr, threshold=THRESHOLD))        \n",
    "    \n",
    "RSI_news_input[['Positive', 'Negative', 'Neutral']] = RSI_news_input[['Positive', 'Negative', 'Neutral']].applymap(len)\n",
    "\n",
    "RSI_news_input['Predictions'] = RSI_news_input.apply(take_max_count_prediction, axis=1)\n",
    "\n",
    "print(\"Threshold : \", THRESHOLD, \" Cumulative Return : \", cumulative_reward(RSI_news_input, buy_sell_RSI_sentiment))"
   ]
  }
 ],
 "metadata": {
  "kernelspec": {
   "display_name": "myenv",
   "language": "python",
   "name": "python3"
  },
  "language_info": {
   "codemirror_mode": {
    "name": "ipython",
    "version": 3
   },
   "file_extension": ".py",
   "mimetype": "text/x-python",
   "name": "python",
   "nbconvert_exporter": "python",
   "pygments_lexer": "ipython3",
   "version": "3.9.16"
  }
 },
 "nbformat": 4,
 "nbformat_minor": 2
}
