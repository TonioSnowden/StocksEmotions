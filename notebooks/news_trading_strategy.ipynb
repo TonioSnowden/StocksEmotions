{
 "cells": [
  {
   "cell_type": "code",
   "execution_count": 95,
   "metadata": {},
   "outputs": [],
   "source": [
    "import pandas as pd\n",
    "import numpy as np\n",
    "import yfinance as yf\n",
    "import itertools"
   ]
  },
  {
   "cell_type": "markdown",
   "metadata": {},
   "source": [
    "# Useful tool"
   ]
  },
  {
   "cell_type": "code",
   "execution_count": 418,
   "metadata": {},
   "outputs": [],
   "source": [
    "def get_stock(ticker):\n",
    "    # Get data on this ticker\n",
    "    tickerData = yf.Ticker(ticker)\n",
    "\n",
    "    # Get the historical prices for this ticker\n",
    "    stocks = tickerData.history(period='1d', start='2021-1-1', end='2023-1-1')\n",
    "\n",
    "    stocks.reset_index(inplace=True)\n",
    "    stocks.Date = pd.to_datetime(stocks.Date).dt.date\n",
    "    return stocks"
   ]
  },
  {
   "cell_type": "code",
   "execution_count": 419,
   "metadata": {},
   "outputs": [],
   "source": [
    "stock = 'GS'\n",
    "path = \"/Users/tony/Desktop/Antoine/Semestre/9.Financial ML/ProjectFinancialNews/data/GS_roberta_output.csv\"\n",
    "stocks = get_stock(stock)"
   ]
  },
  {
   "cell_type": "code",
   "execution_count": 420,
   "metadata": {},
   "outputs": [],
   "source": [
    "def cumulative_reward_long(df, func):\n",
    "    a = func(df)\n",
    "    buy_signal = a[0]\n",
    "    sell_signal = a[1]\n",
    "    buy_signal = [x for x in buy_signal if x is not np.nan]\n",
    "    sell_signal = [x for x in sell_signal if x is not np.nan]\n",
    "\n",
    "    # Assume we buy and sell at the close of the day\n",
    "    stock_Return = []\n",
    "    cash = 100  # Initial cash amount\n",
    "    for i in range(0, len(sell_signal)):\n",
    "        shares_to_buy = cash / buy_signal[i]\n",
    "        new_cash = shares_to_buy * sell_signal[i]\n",
    "        stock_Return.append(new_cash - cash)\n",
    "        cash = new_cash\n",
    "    \n",
    "    return np.sum(stock_Return), np.std(stock_Return)"
   ]
  },
  {
   "cell_type": "code",
   "execution_count": 421,
   "metadata": {},
   "outputs": [],
   "source": [
    "def cumulative_reward_short(df, func):\n",
    "    a = func(df)\n",
    "    short_signal = a[0]\n",
    "    cover_signal = a[1]\n",
    "    short_signal = [x for x in short_signal if x is not np.nan]\n",
    "    cover_signal = [x for x in cover_signal if x is not np.nan]\n",
    "\n",
    "    # Assume we sell short and then cover at the close of the day\n",
    "    stock_Return = []\n",
    "    cash = 100  # Initial cash amount\n",
    "    for i in range(0, len(cover_signal)):\n",
    "        shares_to_short = cash / short_signal[i]\n",
    "        new_cash = shares_to_short * cover_signal[i]\n",
    "        stock_Return.append(new_cash - cash)\n",
    "        cash = new_cash\n",
    "    \n",
    "    return np.sum(stock_Return), np.std(stock_Return)"
   ]
  },
  {
   "cell_type": "code",
   "execution_count": 422,
   "metadata": {},
   "outputs": [],
   "source": [
    "def split_into_array(s):\n",
    "    # Remove the leading and trailing square brackets and single quotes\n",
    "    s = s[1:-1]\n",
    "\n",
    "    # Split the string into a list of sentences\n",
    "    integers = s.split(\", \")\n",
    "\n",
    "    return integers\n",
    "\n",
    "def merge_arrays(series):\n",
    "    return list(itertools.chain(*series.tolist()))\n",
    "\n",
    "def prepare_dataset(path, columns):\n",
    "    df = pd.read_csv(path)\n",
    "    \n",
    "    df['Predictions'] = df['Predictions'].apply(split_into_array).apply(np.array).apply(lambda x: x.astype(int))\n",
    "    df['Positive'] = df['Positive'].apply(split_into_array).apply(np.array).apply(lambda x: x.astype(float))\n",
    "    df['Negative'] = df['Negative'].apply(split_into_array).apply(np.array).apply(lambda x: x.astype(float))\n",
    "    df['Neutral'] = df['Neutral'].apply(split_into_array).apply(np.array).apply(lambda x: x.astype(float))\n",
    "    df['published'] = pd.to_datetime(df['published']).dt.date\n",
    "    \n",
    "    columns_df = columns.copy()\n",
    "    columns_df.insert(0, 'published')\n",
    "    \n",
    "    input = df[columns_df]\n",
    "    input = input.copy()\n",
    "    input.rename(columns={'published': 'Date'}, inplace=True)\n",
    "    \n",
    "    grouped_df = input.groupby('Date')[columns].agg(merge_arrays)    \n",
    "    grouped_df = pd.merge(grouped_df, stocks[['Date', 'Close']], on='Date', how='left')\n",
    "\n",
    "    grouped_df = grouped_df.dropna()\n",
    "    grouped_df = grouped_df.reset_index(drop=True)\n",
    "\n",
    "    return grouped_df"
   ]
  },
  {
   "cell_type": "markdown",
   "metadata": {},
   "source": [
    "# Simple positive negative strategys"
   ]
  },
  {
   "cell_type": "code",
   "execution_count": 423,
   "metadata": {},
   "outputs": [],
   "source": [
    "def buy_sell_sentiment(signal):\n",
    "    Buy = [np.nan for i in range(0, len(signal))]\n",
    "    Sell = [np.nan for i in range(0, len(signal))]\n",
    "    flag = 0\n",
    "\n",
    "    for i in range(0, len(signal)):\n",
    "        if signal['Predictions'][i] == 0:  # Positive sentiment\n",
    "            if flag != 1:\n",
    "                Buy[i] = signal['Close'][i]\n",
    "                flag = 1\n",
    "        elif signal['Predictions'][i] == 1:  # Negative sentiment\n",
    "            if flag != 0:\n",
    "                Sell[i] = signal['Close'][i]\n",
    "                flag = 0\n",
    "    return (Buy, Sell)"
   ]
  },
  {
   "cell_type": "code",
   "execution_count": 424,
   "metadata": {},
   "outputs": [],
   "source": [
    "def short_sell_sentiment(signal):\n",
    "    Short = [np.nan for i in range(0, len(signal))]\n",
    "    Sell = [np.nan for i in range(0, len(signal))]\n",
    "    flag = 0\n",
    "\n",
    "    for i in range(0, len(signal)):\n",
    "        if signal['Predictions'][i] == 1:  # Negative sentiment\n",
    "            if flag != 1:\n",
    "                Short[i] = signal['Close'][i]\n",
    "                flag = 1\n",
    "        elif signal['Predictions'][i] == 0:  # Positive sentiment\n",
    "            if flag != 0:\n",
    "                Sell[i] = signal['Close'][i]\n",
    "                flag = 0\n",
    "    return (Short, Sell)"
   ]
  },
  {
   "cell_type": "markdown",
   "metadata": {},
   "source": [
    "Simple first implementation we look at the sentiment of the news and if it is positive we buy and if it is negative we sell. We will use the sentiment of the news from the previous day to make our decision, by mean of the sentences in a same day."
   ]
  },
  {
   "cell_type": "code",
   "execution_count": 425,
   "metadata": {},
   "outputs": [],
   "source": [
    "simple_news_dataset = prepare_dataset(path, ['Predictions'])"
   ]
  },
  {
   "cell_type": "code",
   "execution_count": 426,
   "metadata": {},
   "outputs": [
    {
     "data": {
      "text/html": [
       "<div>\n",
       "<style scoped>\n",
       "    .dataframe tbody tr th:only-of-type {\n",
       "        vertical-align: middle;\n",
       "    }\n",
       "\n",
       "    .dataframe tbody tr th {\n",
       "        vertical-align: top;\n",
       "    }\n",
       "\n",
       "    .dataframe thead th {\n",
       "        text-align: right;\n",
       "    }\n",
       "</style>\n",
       "<table border=\"1\" class=\"dataframe\">\n",
       "  <thead>\n",
       "    <tr style=\"text-align: right;\">\n",
       "      <th></th>\n",
       "      <th>Date</th>\n",
       "      <th>Predictions</th>\n",
       "      <th>Close</th>\n",
       "    </tr>\n",
       "  </thead>\n",
       "  <tbody>\n",
       "    <tr>\n",
       "      <th>0</th>\n",
       "      <td>2021-01-04</td>\n",
       "      <td>[0, 2, 2, 2, 0, 2, 2, 2, 2, 2, 0, 2, 2, 2, 0]</td>\n",
       "      <td>245.939194</td>\n",
       "    </tr>\n",
       "    <tr>\n",
       "      <th>1</th>\n",
       "      <td>2021-01-05</td>\n",
       "      <td>[0, 0, 0, 0, 2, 0, 1]</td>\n",
       "      <td>251.442734</td>\n",
       "    </tr>\n",
       "    <tr>\n",
       "      <th>2</th>\n",
       "      <td>2021-01-06</td>\n",
       "      <td>[1, 2, 2, 2, 1, 2, 2, 2, 2, 0, 2, 2, 2, 2, 0, 0]</td>\n",
       "      <td>265.011108</td>\n",
       "    </tr>\n",
       "    <tr>\n",
       "      <th>3</th>\n",
       "      <td>2021-01-07</td>\n",
       "      <td>[2, 0, 1, 2, 2, 0, 0, 0, 0]</td>\n",
       "      <td>270.672363</td>\n",
       "    </tr>\n",
       "    <tr>\n",
       "      <th>4</th>\n",
       "      <td>2021-01-08</td>\n",
       "      <td>[0, 2, 2, 1, 0, 2, 2, 0, 0, 2, 2]</td>\n",
       "      <td>269.215302</td>\n",
       "    </tr>\n",
       "    <tr>\n",
       "      <th>...</th>\n",
       "      <td>...</td>\n",
       "      <td>...</td>\n",
       "      <td>...</td>\n",
       "    </tr>\n",
       "    <tr>\n",
       "      <th>497</th>\n",
       "      <td>2022-12-23</td>\n",
       "      <td>[1, 2, 1, 2, 2, 2, 2, 2, 0, 2, 2, 2, 0, 1, 2, ...</td>\n",
       "      <td>334.895905</td>\n",
       "    </tr>\n",
       "    <tr>\n",
       "      <th>498</th>\n",
       "      <td>2022-12-27</td>\n",
       "      <td>[1, 0, 1, 1, 0, 2, 1, 1, 2, 0, 1, 0, 1, 0, 1, ...</td>\n",
       "      <td>331.464630</td>\n",
       "    </tr>\n",
       "    <tr>\n",
       "      <th>499</th>\n",
       "      <td>2022-12-28</td>\n",
       "      <td>[2, 2, 0, 0, 2, 2, 2, 2, 2, 2, 1, 1, 0, 1, 2, ...</td>\n",
       "      <td>330.398438</td>\n",
       "    </tr>\n",
       "    <tr>\n",
       "      <th>500</th>\n",
       "      <td>2022-12-29</td>\n",
       "      <td>[0, 2, 2, 1, 1, 2, 0, 1, 2, 2, 2, 2, 2, 2, 1, ...</td>\n",
       "      <td>332.879791</td>\n",
       "    </tr>\n",
       "    <tr>\n",
       "      <th>501</th>\n",
       "      <td>2022-12-30</td>\n",
       "      <td>[0, 0, 1, 2, 2, 0, 1, 1, 0, 0, 1, 1, 0, 1, 0]</td>\n",
       "      <td>332.831329</td>\n",
       "    </tr>\n",
       "  </tbody>\n",
       "</table>\n",
       "<p>502 rows × 3 columns</p>\n",
       "</div>"
      ],
      "text/plain": [
       "           Date                                        Predictions       Close\n",
       "0    2021-01-04      [0, 2, 2, 2, 0, 2, 2, 2, 2, 2, 0, 2, 2, 2, 0]  245.939194\n",
       "1    2021-01-05                              [0, 0, 0, 0, 2, 0, 1]  251.442734\n",
       "2    2021-01-06   [1, 2, 2, 2, 1, 2, 2, 2, 2, 0, 2, 2, 2, 2, 0, 0]  265.011108\n",
       "3    2021-01-07                        [2, 0, 1, 2, 2, 0, 0, 0, 0]  270.672363\n",
       "4    2021-01-08                  [0, 2, 2, 1, 0, 2, 2, 0, 0, 2, 2]  269.215302\n",
       "..          ...                                                ...         ...\n",
       "497  2022-12-23  [1, 2, 1, 2, 2, 2, 2, 2, 0, 2, 2, 2, 0, 1, 2, ...  334.895905\n",
       "498  2022-12-27  [1, 0, 1, 1, 0, 2, 1, 1, 2, 0, 1, 0, 1, 0, 1, ...  331.464630\n",
       "499  2022-12-28  [2, 2, 0, 0, 2, 2, 2, 2, 2, 2, 1, 1, 0, 1, 2, ...  330.398438\n",
       "500  2022-12-29  [0, 2, 2, 1, 1, 2, 0, 1, 2, 2, 2, 2, 2, 2, 1, ...  332.879791\n",
       "501  2022-12-30      [0, 0, 1, 2, 2, 0, 1, 1, 0, 0, 1, 1, 0, 1, 0]  332.831329\n",
       "\n",
       "[502 rows x 3 columns]"
      ]
     },
     "execution_count": 426,
     "metadata": {},
     "output_type": "execute_result"
    }
   ],
   "source": [
    "simple_news_dataset"
   ]
  },
  {
   "cell_type": "code",
   "execution_count": 427,
   "metadata": {},
   "outputs": [],
   "source": [
    "from collections import Counter\n",
    "\n",
    "def take_max_count_prediction(lst):\n",
    "    counts = Counter(lst)\n",
    "    max_count = max(counts.values())\n",
    "    modes = [k for k, v in counts.items() if v == max_count]\n",
    "    \n",
    "    if len(modes) == 1:\n",
    "        return modes[0]\n",
    "    elif len(modes) == 3:\n",
    "        return 2\n",
    "    elif 0 in modes and 1 in modes:\n",
    "        return 2\n",
    "    elif 0 in modes and 2 in modes:\n",
    "        return 0\n",
    "    elif 1 in modes and 2 in modes:\n",
    "        return 1\n",
    "    else:\n",
    "        return 2\n",
    "\n",
    "simple_news_dataset['Predictions'] = simple_news_dataset['Predictions'].apply(take_max_count_prediction)"
   ]
  },
  {
   "cell_type": "code",
   "execution_count": 428,
   "metadata": {},
   "outputs": [
    {
     "data": {
      "text/html": [
       "<div>\n",
       "<style scoped>\n",
       "    .dataframe tbody tr th:only-of-type {\n",
       "        vertical-align: middle;\n",
       "    }\n",
       "\n",
       "    .dataframe tbody tr th {\n",
       "        vertical-align: top;\n",
       "    }\n",
       "\n",
       "    .dataframe thead th {\n",
       "        text-align: right;\n",
       "    }\n",
       "</style>\n",
       "<table border=\"1\" class=\"dataframe\">\n",
       "  <thead>\n",
       "    <tr style=\"text-align: right;\">\n",
       "      <th></th>\n",
       "      <th>Date</th>\n",
       "      <th>Predictions</th>\n",
       "      <th>Close</th>\n",
       "    </tr>\n",
       "  </thead>\n",
       "  <tbody>\n",
       "    <tr>\n",
       "      <th>0</th>\n",
       "      <td>2021-01-04</td>\n",
       "      <td>2</td>\n",
       "      <td>245.939194</td>\n",
       "    </tr>\n",
       "    <tr>\n",
       "      <th>1</th>\n",
       "      <td>2021-01-05</td>\n",
       "      <td>0</td>\n",
       "      <td>251.442734</td>\n",
       "    </tr>\n",
       "    <tr>\n",
       "      <th>2</th>\n",
       "      <td>2021-01-06</td>\n",
       "      <td>2</td>\n",
       "      <td>265.011108</td>\n",
       "    </tr>\n",
       "    <tr>\n",
       "      <th>3</th>\n",
       "      <td>2021-01-07</td>\n",
       "      <td>0</td>\n",
       "      <td>270.672363</td>\n",
       "    </tr>\n",
       "    <tr>\n",
       "      <th>4</th>\n",
       "      <td>2021-01-08</td>\n",
       "      <td>2</td>\n",
       "      <td>269.215302</td>\n",
       "    </tr>\n",
       "  </tbody>\n",
       "</table>\n",
       "</div>"
      ],
      "text/plain": [
       "         Date  Predictions       Close\n",
       "0  2021-01-04            2  245.939194\n",
       "1  2021-01-05            0  251.442734\n",
       "2  2021-01-06            2  265.011108\n",
       "3  2021-01-07            0  270.672363\n",
       "4  2021-01-08            2  269.215302"
      ]
     },
     "execution_count": 428,
     "metadata": {},
     "output_type": "execute_result"
    }
   ],
   "source": [
    "simple_news_dataset.head()"
   ]
  },
  {
   "cell_type": "code",
   "execution_count": 429,
   "metadata": {},
   "outputs": [
    {
     "name": "stdout",
     "output_type": "stream",
     "text": [
      "Long Cumulative Return :  (21.717359539388895, 4.9899999114490905)\n",
      "Short Cumulative Return :  (8.750831770198062, 5.381610149173918)\n"
     ]
    }
   ],
   "source": [
    "print(\"Long Cumulative Return : \", cumulative_reward_long(simple_news_dataset, buy_sell_sentiment))\n",
    "print(\"Short Cumulative Return : \", cumulative_reward_short(simple_news_dataset, short_sell_sentiment))"
   ]
  },
  {
   "cell_type": "markdown",
   "metadata": {},
   "source": [
    "Now we take the maximum of the different sentences per day between positive and Negative"
   ]
  },
  {
   "cell_type": "code",
   "execution_count": 430,
   "metadata": {},
   "outputs": [
    {
     "data": {
      "text/html": [
       "<div>\n",
       "<style scoped>\n",
       "    .dataframe tbody tr th:only-of-type {\n",
       "        vertical-align: middle;\n",
       "    }\n",
       "\n",
       "    .dataframe tbody tr th {\n",
       "        vertical-align: top;\n",
       "    }\n",
       "\n",
       "    .dataframe thead th {\n",
       "        text-align: right;\n",
       "    }\n",
       "</style>\n",
       "<table border=\"1\" class=\"dataframe\">\n",
       "  <thead>\n",
       "    <tr style=\"text-align: right;\">\n",
       "      <th></th>\n",
       "      <th>Date</th>\n",
       "      <th>Positive</th>\n",
       "      <th>Negative</th>\n",
       "      <th>Neutral</th>\n",
       "      <th>Close</th>\n",
       "    </tr>\n",
       "  </thead>\n",
       "  <tbody>\n",
       "    <tr>\n",
       "      <th>0</th>\n",
       "      <td>2021-01-04</td>\n",
       "      <td>[0.9996306896209717, 4.568207441479899e-05, 5....</td>\n",
       "      <td>[0.00019008245726581663, 7.416177686536685e-05...</td>\n",
       "      <td>[0.00017915238277055323, 0.9998801946640015, 0...</td>\n",
       "      <td>245.939194</td>\n",
       "    </tr>\n",
       "    <tr>\n",
       "      <th>1</th>\n",
       "      <td>2021-01-05</td>\n",
       "      <td>[0.6521651148796082, 0.9712276458740234, 0.999...</td>\n",
       "      <td>[0.0004671250644605607, 0.004945231601595879, ...</td>\n",
       "      <td>[0.3473678231239319, 0.023827143013477325, 0.0...</td>\n",
       "      <td>251.442734</td>\n",
       "    </tr>\n",
       "    <tr>\n",
       "      <th>2</th>\n",
       "      <td>2021-01-06</td>\n",
       "      <td>[0.0011304820654913783, 5.7131750509142876e-05...</td>\n",
       "      <td>[0.9983174800872803, 7.38463131710887e-05, 7.1...</td>\n",
       "      <td>[0.0005520224221982062, 0.9998689889907837, 0....</td>\n",
       "      <td>265.011108</td>\n",
       "    </tr>\n",
       "    <tr>\n",
       "      <th>3</th>\n",
       "      <td>2021-01-07</td>\n",
       "      <td>[5.761160355177708e-05, 0.9996683597564697, 0....</td>\n",
       "      <td>[8.459905802737921e-05, 0.00019280854030512273...</td>\n",
       "      <td>[0.9998577833175659, 0.00013889373803976923, 0...</td>\n",
       "      <td>270.672363</td>\n",
       "    </tr>\n",
       "    <tr>\n",
       "      <th>4</th>\n",
       "      <td>2021-01-08</td>\n",
       "      <td>[0.9997280240058899, 5.761160355177708e-05, 5....</td>\n",
       "      <td>[0.0001962340174941346, 8.459905802737921e-05,...</td>\n",
       "      <td>[7.569414447061718e-05, 0.9998577833175659, 0....</td>\n",
       "      <td>269.215302</td>\n",
       "    </tr>\n",
       "  </tbody>\n",
       "</table>\n",
       "</div>"
      ],
      "text/plain": [
       "         Date                                           Positive  \\\n",
       "0  2021-01-04  [0.9996306896209717, 4.568207441479899e-05, 5....   \n",
       "1  2021-01-05  [0.6521651148796082, 0.9712276458740234, 0.999...   \n",
       "2  2021-01-06  [0.0011304820654913783, 5.7131750509142876e-05...   \n",
       "3  2021-01-07  [5.761160355177708e-05, 0.9996683597564697, 0....   \n",
       "4  2021-01-08  [0.9997280240058899, 5.761160355177708e-05, 5....   \n",
       "\n",
       "                                            Negative  \\\n",
       "0  [0.00019008245726581663, 7.416177686536685e-05...   \n",
       "1  [0.0004671250644605607, 0.004945231601595879, ...   \n",
       "2  [0.9983174800872803, 7.38463131710887e-05, 7.1...   \n",
       "3  [8.459905802737921e-05, 0.00019280854030512273...   \n",
       "4  [0.0001962340174941346, 8.459905802737921e-05,...   \n",
       "\n",
       "                                             Neutral       Close  \n",
       "0  [0.00017915238277055323, 0.9998801946640015, 0...  245.939194  \n",
       "1  [0.3473678231239319, 0.023827143013477325, 0.0...  251.442734  \n",
       "2  [0.0005520224221982062, 0.9998689889907837, 0....  265.011108  \n",
       "3  [0.9998577833175659, 0.00013889373803976923, 0...  270.672363  \n",
       "4  [7.569414447061718e-05, 0.9998577833175659, 0....  269.215302  "
      ]
     },
     "execution_count": 430,
     "metadata": {},
     "output_type": "execute_result"
    }
   ],
   "source": [
    "max_sum_score = prepare_dataset(path, ['Positive', 'Negative', 'Neutral'])\n",
    "max_sum_score.head()"
   ]
  },
  {
   "cell_type": "code",
   "execution_count": 431,
   "metadata": {},
   "outputs": [
    {
     "data": {
      "text/html": [
       "<div>\n",
       "<style scoped>\n",
       "    .dataframe tbody tr th:only-of-type {\n",
       "        vertical-align: middle;\n",
       "    }\n",
       "\n",
       "    .dataframe tbody tr th {\n",
       "        vertical-align: top;\n",
       "    }\n",
       "\n",
       "    .dataframe thead th {\n",
       "        text-align: right;\n",
       "    }\n",
       "</style>\n",
       "<table border=\"1\" class=\"dataframe\">\n",
       "  <thead>\n",
       "    <tr style=\"text-align: right;\">\n",
       "      <th></th>\n",
       "      <th>Date</th>\n",
       "      <th>Positive</th>\n",
       "      <th>Negative</th>\n",
       "      <th>Neutral</th>\n",
       "      <th>Close</th>\n",
       "    </tr>\n",
       "  </thead>\n",
       "  <tbody>\n",
       "    <tr>\n",
       "      <th>0</th>\n",
       "      <td>2021-01-04</td>\n",
       "      <td>3.724697</td>\n",
       "      <td>0.001931</td>\n",
       "      <td>11.273373</td>\n",
       "      <td>245.939194</td>\n",
       "    </tr>\n",
       "    <tr>\n",
       "      <th>1</th>\n",
       "      <td>2021-01-05</td>\n",
       "      <td>4.885495</td>\n",
       "      <td>1.005012</td>\n",
       "      <td>1.109493</td>\n",
       "      <td>251.442734</td>\n",
       "    </tr>\n",
       "    <tr>\n",
       "      <th>2</th>\n",
       "      <td>2021-01-06</td>\n",
       "      <td>2.923271</td>\n",
       "      <td>2.003469</td>\n",
       "      <td>11.073260</td>\n",
       "      <td>265.011108</td>\n",
       "    </tr>\n",
       "    <tr>\n",
       "      <th>3</th>\n",
       "      <td>2021-01-07</td>\n",
       "      <td>4.532861</td>\n",
       "      <td>1.007042</td>\n",
       "      <td>3.460097</td>\n",
       "      <td>270.672363</td>\n",
       "    </tr>\n",
       "    <tr>\n",
       "      <th>4</th>\n",
       "      <td>2021-01-08</td>\n",
       "      <td>3.996236</td>\n",
       "      <td>1.000273</td>\n",
       "      <td>6.003491</td>\n",
       "      <td>269.215302</td>\n",
       "    </tr>\n",
       "  </tbody>\n",
       "</table>\n",
       "</div>"
      ],
      "text/plain": [
       "         Date  Positive  Negative    Neutral       Close\n",
       "0  2021-01-04  3.724697  0.001931  11.273373  245.939194\n",
       "1  2021-01-05  4.885495  1.005012   1.109493  251.442734\n",
       "2  2021-01-06  2.923271  2.003469  11.073260  265.011108\n",
       "3  2021-01-07  4.532861  1.007042   3.460097  270.672363\n",
       "4  2021-01-08  3.996236  1.000273   6.003491  269.215302"
      ]
     },
     "execution_count": 431,
     "metadata": {},
     "output_type": "execute_result"
    }
   ],
   "source": [
    "max_sum_score[['Positive', 'Negative', 'Neutral']] = max_sum_score[['Positive', 'Negative', 'Neutral']].applymap(sum)\n",
    "max_sum_score.head()"
   ]
  },
  {
   "cell_type": "code",
   "execution_count": 432,
   "metadata": {},
   "outputs": [],
   "source": [
    "# Python\n",
    "def take_max_count_prediction(row):\n",
    "    values = {'Positive': row['Positive'], 'Negative': row['Negative'], 'Neutral': row['Neutral']}\n",
    "    max_key = max(values, key=values.get)\n",
    "    \n",
    "    if max_key == 'Positive':\n",
    "        return 0\n",
    "    elif max_key == 'Negative':\n",
    "        return 1\n",
    "    else:\n",
    "        return 2\n",
    "\n",
    "max_sum_score['Predictions'] = max_sum_score.apply(take_max_count_prediction, axis=1)"
   ]
  },
  {
   "cell_type": "code",
   "execution_count": 433,
   "metadata": {},
   "outputs": [
    {
     "data": {
      "text/html": [
       "<div>\n",
       "<style scoped>\n",
       "    .dataframe tbody tr th:only-of-type {\n",
       "        vertical-align: middle;\n",
       "    }\n",
       "\n",
       "    .dataframe tbody tr th {\n",
       "        vertical-align: top;\n",
       "    }\n",
       "\n",
       "    .dataframe thead th {\n",
       "        text-align: right;\n",
       "    }\n",
       "</style>\n",
       "<table border=\"1\" class=\"dataframe\">\n",
       "  <thead>\n",
       "    <tr style=\"text-align: right;\">\n",
       "      <th></th>\n",
       "      <th>Date</th>\n",
       "      <th>Positive</th>\n",
       "      <th>Negative</th>\n",
       "      <th>Neutral</th>\n",
       "      <th>Close</th>\n",
       "      <th>Predictions</th>\n",
       "    </tr>\n",
       "  </thead>\n",
       "  <tbody>\n",
       "    <tr>\n",
       "      <th>0</th>\n",
       "      <td>2021-01-04</td>\n",
       "      <td>3.724697</td>\n",
       "      <td>0.001931</td>\n",
       "      <td>11.273373</td>\n",
       "      <td>245.939194</td>\n",
       "      <td>2</td>\n",
       "    </tr>\n",
       "    <tr>\n",
       "      <th>1</th>\n",
       "      <td>2021-01-05</td>\n",
       "      <td>4.885495</td>\n",
       "      <td>1.005012</td>\n",
       "      <td>1.109493</td>\n",
       "      <td>251.442734</td>\n",
       "      <td>0</td>\n",
       "    </tr>\n",
       "    <tr>\n",
       "      <th>2</th>\n",
       "      <td>2021-01-06</td>\n",
       "      <td>2.923271</td>\n",
       "      <td>2.003469</td>\n",
       "      <td>11.073260</td>\n",
       "      <td>265.011108</td>\n",
       "      <td>2</td>\n",
       "    </tr>\n",
       "    <tr>\n",
       "      <th>3</th>\n",
       "      <td>2021-01-07</td>\n",
       "      <td>4.532861</td>\n",
       "      <td>1.007042</td>\n",
       "      <td>3.460097</td>\n",
       "      <td>270.672363</td>\n",
       "      <td>0</td>\n",
       "    </tr>\n",
       "    <tr>\n",
       "      <th>4</th>\n",
       "      <td>2021-01-08</td>\n",
       "      <td>3.996236</td>\n",
       "      <td>1.000273</td>\n",
       "      <td>6.003491</td>\n",
       "      <td>269.215302</td>\n",
       "      <td>2</td>\n",
       "    </tr>\n",
       "  </tbody>\n",
       "</table>\n",
       "</div>"
      ],
      "text/plain": [
       "         Date  Positive  Negative    Neutral       Close  Predictions\n",
       "0  2021-01-04  3.724697  0.001931  11.273373  245.939194            2\n",
       "1  2021-01-05  4.885495  1.005012   1.109493  251.442734            0\n",
       "2  2021-01-06  2.923271  2.003469  11.073260  265.011108            2\n",
       "3  2021-01-07  4.532861  1.007042   3.460097  270.672363            0\n",
       "4  2021-01-08  3.996236  1.000273   6.003491  269.215302            2"
      ]
     },
     "execution_count": 433,
     "metadata": {},
     "output_type": "execute_result"
    }
   ],
   "source": [
    "max_sum_score.head()"
   ]
  },
  {
   "cell_type": "code",
   "execution_count": 434,
   "metadata": {},
   "outputs": [
    {
     "name": "stdout",
     "output_type": "stream",
     "text": [
      "Long Cumulative Return :  (16.496980317182434, 5.572957256072591)\n",
      "Short Cumulative Return :  (13.624096133146395, 5.718298921053837)\n"
     ]
    }
   ],
   "source": [
    "print(\"Long Cumulative Return : \", cumulative_reward_long(max_sum_score, buy_sell_sentiment))\n",
    "print(\"Short Cumulative Return : \", cumulative_reward_short(max_sum_score, short_sell_sentiment))"
   ]
  },
  {
   "cell_type": "markdown",
   "metadata": {},
   "source": [
    "We perform less with this technique"
   ]
  },
  {
   "cell_type": "markdown",
   "metadata": {},
   "source": [
    "We take some threshold only the value greater than this into account, with mean of the day"
   ]
  },
  {
   "cell_type": "code",
   "execution_count": 435,
   "metadata": {},
   "outputs": [],
   "source": [
    "threshold_input = prepare_dataset(path, ['Positive', 'Negative', 'Neutral'])\n",
    "THRESHOLD = 0.5"
   ]
  },
  {
   "cell_type": "code",
   "execution_count": 436,
   "metadata": {},
   "outputs": [],
   "source": [
    "def replace_below_threshold(arr, threshold):\n",
    "    return [x for x in arr if x >= threshold]\n",
    "\n",
    "columns = ['Positive', 'Negative', 'Neutral']\n",
    "\n",
    "for col in columns:\n",
    "    threshold_input[col] = threshold_input[col].apply(lambda arr: replace_below_threshold(arr, threshold=THRESHOLD))"
   ]
  },
  {
   "cell_type": "code",
   "execution_count": 437,
   "metadata": {},
   "outputs": [
    {
     "data": {
      "text/html": [
       "<div>\n",
       "<style scoped>\n",
       "    .dataframe tbody tr th:only-of-type {\n",
       "        vertical-align: middle;\n",
       "    }\n",
       "\n",
       "    .dataframe tbody tr th {\n",
       "        vertical-align: top;\n",
       "    }\n",
       "\n",
       "    .dataframe thead th {\n",
       "        text-align: right;\n",
       "    }\n",
       "</style>\n",
       "<table border=\"1\" class=\"dataframe\">\n",
       "  <thead>\n",
       "    <tr style=\"text-align: right;\">\n",
       "      <th></th>\n",
       "      <th>Date</th>\n",
       "      <th>Positive</th>\n",
       "      <th>Negative</th>\n",
       "      <th>Neutral</th>\n",
       "      <th>Close</th>\n",
       "    </tr>\n",
       "  </thead>\n",
       "  <tbody>\n",
       "    <tr>\n",
       "      <th>0</th>\n",
       "      <td>2021-01-04</td>\n",
       "      <td>[0.9996306896209717, 0.8621811866760254, 0.862...</td>\n",
       "      <td>[]</td>\n",
       "      <td>[0.9998801946640015, 0.9998689889907837, 0.999...</td>\n",
       "      <td>245.939194</td>\n",
       "    </tr>\n",
       "    <tr>\n",
       "      <th>1</th>\n",
       "      <td>2021-01-05</td>\n",
       "      <td>[0.6521651148796082, 0.9712276458740234, 0.999...</td>\n",
       "      <td>[0.9980467557907104]</td>\n",
       "      <td>[0.7367658615112305]</td>\n",
       "      <td>251.442734</td>\n",
       "    </tr>\n",
       "    <tr>\n",
       "      <th>2</th>\n",
       "      <td>2021-01-06</td>\n",
       "      <td>[0.9186276197433472, 0.9996577501296997, 0.988...</td>\n",
       "      <td>[0.9983174800872803, 0.9986239671707153]</td>\n",
       "      <td>[0.9998689889907837, 0.9998816251754761, 0.999...</td>\n",
       "      <td>265.011108</td>\n",
       "    </tr>\n",
       "    <tr>\n",
       "      <th>3</th>\n",
       "      <td>2021-01-07</td>\n",
       "      <td>[0.9996683597564697, 0.9996199607849121, 0.991...</td>\n",
       "      <td>[0.9970082640647888]</td>\n",
       "      <td>[0.9998577833175659, 0.9998613595962524, 0.999...</td>\n",
       "      <td>270.672363</td>\n",
       "    </tr>\n",
       "    <tr>\n",
       "      <th>4</th>\n",
       "      <td>2021-01-08</td>\n",
       "      <td>[0.9997280240058899, 0.9962294697761536, 0.999...</td>\n",
       "      <td>[0.9985669255256653]</td>\n",
       "      <td>[0.9998577833175659, 0.9998577833175659, 0.999...</td>\n",
       "      <td>269.215302</td>\n",
       "    </tr>\n",
       "  </tbody>\n",
       "</table>\n",
       "</div>"
      ],
      "text/plain": [
       "         Date                                           Positive  \\\n",
       "0  2021-01-04  [0.9996306896209717, 0.8621811866760254, 0.862...   \n",
       "1  2021-01-05  [0.6521651148796082, 0.9712276458740234, 0.999...   \n",
       "2  2021-01-06  [0.9186276197433472, 0.9996577501296997, 0.988...   \n",
       "3  2021-01-07  [0.9996683597564697, 0.9996199607849121, 0.991...   \n",
       "4  2021-01-08  [0.9997280240058899, 0.9962294697761536, 0.999...   \n",
       "\n",
       "                                   Negative  \\\n",
       "0                                        []   \n",
       "1                      [0.9980467557907104]   \n",
       "2  [0.9983174800872803, 0.9986239671707153]   \n",
       "3                      [0.9970082640647888]   \n",
       "4                      [0.9985669255256653]   \n",
       "\n",
       "                                             Neutral       Close  \n",
       "0  [0.9998801946640015, 0.9998689889907837, 0.999...  245.939194  \n",
       "1                               [0.7367658615112305]  251.442734  \n",
       "2  [0.9998689889907837, 0.9998816251754761, 0.999...  265.011108  \n",
       "3  [0.9998577833175659, 0.9998613595962524, 0.999...  270.672363  \n",
       "4  [0.9998577833175659, 0.9998577833175659, 0.999...  269.215302  "
      ]
     },
     "execution_count": 437,
     "metadata": {},
     "output_type": "execute_result"
    }
   ],
   "source": [
    "threshold_input.head()"
   ]
  },
  {
   "cell_type": "code",
   "execution_count": 438,
   "metadata": {},
   "outputs": [],
   "source": [
    "threshold_input[['Positive', 'Negative', 'Neutral']] = threshold_input[['Positive', 'Negative', 'Neutral']].applymap(len)"
   ]
  },
  {
   "cell_type": "code",
   "execution_count": 439,
   "metadata": {},
   "outputs": [
    {
     "data": {
      "text/html": [
       "<div>\n",
       "<style scoped>\n",
       "    .dataframe tbody tr th:only-of-type {\n",
       "        vertical-align: middle;\n",
       "    }\n",
       "\n",
       "    .dataframe tbody tr th {\n",
       "        vertical-align: top;\n",
       "    }\n",
       "\n",
       "    .dataframe thead th {\n",
       "        text-align: right;\n",
       "    }\n",
       "</style>\n",
       "<table border=\"1\" class=\"dataframe\">\n",
       "  <thead>\n",
       "    <tr style=\"text-align: right;\">\n",
       "      <th></th>\n",
       "      <th>Date</th>\n",
       "      <th>Positive</th>\n",
       "      <th>Negative</th>\n",
       "      <th>Neutral</th>\n",
       "      <th>Close</th>\n",
       "    </tr>\n",
       "  </thead>\n",
       "  <tbody>\n",
       "    <tr>\n",
       "      <th>0</th>\n",
       "      <td>2021-01-04</td>\n",
       "      <td>4</td>\n",
       "      <td>0</td>\n",
       "      <td>11</td>\n",
       "      <td>245.939194</td>\n",
       "    </tr>\n",
       "    <tr>\n",
       "      <th>1</th>\n",
       "      <td>2021-01-05</td>\n",
       "      <td>5</td>\n",
       "      <td>1</td>\n",
       "      <td>1</td>\n",
       "      <td>251.442734</td>\n",
       "    </tr>\n",
       "    <tr>\n",
       "      <th>2</th>\n",
       "      <td>2021-01-06</td>\n",
       "      <td>3</td>\n",
       "      <td>2</td>\n",
       "      <td>11</td>\n",
       "      <td>265.011108</td>\n",
       "    </tr>\n",
       "    <tr>\n",
       "      <th>3</th>\n",
       "      <td>2021-01-07</td>\n",
       "      <td>5</td>\n",
       "      <td>1</td>\n",
       "      <td>3</td>\n",
       "      <td>270.672363</td>\n",
       "    </tr>\n",
       "    <tr>\n",
       "      <th>4</th>\n",
       "      <td>2021-01-08</td>\n",
       "      <td>4</td>\n",
       "      <td>1</td>\n",
       "      <td>6</td>\n",
       "      <td>269.215302</td>\n",
       "    </tr>\n",
       "  </tbody>\n",
       "</table>\n",
       "</div>"
      ],
      "text/plain": [
       "         Date  Positive  Negative  Neutral       Close\n",
       "0  2021-01-04         4         0       11  245.939194\n",
       "1  2021-01-05         5         1        1  251.442734\n",
       "2  2021-01-06         3         2       11  265.011108\n",
       "3  2021-01-07         5         1        3  270.672363\n",
       "4  2021-01-08         4         1        6  269.215302"
      ]
     },
     "execution_count": 439,
     "metadata": {},
     "output_type": "execute_result"
    }
   ],
   "source": [
    "threshold_input.head()"
   ]
  },
  {
   "cell_type": "code",
   "execution_count": 440,
   "metadata": {},
   "outputs": [],
   "source": [
    "threshold_input['Predictions'] = threshold_input.apply(take_max_count_prediction, axis=1)"
   ]
  },
  {
   "cell_type": "code",
   "execution_count": 441,
   "metadata": {},
   "outputs": [
    {
     "data": {
      "text/html": [
       "<div>\n",
       "<style scoped>\n",
       "    .dataframe tbody tr th:only-of-type {\n",
       "        vertical-align: middle;\n",
       "    }\n",
       "\n",
       "    .dataframe tbody tr th {\n",
       "        vertical-align: top;\n",
       "    }\n",
       "\n",
       "    .dataframe thead th {\n",
       "        text-align: right;\n",
       "    }\n",
       "</style>\n",
       "<table border=\"1\" class=\"dataframe\">\n",
       "  <thead>\n",
       "    <tr style=\"text-align: right;\">\n",
       "      <th></th>\n",
       "      <th>Date</th>\n",
       "      <th>Positive</th>\n",
       "      <th>Negative</th>\n",
       "      <th>Neutral</th>\n",
       "      <th>Close</th>\n",
       "      <th>Predictions</th>\n",
       "    </tr>\n",
       "  </thead>\n",
       "  <tbody>\n",
       "    <tr>\n",
       "      <th>0</th>\n",
       "      <td>2021-01-04</td>\n",
       "      <td>4</td>\n",
       "      <td>0</td>\n",
       "      <td>11</td>\n",
       "      <td>245.939194</td>\n",
       "      <td>2</td>\n",
       "    </tr>\n",
       "    <tr>\n",
       "      <th>1</th>\n",
       "      <td>2021-01-05</td>\n",
       "      <td>5</td>\n",
       "      <td>1</td>\n",
       "      <td>1</td>\n",
       "      <td>251.442734</td>\n",
       "      <td>0</td>\n",
       "    </tr>\n",
       "    <tr>\n",
       "      <th>2</th>\n",
       "      <td>2021-01-06</td>\n",
       "      <td>3</td>\n",
       "      <td>2</td>\n",
       "      <td>11</td>\n",
       "      <td>265.011108</td>\n",
       "      <td>2</td>\n",
       "    </tr>\n",
       "    <tr>\n",
       "      <th>3</th>\n",
       "      <td>2021-01-07</td>\n",
       "      <td>5</td>\n",
       "      <td>1</td>\n",
       "      <td>3</td>\n",
       "      <td>270.672363</td>\n",
       "      <td>0</td>\n",
       "    </tr>\n",
       "    <tr>\n",
       "      <th>4</th>\n",
       "      <td>2021-01-08</td>\n",
       "      <td>4</td>\n",
       "      <td>1</td>\n",
       "      <td>6</td>\n",
       "      <td>269.215302</td>\n",
       "      <td>2</td>\n",
       "    </tr>\n",
       "  </tbody>\n",
       "</table>\n",
       "</div>"
      ],
      "text/plain": [
       "         Date  Positive  Negative  Neutral       Close  Predictions\n",
       "0  2021-01-04         4         0       11  245.939194            2\n",
       "1  2021-01-05         5         1        1  251.442734            0\n",
       "2  2021-01-06         3         2       11  265.011108            2\n",
       "3  2021-01-07         5         1        3  270.672363            0\n",
       "4  2021-01-08         4         1        6  269.215302            2"
      ]
     },
     "execution_count": 441,
     "metadata": {},
     "output_type": "execute_result"
    }
   ],
   "source": [
    "threshold_input.head()"
   ]
  },
  {
   "cell_type": "code",
   "execution_count": 442,
   "metadata": {},
   "outputs": [
    {
     "name": "stdout",
     "output_type": "stream",
     "text": [
      "Long Cumulative Return :  (19.8080411417166, 4.9542739524073856)\n",
      "Short Cumulative Return :  (10.483937176832626, 5.411086168195351)\n"
     ]
    }
   ],
   "source": [
    "print(\"Long Cumulative Return : \", cumulative_reward_long(threshold_input, buy_sell_sentiment))\n",
    "print(\"Short Cumulative Return : \", cumulative_reward_short(threshold_input, short_sell_sentiment))"
   ]
  },
  {
   "cell_type": "code",
   "execution_count": 443,
   "metadata": {},
   "outputs": [],
   "source": [
    "def threshold_test():\n",
    "    THRESHOLD_ARRAY = [0.1, 0.2, 0.3, 0.4, 0.5, 0.6, 0.7, 0.8, 0.85, 0.9, 0.95, 0.99]\n",
    "    for THRESHOLD in THRESHOLD_ARRAY:\n",
    "        threshold_input = prepare_dataset(path, ['Positive', 'Negative', 'Neutral'])\n",
    "        \n",
    "        columns = ['Positive', 'Negative', 'Neutral']\n",
    "        for col in columns:\n",
    "            threshold_input[col] = threshold_input[col].apply(lambda arr: replace_below_threshold(arr, threshold=THRESHOLD))        \n",
    "            \n",
    "        threshold_input[['Positive', 'Negative', 'Neutral']] = threshold_input[['Positive', 'Negative', 'Neutral']].applymap(len)\n",
    "        \n",
    "        threshold_input['Predictions'] = threshold_input.apply(take_max_count_prediction, axis=1)\n",
    "        \n",
    "        print(\"Threshold : \", THRESHOLD)\n",
    "        print(\"Long Cumulative Return : \", cumulative_reward_long(threshold_input, buy_sell_sentiment))\n",
    "        print(\"Short Cumulative Return : \", cumulative_reward_short(threshold_input, short_sell_sentiment))"
   ]
  },
  {
   "cell_type": "code",
   "execution_count": 444,
   "metadata": {},
   "outputs": [
    {
     "name": "stdout",
     "output_type": "stream",
     "text": [
      "Threshold :  0.1\n",
      "Long Cumulative Return :  (26.58019686356552, 5.6070690180408755)\n",
      "Short Cumulative Return :  (4.572945996032516, 4.84948246556283)\n",
      "Threshold :  0.2\n",
      "Long Cumulative Return :  (16.564101765963883, 5.283489533657222)\n",
      "Short Cumulative Return :  (13.558667636436013, 5.254050128053691)\n",
      "Threshold :  0.3\n",
      "Long Cumulative Return :  (21.128968444119153, 5.203636000463345)\n",
      "Short Cumulative Return :  (9.279095337853931, 5.1419306267340605)\n",
      "Threshold :  0.4\n",
      "Long Cumulative Return :  (19.8080411417166, 4.9542739524073856)\n",
      "Short Cumulative Return :  (10.483937176832626, 5.411086168195351)\n",
      "Threshold :  0.5\n",
      "Long Cumulative Return :  (19.8080411417166, 4.9542739524073856)\n",
      "Short Cumulative Return :  (10.483937176832626, 5.411086168195351)\n",
      "Threshold :  0.6\n",
      "Long Cumulative Return :  (21.04526685187257, 5.363990269976076)\n",
      "Short Cumulative Return :  (9.35466074009507, 5.465265283633173)\n",
      "Threshold :  0.7\n",
      "Long Cumulative Return :  (27.00314676640376, 5.744475914636586)\n",
      "Short Cumulative Return :  (4.224693858391461, 5.015516651751745)\n",
      "Threshold :  0.8\n",
      "Long Cumulative Return :  (29.33047906970816, 5.653090547123459)\n",
      "Short Cumulative Return :  (2.34914604813477, 5.206487432943122)\n",
      "Threshold :  0.85\n",
      "Long Cumulative Return :  (19.08211020155447, 5.832676669620036)\n",
      "Short Cumulative Return :  (11.157453192393945, 5.501301434218334)\n",
      "Threshold :  0.9\n",
      "Long Cumulative Return :  (15.151878618149482, 5.4114087790165115)\n",
      "Short Cumulative Return :  (14.951351637736053, 5.603245239404428)\n",
      "Threshold :  0.95\n",
      "Long Cumulative Return :  (24.489479959008165, 5.9711407641894345)\n",
      "Short Cumulative Return :  (7.010408392770685, 5.31806878611756)\n",
      "Threshold :  0.99\n",
      "Long Cumulative Return :  (-4.713580764188734, 5.294711031945139)\n",
      "Short Cumulative Return :  (39.8065978116895, 5.322284981406542)\n"
     ]
    }
   ],
   "source": [
    "threshold_test()"
   ]
  },
  {
   "cell_type": "markdown",
   "metadata": {},
   "source": [
    "Weird, better is the filter the worst is the result"
   ]
  },
  {
   "cell_type": "markdown",
   "metadata": {},
   "source": [
    "# Momemntum X News trading strategy"
   ]
  },
  {
   "cell_type": "markdown",
   "metadata": {},
   "source": [
    "We are going to use the better we saw at this stage the Threshold 0.7"
   ]
  },
  {
   "cell_type": "markdown",
   "metadata": {},
   "source": [
    "## With MACD"
   ]
  },
  {
   "cell_type": "markdown",
   "metadata": {},
   "source": [
    "## AND need both signals to be positive"
   ]
  },
  {
   "cell_type": "code",
   "execution_count": 445,
   "metadata": {},
   "outputs": [],
   "source": [
    "def buy_sell_momentum_sentiment(signal):\n",
    "    Buy = [np.nan for i in range(0, len(signal))]\n",
    "    Sell = [np.nan for i in range(0, len(signal))]\n",
    "    flag = 0\n",
    "\n",
    "    for i in range(0, len(signal)):\n",
    "        if signal['MACD'][i] > signal['Signal Line'][i] and signal['Predictions'][i] == 0:  # Positive momentum and sentiment\n",
    "            if flag != 1:\n",
    "                Buy[i] = signal['Close'][i]\n",
    "                flag = 1\n",
    "        elif signal['MACD'][i] < signal['Signal Line'][i] and signal['Predictions'][i] == 1:  # Negative momentum and sentiment\n",
    "            if flag != 0:\n",
    "                Sell[i] = signal['Close'][i]\n",
    "                flag = 0\n",
    "\n",
    "    return (Buy, Sell)"
   ]
  },
  {
   "cell_type": "code",
   "execution_count": 446,
   "metadata": {},
   "outputs": [],
   "source": [
    "def short_sell_momentum_sentiment(signal):\n",
    "    Short = [np.nan for i in range(0, len(signal))]\n",
    "    Sell = [np.nan for i in range(0, len(signal))]\n",
    "    flag = 0\n",
    "\n",
    "    for i in range(0, len(signal)):\n",
    "        if signal['MACD'][i] < signal['Signal Line'][i] and signal['Predictions'][i] == 1:  # Negative momentum and sentiment\n",
    "            if flag != 1:\n",
    "                Short[i] = signal['Close'][i]\n",
    "                flag = 1\n",
    "        elif signal['MACD'][i] > signal['Signal Line'][i] and signal['Predictions'][i] == 0:  # Positive momentum and sentiment\n",
    "            if flag != 0:\n",
    "                Sell[i] = signal['Close'][i]\n",
    "                flag = 0\n",
    "\n",
    "    return (Short, Sell)"
   ]
  },
  {
   "cell_type": "code",
   "execution_count": 447,
   "metadata": {},
   "outputs": [],
   "source": [
    "stocks = get_stock(stock)"
   ]
  },
  {
   "cell_type": "code",
   "execution_count": 448,
   "metadata": {},
   "outputs": [],
   "source": [
    "# Calculate Short Term Exponential Moving Average\n",
    "ShortEMA = stocks.Close.ewm(span=12, adjust=False).mean() \n",
    "# Calculate Long Term Exponential Moving Average\n",
    "LongEMA = stocks.Close.ewm(span=26, adjust=False).mean() \n",
    "# Calculate MACD line\n",
    "MACD = ShortEMA - LongEMA\n",
    "# Calculate Signal line\n",
    "signal = MACD.ewm(span=9, adjust=False).mean()"
   ]
  },
  {
   "cell_type": "code",
   "execution_count": 449,
   "metadata": {},
   "outputs": [],
   "source": [
    "stocks['MACD'] = MACD\n",
    "stocks['Signal Line'] = signal"
   ]
  },
  {
   "cell_type": "code",
   "execution_count": 450,
   "metadata": {},
   "outputs": [
    {
     "name": "stdout",
     "output_type": "stream",
     "text": [
      "Threshold :  0.7  Long Cumulative Return :  (18.85853601208281, 11.84563027117163)\n",
      "Threshold :  0.7  Short Cumulative Return :  (23.200779575907674, 5.77044516901593)\n"
     ]
    }
   ],
   "source": [
    "THRESHOLD = 0.7\n",
    "\n",
    "MACD_news_input = prepare_dataset(path, ['Positive', 'Negative', 'Neutral'])\n",
    "MACD_news_input = pd.merge(MACD_news_input, stocks[['Date', 'MACD', 'Signal Line']], on='Date', how='left')\n",
    "\n",
    "columns = ['Positive', 'Negative', 'Neutral']\n",
    "\n",
    "for col in columns:\n",
    "    MACD_news_input[col] = MACD_news_input[col].apply(lambda arr: replace_below_threshold(arr, threshold=THRESHOLD))        \n",
    "    \n",
    "MACD_news_input[['Positive', 'Negative', 'Neutral']] = MACD_news_input[['Positive', 'Negative', 'Neutral']].applymap(len)\n",
    "\n",
    "MACD_news_input['Predictions'] = MACD_news_input.apply(take_max_count_prediction, axis=1)\n",
    "\n",
    "print(\"Threshold : \", THRESHOLD, \" Long Cumulative Return : \", cumulative_reward_long(MACD_news_input, buy_sell_momentum_sentiment))\n",
    "print(\"Threshold : \", THRESHOLD, \" Short Cumulative Return : \", cumulative_reward_short(MACD_news_input, short_sell_momentum_sentiment))\n"
   ]
  },
  {
   "cell_type": "markdown",
   "metadata": {},
   "source": [
    "## OR need one of the signal to be positive"
   ]
  },
  {
   "cell_type": "code",
   "execution_count": 451,
   "metadata": {},
   "outputs": [],
   "source": [
    "def buy_sell_momentum_sentiment(signal):\n",
    "    Buy = [np.nan for i in range(0, len(signal))]\n",
    "    Sell = [np.nan for i in range(0, len(signal))]\n",
    "    flag = 0\n",
    "\n",
    "    for i in range(0, len(signal)):\n",
    "        if signal['MACD'][i] > signal['Signal Line'][i] or signal['Predictions'][i] == 0:  # Positive momentum and sentiment\n",
    "            if flag != 1:\n",
    "                Buy[i] = signal['Close'][i]\n",
    "                flag = 1\n",
    "        elif signal['MACD'][i] < signal['Signal Line'][i] or signal['Predictions'][i] == 1:  # Negative momentum and sentiment\n",
    "            if flag != 0:\n",
    "                Sell[i] = signal['Close'][i]\n",
    "                flag = 0\n",
    "\n",
    "    return (Buy, Sell)"
   ]
  },
  {
   "cell_type": "code",
   "execution_count": 452,
   "metadata": {},
   "outputs": [],
   "source": [
    "def short_sell_momentum_sentiment(signal):\n",
    "    Short = [np.nan for i in range(0, len(signal))]\n",
    "    Sell = [np.nan for i in range(0, len(signal))]\n",
    "    flag = 0\n",
    "\n",
    "    for i in range(0, len(signal)):\n",
    "        if signal['MACD'][i] < signal['Signal Line'][i] or signal['Predictions'][i] == 1:  # Negative momentum and sentiment\n",
    "            if flag != 1:\n",
    "                Short[i] = signal['Close'][i]\n",
    "                flag = 1\n",
    "        elif signal['MACD'][i] > signal['Signal Line'][i] or signal['Predictions'][i] == 0:  # Positive momentum and sentiment\n",
    "            if flag != 0:\n",
    "                Sell[i] = signal['Close'][i]\n",
    "                flag = 0\n",
    "\n",
    "    return (Short, Sell)"
   ]
  },
  {
   "cell_type": "code",
   "execution_count": 453,
   "metadata": {},
   "outputs": [],
   "source": [
    "stocks = get_stock(stock)"
   ]
  },
  {
   "cell_type": "code",
   "execution_count": 454,
   "metadata": {},
   "outputs": [],
   "source": [
    "# Calculate Short Term Exponential Moving Average\n",
    "ShortEMA = stocks.Close.ewm(span=12, adjust=False).mean() \n",
    "# Calculate Long Term Exponential Moving Average\n",
    "LongEMA = stocks.Close.ewm(span=26, adjust=False).mean() \n",
    "# Calculate MACD line\n",
    "MACD = ShortEMA - LongEMA\n",
    "# Calculate Signal line\n",
    "signal = MACD.ewm(span=9, adjust=False).mean()"
   ]
  },
  {
   "cell_type": "code",
   "execution_count": 455,
   "metadata": {},
   "outputs": [],
   "source": [
    "stocks['MACD'] = MACD\n",
    "stocks['Signal Line'] = signal"
   ]
  },
  {
   "cell_type": "code",
   "execution_count": 456,
   "metadata": {},
   "outputs": [
    {
     "name": "stdout",
     "output_type": "stream",
     "text": [
      "Threshold :  0.7  Long Cumulative Return :  (22.649220551363342, 6.41428365612634)\n",
      "Threshold :  0.7  Short Cumulative Return :  (15.177238532207184, 3.8741521341296568)\n"
     ]
    }
   ],
   "source": [
    "THRESHOLD = 0.7\n",
    "\n",
    "MACD_news_input = prepare_dataset(path, ['Positive', 'Negative', 'Neutral'])\n",
    "MACD_news_input = pd.merge(MACD_news_input, stocks[['Date', 'MACD', 'Signal Line']], on='Date', how='left')\n",
    "\n",
    "columns = ['Positive', 'Negative', 'Neutral']\n",
    "\n",
    "for col in columns:\n",
    "    MACD_news_input[col] = MACD_news_input[col].apply(lambda arr: replace_below_threshold(arr, threshold=THRESHOLD))        \n",
    "    \n",
    "MACD_news_input[['Positive', 'Negative', 'Neutral']] = MACD_news_input[['Positive', 'Negative', 'Neutral']].applymap(len)\n",
    "\n",
    "MACD_news_input['Predictions'] = MACD_news_input.apply(take_max_count_prediction, axis=1)\n",
    "\n",
    "print(\"Threshold : \", THRESHOLD, \" Long Cumulative Return : \", cumulative_reward_long(MACD_news_input, buy_sell_momentum_sentiment))\n",
    "print(\"Threshold : \", THRESHOLD, \" Short Cumulative Return : \", cumulative_reward_short(MACD_news_input, short_sell_momentum_sentiment))"
   ]
  },
  {
   "cell_type": "markdown",
   "metadata": {},
   "source": [
    "## With RSI"
   ]
  },
  {
   "cell_type": "markdown",
   "metadata": {},
   "source": [
    "## AND need both signals to be positive"
   ]
  },
  {
   "cell_type": "code",
   "execution_count": 457,
   "metadata": {},
   "outputs": [],
   "source": [
    "def buy_sell_RSI_sentiment(signal, upper=70, lower=30):\n",
    "    Buy = [np.nan for i in range(0, len(signal))]\n",
    "    Sell = [np.nan for i in range(0, len(signal))]\n",
    "    flag = 0\n",
    "\n",
    "    for i in range(0, len(signal)):\n",
    "        if signal['RSI'][i] < lower and signal['Predictions'][i] == 0:\n",
    "            if flag != 1:\n",
    "                Buy[i] = signal['Close'][i]\n",
    "                flag = 1\n",
    "        elif signal['RSI'][i] > upper and signal['Predictions'][i] == 1:\n",
    "            if flag != 0:\n",
    "                Sell[i] = signal['Close'][i]\n",
    "                flag = 0\n",
    "\n",
    "    return (Buy, Sell)"
   ]
  },
  {
   "cell_type": "code",
   "execution_count": 458,
   "metadata": {},
   "outputs": [],
   "source": [
    "def short_sell_RSI_sentiment(signal, upper=70, lower=30):\n",
    "    Short = [np.nan for i in range(0, len(signal))]\n",
    "    Sell = [np.nan for i in range(0, len(signal))]\n",
    "    flag = 0\n",
    "\n",
    "    for i in range(0, len(signal)):\n",
    "        if signal['RSI'][i] > upper and signal['Predictions'][i] == 1:\n",
    "            if flag != 1:\n",
    "                Short[i] = signal['Close'][i]\n",
    "                flag = 1\n",
    "        elif signal['RSI'][i] < lower and signal['Predictions'][i] == 0:\n",
    "            if flag != 0:\n",
    "                Sell[i] = signal['Close'][i]\n",
    "                flag = 0\n",
    "\n",
    "    return (Short, Sell)"
   ]
  },
  {
   "cell_type": "code",
   "execution_count": 459,
   "metadata": {},
   "outputs": [],
   "source": [
    "def calculate_RSI(data, time_window):\n",
    "    diff = data.diff(1).dropna()        # diff in one field(one day)\n",
    "\n",
    "    #this preservers dimensions off diff values\n",
    "    up_chg = 0 * diff\n",
    "    down_chg = 0 * diff\n",
    "    \n",
    "    # up change is equal to the positive difference, otherwise equal to zero\n",
    "    up_chg[diff > 0] = diff[ diff>0 ]\n",
    "    \n",
    "    # down change is equal to negative deifference, otherwise equal to zero\n",
    "    down_chg[diff < 0] = diff[ diff < 0 ]\n",
    "\n",
    "    # we set com=time_window-1 so we get decay alpha=1/time_window\n",
    "    up_chg_avg   = up_chg.ewm(com=time_window-1 , min_periods=time_window).mean()\n",
    "    down_chg_avg = down_chg.ewm(com=time_window-1 , min_periods=time_window).mean()\n",
    "    \n",
    "    rs = abs(up_chg_avg/down_chg_avg)\n",
    "    rsi = 100 - 100/(1+rs)\n",
    "    return rsi\n",
    "\n",
    "stocks = get_stock(stock)\n",
    "\n",
    "stocks['RSI'] = calculate_RSI(stocks['Close'], 14)"
   ]
  },
  {
   "cell_type": "code",
   "execution_count": 460,
   "metadata": {},
   "outputs": [
    {
     "name": "stdout",
     "output_type": "stream",
     "text": [
      "Threshold :  0.7  Long Cumulative Return :  (1.3774077257499755, 0.0)\n",
      "Threshold :  0.7  Short Cumulative Return :  (-3.807867729931303, 0.0)\n"
     ]
    }
   ],
   "source": [
    "THRESHOLD = 0.7\n",
    "\n",
    "RSI_news_input = prepare_dataset(path, ['Positive', 'Negative', 'Neutral'])\n",
    "RSI_news_input = pd.merge(RSI_news_input, stocks[['Date', 'RSI']], on='Date', how='left')\n",
    "\n",
    "columns = ['Positive', 'Negative', 'Neutral']\n",
    "\n",
    "for col in columns:\n",
    "    RSI_news_input[col] = RSI_news_input[col].apply(lambda arr: replace_below_threshold(arr, threshold=THRESHOLD))        \n",
    "    \n",
    "RSI_news_input[['Positive', 'Negative', 'Neutral']] = RSI_news_input[['Positive', 'Negative', 'Neutral']].applymap(len)\n",
    "\n",
    "RSI_news_input['Predictions'] = RSI_news_input.apply(take_max_count_prediction, axis=1)\n",
    "\n",
    "print(\"Threshold : \", THRESHOLD, \" Long Cumulative Return : \", cumulative_reward_long(RSI_news_input, buy_sell_RSI_sentiment))\n",
    "print(\"Threshold : \", THRESHOLD, \" Short Cumulative Return : \", cumulative_reward_short(RSI_news_input, short_sell_RSI_sentiment))"
   ]
  },
  {
   "cell_type": "markdown",
   "metadata": {},
   "source": [
    "## OR need one of the signal to be positive"
   ]
  },
  {
   "cell_type": "code",
   "execution_count": 461,
   "metadata": {},
   "outputs": [],
   "source": [
    "def buy_sell_RSI_sentiment(signal, upper=70, lower=30):\n",
    "    Buy = [np.nan for i in range(0, len(signal))]\n",
    "    Sell = [np.nan for i in range(0, len(signal))]\n",
    "    flag = 0\n",
    "\n",
    "    for i in range(0, len(signal)):\n",
    "        if signal['RSI'][i] < lower or signal['Predictions'][i] == 0:\n",
    "            if flag != 1:\n",
    "                Buy[i] = signal['Close'][i]\n",
    "                flag = 1\n",
    "        elif signal['RSI'][i] > upper or signal['Predictions'][i] == 1:\n",
    "            if flag != 0:\n",
    "                Sell[i] = signal['Close'][i]\n",
    "                flag = 0\n",
    "\n",
    "    return (Buy, Sell)"
   ]
  },
  {
   "cell_type": "code",
   "execution_count": 462,
   "metadata": {},
   "outputs": [],
   "source": [
    "def short_sell_RSI_sentiment(signal, upper=70, lower=30):\n",
    "    Short = [np.nan for i in range(0, len(signal))]\n",
    "    Sell = [np.nan for i in range(0, len(signal))]\n",
    "    flag = 0\n",
    "\n",
    "    for i in range(0, len(signal)):\n",
    "        if signal['RSI'][i] > upper or signal['Predictions'][i] == 1:\n",
    "            if flag != 1:\n",
    "                Short[i] = signal['Close'][i]\n",
    "                flag = 1\n",
    "        elif signal['RSI'][i] < lower or signal['Predictions'][i] == 0:\n",
    "            if flag != 0:\n",
    "                Sell[i] = signal['Close'][i]\n",
    "                flag = 0\n",
    "\n",
    "    return (Short, Sell)"
   ]
  },
  {
   "cell_type": "code",
   "execution_count": 463,
   "metadata": {},
   "outputs": [
    {
     "name": "stdout",
     "output_type": "stream",
     "text": [
      "Threshold :  0.7  Long Cumulative Return :  (28.151815328466427, 5.28135712185228)\n",
      "Threshold :  0.7  Short Cumulative Return :  (-2.267414514192126, 5.498683313301388)\n"
     ]
    }
   ],
   "source": [
    "THRESHOLD = 0.7\n",
    "\n",
    "RSI_news_input = prepare_dataset(path, ['Positive', 'Negative', 'Neutral'])\n",
    "RSI_news_input = pd.merge(RSI_news_input, stocks[['Date', 'RSI']], on='Date', how='left')\n",
    "\n",
    "columns = ['Positive', 'Negative', 'Neutral']\n",
    "\n",
    "for col in columns:\n",
    "    RSI_news_input[col] = RSI_news_input[col].apply(lambda arr: replace_below_threshold(arr, threshold=THRESHOLD))        \n",
    "    \n",
    "RSI_news_input[['Positive', 'Negative', 'Neutral']] = RSI_news_input[['Positive', 'Negative', 'Neutral']].applymap(len)\n",
    "\n",
    "RSI_news_input['Predictions'] = RSI_news_input.apply(take_max_count_prediction, axis=1)\n",
    "\n",
    "print(\"Threshold : \", THRESHOLD, \" Long Cumulative Return : \", cumulative_reward_long(RSI_news_input, buy_sell_RSI_sentiment))\n",
    "print(\"Threshold : \", THRESHOLD, \" Short Cumulative Return : \", cumulative_reward_short(RSI_news_input, short_sell_RSI_sentiment))"
   ]
  }
 ],
 "metadata": {
  "kernelspec": {
   "display_name": "myenv",
   "language": "python",
   "name": "python3"
  },
  "language_info": {
   "codemirror_mode": {
    "name": "ipython",
    "version": 3
   },
   "file_extension": ".py",
   "mimetype": "text/x-python",
   "name": "python",
   "nbconvert_exporter": "python",
   "pygments_lexer": "ipython3",
   "version": "3.9.16"
  }
 },
 "nbformat": 4,
 "nbformat_minor": 2
}
