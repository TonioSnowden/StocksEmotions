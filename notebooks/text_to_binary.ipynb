{
 "cells": [
  {
   "cell_type": "code",
   "execution_count": 47,
   "metadata": {},
   "outputs": [],
   "source": [
    "import pandas as pd\n",
    "import torch\n",
    "from transformers import AutoTokenizer, AutoModelForSequenceClassification\n",
    "from sklearn.model_selection import train_test_split\n",
    "from sklearn.feature_extraction.text import CountVectorizer\n",
    "from sklearn.feature_extraction.text import TfidfVectorizer\n",
    "from sklearn.metrics import accuracy_score, precision_score, recall_score, f1_score\n",
    "from sklearn.metrics import confusion_matrix\n",
    "import seaborn as sns\n",
    "import numpy as np\n",
    "import scipy\n",
    "import matplotlib.pyplot as plt\n",
    "from sklearn.linear_model import LogisticRegression\n",
    "from sklearn.metrics import classification_report\n",
    "from sklearn.naive_bayes import MultinomialNB\n"
   ]
  },
  {
   "cell_type": "markdown",
   "metadata": {},
   "source": [
    "# Benchmark models"
   ]
  },
  {
   "cell_type": "markdown",
   "metadata": {},
   "source": [
    "### Benchmark model : Bag of words"
   ]
  },
  {
   "cell_type": "code",
   "execution_count": 35,
   "metadata": {},
   "outputs": [],
   "source": [
    "#Import the dataset\n",
    "data_path = '/Users/romainberquet/Desktop/epfl/ml-fin/Projet/archive/all-data.csv'\n",
    "df = pd.read_csv(data_path, \n",
    "                   encoding='unicode_escape',\n",
    "                   names=['Sentiment', 'Text'])"
   ]
  },
  {
   "cell_type": "code",
   "execution_count": 36,
   "metadata": {},
   "outputs": [],
   "source": [
    "df = df.rename(columns={'Text' : 'text' , 'Sentiment' : 'sentiment'})"
   ]
  },
  {
   "cell_type": "code",
   "execution_count": 16,
   "metadata": {},
   "outputs": [],
   "source": [
    "df[\"text\"]=df[\"text\"].str.lower() #We convert our texts to lowercase.\n",
    "df[\"text\"]=df[\"text\"].str.replace(\"[^\\w\\s]\",\"\") #We remove punctuation marks from our texts.\n",
    "df[\"text\"]=df[\"text\"].str.replace(\"\\d+\",\"\") #We are removing numbers from our texts.\n",
    "df[\"text\"]=df[\"text\"].str.replace(\"\\n\",\"\").replace(\"\\r\",\"\") #We remove spaces in our texts."
   ]
  },
  {
   "cell_type": "code",
   "execution_count": 21,
   "metadata": {},
   "outputs": [],
   "source": [
    "# Splitting the data into training and testing sets\n",
    "X_train_bow, X_test_bow, y_train_bow, y_test_bow = train_test_split(df['text'], df['sentiment'], test_size=0.2, random_state=42)\n",
    "\n",
    "# Convert text data into a bag-of-words model\n",
    "vectorizer = CountVectorizer()\n",
    "X_train_counts = vectorizer.fit_transform(X_train_bow)\n",
    "X_test_counts = vectorizer.transform(X_test_bow)\n",
    "\n",
    "# Training a Naive Bayes classifier\n",
    "clf = MultinomialNB()\n",
    "clf.fit(X_train_counts, y_train_bow)\n",
    "\n",
    "# Predicting and evaluating the model\n",
    "y_pred_bow = clf.predict(X_test_counts)\n",
    "\n",
    "# Calculate the performance metrics for each model\n",
    "metrics_bow = {\n",
    "    'accuracy': accuracy_score(y_test_bow, y_pred_bow),\n",
    "    'precision': precision_score(y_test_bow, y_pred_bow, average='weighted'),\n",
    "    'recall': recall_score(y_test_bow, y_pred_bow, average='weighted'),\n",
    "    'f1': f1_score(y_test_bow, y_pred_bow, average='weighted')\n",
    "}"
   ]
  },
  {
   "cell_type": "markdown",
   "metadata": {},
   "source": [
    "### Benchmark model : TF-IDF (Term Frequency-Inverse Frequency)"
   ]
  },
  {
   "cell_type": "code",
   "execution_count": 22,
   "metadata": {},
   "outputs": [],
   "source": [
    "X_train_tfidf, X_test_tfidf, y_train_tfidf, y_test_tfidf = train_test_split(df['text'], df['sentiment'], test_size=0.2, random_state=42)\n",
    "\n",
    "tfidf_vectorizer = TfidfVectorizer()\n",
    "\n",
    "# Fit and transform the training data\n",
    "X_train_tfidf = tfidf_vectorizer.fit_transform(X_train_tfidf)\n",
    "\n",
    "# Only transform the test data\n",
    "X_test_tfidf = tfidf_vectorizer.transform(X_test_tfidf)\n",
    "\n",
    "clf = MultinomialNB()\n",
    "clf.fit(X_train_tfidf, y_train_tfidf)\n",
    "\n",
    "y_pred_tfidf = clf.predict(X_test_tfidf)\n",
    "\n",
    "metrics_tfidf = {\n",
    "    'accuracy': accuracy_score(y_test_tfidf, y_pred_tfidf),\n",
    "    'precision': precision_score(y_test_tfidf, y_pred_tfidf, average='weighted'),\n",
    "    'recall': recall_score(y_test_tfidf, y_pred_tfidf, average='weighted'),\n",
    "    'f1': f1_score(y_test_tfidf, y_pred_tfidf, average='weighted')\n",
    "}"
   ]
  },
  {
   "cell_type": "markdown",
   "metadata": {},
   "source": [
    "### Benchmark model : GloVe"
   ]
  },
  {
   "cell_type": "code",
   "execution_count": 39,
   "metadata": {},
   "outputs": [
    {
     "name": "stdout",
     "output_type": "stream",
     "text": [
      "Loading Glove Model\n",
      "400000 words loaded!\n"
     ]
    }
   ],
   "source": [
    "def load_glove_model(glove_file_path):\n",
    "    print(\"Loading Glove Model\")\n",
    "    with open(glove_file_path, 'r', encoding='utf-8') as f:\n",
    "        glove_model = {}\n",
    "        for line in f:\n",
    "            split_line = line.split()\n",
    "            word = split_line[0]\n",
    "            embedding = np.array([float(val) for val in split_line[1:]])\n",
    "            glove_model[word] = embedding\n",
    "        print(f\"{len(glove_model)} words loaded!\")\n",
    "        return glove_model\n",
    "\n",
    "glove_path = '/Users/romainberquet/Desktop/epfl/ml-fin/Projet/glove.6B/glove.6B.300d.txt'  # replace with your file path\n",
    "glove_model = load_glove_model(glove_path)\n",
    "\n",
    "X_train_glove, X_test_glove, y_train_glove, y_test_glove = train_test_split(df['text'], df['sentiment'], test_size=0.2, random_state=42)"
   ]
  },
  {
   "cell_type": "code",
   "execution_count": 42,
   "metadata": {},
   "outputs": [
    {
     "name": "stdout",
     "output_type": "stream",
     "text": [
      "              precision    recall  f1-score   support\n",
      "\n",
      "    negative       0.75      0.49      0.59       110\n",
      "     neutral       0.78      0.89      0.83       571\n",
      "    positive       0.70      0.60      0.64       289\n",
      "\n",
      "    accuracy                           0.76       970\n",
      "   macro avg       0.74      0.66      0.69       970\n",
      "weighted avg       0.75      0.76      0.75       970\n",
      "\n"
     ]
    }
   ],
   "source": [
    "def document_vector(glove_model, doc):\n",
    "    words = doc.split()\n",
    "    word_vectors = [glove_model[word] for word in words if word in glove_model]\n",
    "    return np.mean(word_vectors, axis=0) if word_vectors else np.zeros(300)  # 300 is the GloVe vector size\n",
    "\n",
    "\n",
    "X_train_vectors = np.array([document_vector(glove_model, text) for text in X_train_glove])\n",
    "X_test_vectors = np.array([document_vector(glove_model, text) for text in X_test_glove])\n",
    "\n",
    "# Train the model\n",
    "model = LogisticRegression(max_iter=1000)\n",
    "model.fit(X_train_vectors, y_train_glove)\n",
    "\n",
    "# Evaluate the model\n",
    "y_pred_glove= model.predict(X_test_vectors)\n",
    "print(classification_report(y_test_glove, y_pred_glove))\n",
    "\n",
    "metrics_glove = {\n",
    "    'accuracy': accuracy_score(y_test_glove, y_pred_glove),\n",
    "    'precision': precision_score(y_test_glove, y_pred_glove, average='weighted'),\n",
    "    'recall': recall_score(y_test_glove, y_pred_glove, average='weighted'),\n",
    "    'f1': f1_score(y_test_glove, y_pred_glove, average='weighted')\n",
    "}"
   ]
  },
  {
   "cell_type": "markdown",
   "metadata": {},
   "source": [
    "### Financial BERT"
   ]
  },
  {
   "cell_type": "code",
   "execution_count": 46,
   "metadata": {},
   "outputs": [],
   "source": [
    "tokenizer = AutoTokenizer.from_pretrained(\"ProsusAI/finbert\")\n",
    "model = AutoModelForSequenceClassification.from_pretrained(\"ProsusAI/finbert\")"
   ]
  },
  {
   "cell_type": "code",
   "execution_count": 48,
   "metadata": {},
   "outputs": [],
   "source": [
    "X = df['text'].to_list()\n",
    "y = df['sentiment'].to_list()\n",
    "\n",
    "preds = []\n",
    "preds_proba = []\n",
    "tokenizer_kwargs = {\"padding\": True, \"truncation\": True, \"max_length\": 512}\n",
    "for x in X:\n",
    "    with torch.no_grad():\n",
    "        input_sequence = tokenizer(x, return_tensors=\"pt\", **tokenizer_kwargs)\n",
    "        logits = model(**input_sequence).logits\n",
    "        scores = {\n",
    "        k: v\n",
    "        for k, v in zip(\n",
    "            model.config.id2label.values(),\n",
    "            scipy.special.softmax(logits.numpy().squeeze()),\n",
    "        )\n",
    "    }\n",
    "    sentimentFinbert = max(scores, key=scores.get)\n",
    "    probabilityFinbert = max(scores.values())\n",
    "    preds.append(sentimentFinbert)\n",
    "    preds_proba.append(probabilityFinbert)"
   ]
  },
  {
   "cell_type": "code",
   "execution_count": 50,
   "metadata": {},
   "outputs": [],
   "source": [
    "classification_report_finbert = classification_report(y, preds)"
   ]
  },
  {
   "cell_type": "markdown",
   "metadata": {},
   "source": [
    "# Models comparaison"
   ]
  },
  {
   "cell_type": "code",
   "execution_count": 45,
   "metadata": {},
   "outputs": [
    {
     "data": {
      "image/png": "[encoded data removed]",
      "text/plain": [
       "<Figure size 1000x600 with 1 Axes>"
      ]
     },
     "metadata": {},
     "output_type": "display_data"
    }
   ],
   "source": [
    "# Prepare DataFrame for Seaborn\n",
    "data = []\n",
    "for metric in metrics_bow.keys():\n",
    "    data.append({'Model': 'Bag-of-Words', 'Metric': metric, 'Score': metrics_bow[metric]})\n",
    "    data.append({'Model': 'TF-IDF', 'Metric': metric, 'Score': metrics_tfidf[metric]})\n",
    "    data.append({'Model': 'GloVe', 'Metric': metric, 'Score': metrics_glove[metric]})\n",
    "    data.append({'Model': 'FinBERT', 'Metric': metric, 'Score': metrics_glove[metric]})\n",
    "\n",
    "\n",
    "metrics = pd.DataFrame(data)\n",
    "\n",
    "# Create the plot\n",
    "plt.figure(figsize=(10, 6))\n",
    "sns.barplot(x='Metric', y='Score', hue='Model', data=metrics , palette= 'Set2')\n",
    "\n",
    "# Add labels and title\n",
    "plt.title('Comparison of Model Performances: Bag-of-Words vs TF-IDF', fontsize=16)\n",
    "plt.xlabel('Metric', fontsize=14)\n",
    "plt.ylabel('Score', fontsize=14)\n",
    "plt.xticks(fontsize=12)\n",
    "plt.yticks(fontsize=12)\n",
    "plt.legend(title='Model', title_fontsize='13', fontsize='12')\n",
    "\n",
    "# Show the plot\n",
    "plt.show()\n"
   ]
  },
  {
   "cell_type": "markdown",
   "metadata": {},
   "source": [
    "# FINBERT"
   ]
  },
  {
   "cell_type": "code",
   "execution_count": 2,
   "metadata": {},
   "outputs": [],
   "source": [
    "news_df = pd.read_csv('data/news_cleaned.csv')"
   ]
  },
  {
   "cell_type": "code",
   "execution_count": 4,
   "metadata": {},
   "outputs": [],
   "source": [
    "#Keep only the news related to microsoft\n",
    "msft_news_df = news_df[news_df.company == 'MSFT']\n",
    "msft_news_df['article_tokens'] = msft_news_df['text'].apply(lambda x: len(tokenizer.tokenize(x)))"
   ]
  },
  {
   "cell_type": "code",
   "execution_count": 5,
   "metadata": {},
   "outputs": [
    {
     "ename": "ValueError",
     "evalue": "a must be greater than 0 unless no samples are taken",
     "output_type": "error",
     "traceback": [
      "\u001b[0;31m---------------------------------------------------------------------------\u001b[0m",
      "\u001b[0;31mValueError\u001b[0m                                Traceback (most recent call last)",
      "\u001b[1;32m/Users/tony/Desktop/Antoine/Semestre/9.Financial ML/StocksEmotions/text_to_binary.ipynb Cell 5\u001b[0m line \u001b[0;36m4\n\u001b[1;32m      <a href='vscode-notebook-cell:/Users/tony/Desktop/Antoine/Semestre/9.Financial%20ML/StocksEmotions/text_to_binary.ipynb#W4sZmlsZQ%3D%3D?line=1'>2</a>\u001b[0m df \u001b[39m=\u001b[39m msft_news_df\u001b[39m.\u001b[39mcopy()\n\u001b[1;32m      <a href='vscode-notebook-cell:/Users/tony/Desktop/Antoine/Semestre/9.Financial%20ML/StocksEmotions/text_to_binary.ipynb#W4sZmlsZQ%3D%3D?line=2'>3</a>\u001b[0m df \u001b[39m=\u001b[39m df[df\u001b[39m.\u001b[39marticle_tokens \u001b[39m<\u001b[39m \u001b[39m350\u001b[39m]\n\u001b[0;32m----> <a href='vscode-notebook-cell:/Users/tony/Desktop/Antoine/Semestre/9.Financial%20ML/StocksEmotions/text_to_binary.ipynb#W4sZmlsZQ%3D%3D?line=3'>4</a>\u001b[0m df \u001b[39m=\u001b[39m df\u001b[39m.\u001b[39;49msample(\u001b[39m1\u001b[39;49m)\n",
      "File \u001b[0;32m~/opt/anaconda3/envs/myenv/lib/python3.9/site-packages/pandas/core/generic.py:5773\u001b[0m, in \u001b[0;36mNDFrame.sample\u001b[0;34m(self, n, frac, replace, weights, random_state, axis, ignore_index)\u001b[0m\n\u001b[1;32m   5770\u001b[0m \u001b[39mif\u001b[39;00m weights \u001b[39mis\u001b[39;00m \u001b[39mnot\u001b[39;00m \u001b[39mNone\u001b[39;00m:\n\u001b[1;32m   5771\u001b[0m     weights \u001b[39m=\u001b[39m sample\u001b[39m.\u001b[39mpreprocess_weights(\u001b[39mself\u001b[39m, weights, axis)\n\u001b[0;32m-> 5773\u001b[0m sampled_indices \u001b[39m=\u001b[39m sample\u001b[39m.\u001b[39;49msample(obj_len, size, replace, weights, rs)\n\u001b[1;32m   5774\u001b[0m result \u001b[39m=\u001b[39m \u001b[39mself\u001b[39m\u001b[39m.\u001b[39mtake(sampled_indices, axis\u001b[39m=\u001b[39maxis)\n\u001b[1;32m   5776\u001b[0m \u001b[39mif\u001b[39;00m ignore_index:\n",
      "File \u001b[0;32m~/opt/anaconda3/envs/myenv/lib/python3.9/site-packages/pandas/core/sample.py:150\u001b[0m, in \u001b[0;36msample\u001b[0;34m(obj_len, size, replace, weights, random_state)\u001b[0m\n\u001b[1;32m    147\u001b[0m     \u001b[39melse\u001b[39;00m:\n\u001b[1;32m    148\u001b[0m         \u001b[39mraise\u001b[39;00m \u001b[39mValueError\u001b[39;00m(\u001b[39m\"\u001b[39m\u001b[39mInvalid weights: weights sum to zero\u001b[39m\u001b[39m\"\u001b[39m)\n\u001b[0;32m--> 150\u001b[0m \u001b[39mreturn\u001b[39;00m random_state\u001b[39m.\u001b[39;49mchoice(obj_len, size\u001b[39m=\u001b[39;49msize, replace\u001b[39m=\u001b[39;49mreplace, p\u001b[39m=\u001b[39;49mweights)\u001b[39m.\u001b[39mastype(\n\u001b[1;32m    151\u001b[0m     np\u001b[39m.\u001b[39mintp, copy\u001b[39m=\u001b[39m\u001b[39mFalse\u001b[39;00m\n\u001b[1;32m    152\u001b[0m )\n",
      "File \u001b[0;32mmtrand.pyx:909\u001b[0m, in \u001b[0;36mnumpy.random.mtrand.RandomState.choice\u001b[0;34m()\u001b[0m\n",
      "\u001b[0;31mValueError\u001b[0m: a must be greater than 0 unless no samples are taken"
     ]
    }
   ],
   "source": [
    "#Keep only the article that have less than 512 tokens\n",
    "df = msft_news_df.copy()\n",
    "df = df[df.article_tokens < 350]\n",
    "df = df.sample(1)"
   ]
  },
  {
   "cell_type": "code",
   "execution_count": 25,
   "metadata": {},
   "outputs": [
    {
     "data": {
      "text/plain": [
       "array(['   Microsoft Corp.\\'s chief executive is promising to boost employee compensation amid continued low unemployment across the U.S. and high inflation.    Satya Nadella told Microsoft employees Monday that the software maker plans to nearly double its global budget for merit-based salary raises, a person familiar with the announcement said. Mr. Nadella also said the company would increase annual stock compensation at least 25%, the person said.    Microsoft\\'s readiness to spend more on staff follows similar moves by rivals in its core cloud-computing sector. Late last year, Alphabet Inc.\\'s Google announced a new cash bonus plan that lets employees receive bonuses of nearly any size for nearly any reason. In February, Amazon.com Inc. said it would double its cash-pay cap for employees.    Microsoft has also seen competition for talent elsewhere. Its augmented reality HoloLens team has experienced a large number of employees being poached by Facebook owner Meta Platforms Inc.    For employees with experience building augmented-reality hardware, Meta was willing to double salary for some Microsoft employees, people familiar with the situation said.    More recently, some companies in tech have signaled they were becoming more thrifty. Meta and Twitter Inc., have both said they were pulling back on staff additions and spending.    \"This increased investment in our worldwide compensation reflects the ongoing commitment we have to providing a highly competitive experience for our employees,\" a Microsoft spokeswoman said. '],\n",
       "      dtype=object)"
      ]
     },
     "execution_count": 25,
     "metadata": {},
     "output_type": "execute_result"
    }
   ],
   "source": [
    "df.text.values"
   ]
  },
  {
   "cell_type": "code",
   "execution_count": 33,
   "metadata": {},
   "outputs": [
    {
     "name": "stdout",
     "output_type": "stream",
     "text": [
      "[',, being poached by Facebook owner Meta Platforms Inc. Meta and']\n"
     ]
    }
   ],
   "source": [
    "task_prefix = \"Classify the sentiment of this text as positive, negative, or neutral: \"\n",
    "# use different length sentences to test batching\n",
    "inputs = tokenizer([task_prefix + article for article in df.text.values], return_tensors=\"pt\", padding=True)\n",
    "\n",
    "output_sequences = model.generate(\n",
    "    input_ids=inputs[\"input_ids\"],\n",
    "    attention_mask=inputs[\"attention_mask\"],\n",
    "    do_sample=False,  # disable sampling to test if batching affects output\n",
    ")\n",
    "\n",
    "print(tokenizer.batch_decode(output_sequences, skip_special_tokens=True))"
   ]
  },
  {
   "cell_type": "code",
   "execution_count": 3,
   "metadata": {},
   "outputs": [],
   "source": [
    "tokenizer = AutoTokenizer.from_pretrained(\"ProsusAI/finbert\")\n",
    "model = AutoModelForSequenceClassification.from_pretrained(\"ProsusAI/finbert\" , output_attentions=True)"
   ]
  },
  {
   "cell_type": "code",
   "execution_count": 4,
   "metadata": {},
   "outputs": [
    {
     "name": "stderr",
     "output_type": "stream",
     "text": [
      "Token indices sequence length is longer than the specified maximum sequence length for this model (936 > 512). Running this sequence through the model will result in indexing errors\n"
     ]
    }
   ],
   "source": [
    "#Test summarization on few apple news and keep news that are less than 512 tokens\n",
    "AAPL_news_df = news_df[news_df['company'] == 'MSFT']\n",
    "AAPL_news_df = AAPL_news_df[AAPL_news_df['text'].apply(lambda x: len(tokenizer.tokenize(x)) < 512)]"
   ]
  },
  {
   "cell_type": "code",
   "execution_count": 5,
   "metadata": {},
   "outputs": [],
   "source": [
    "AAPL_sample = AAPL_news_df.sample(50)\n",
    "articles  = AAPL_sample.text.values.tolist()"
   ]
  },
  {
   "cell_type": "code",
   "execution_count": 6,
   "metadata": {},
   "outputs": [
    {
     "name": "stdout",
     "output_type": "stream",
     "text": [
      "torch.Size([50, 3])\n",
      "tensor([[0.0191, 0.8053, 0.1756],\n",
      "        [0.0233, 0.7819, 0.1948],\n",
      "        [0.0073, 0.9660, 0.0267],\n",
      "        [0.0567, 0.0219, 0.9214],\n",
      "        [0.0112, 0.9602, 0.0286],\n",
      "        [0.2321, 0.0147, 0.7532],\n",
      "        [0.0393, 0.0428, 0.9179],\n",
      "        [0.0424, 0.3373, 0.6203],\n",
      "        [0.0734, 0.0197, 0.9069],\n",
      "        [0.0396, 0.0228, 0.9376],\n",
      "        [0.0145, 0.9487, 0.0368],\n",
      "        [0.0101, 0.9727, 0.0172],\n",
      "        [0.0191, 0.9572, 0.0237],\n",
      "        [0.0851, 0.2310, 0.6839],\n",
      "        [0.5005, 0.4339, 0.0656],\n",
      "        [0.0903, 0.1102, 0.7996],\n",
      "        [0.0383, 0.0403, 0.9214],\n",
      "        [0.1059, 0.0539, 0.8401],\n",
      "        [0.0075, 0.9632, 0.0293],\n",
      "        [0.4313, 0.0285, 0.5402],\n",
      "        [0.1340, 0.0181, 0.8479],\n",
      "        [0.2448, 0.5369, 0.2183],\n",
      "        [0.2010, 0.0119, 0.7871],\n",
      "        [0.1464, 0.0189, 0.8347],\n",
      "        [0.0330, 0.4900, 0.4770],\n",
      "        [0.2108, 0.0118, 0.7774],\n",
      "        [0.4088, 0.1819, 0.4093],\n",
      "        [0.7643, 0.0073, 0.2284],\n",
      "        [0.0362, 0.4547, 0.5091],\n",
      "        [0.1347, 0.8035, 0.0618],\n",
      "        [0.0156, 0.9659, 0.0185],\n",
      "        [0.0623, 0.6034, 0.3342],\n",
      "        [0.0087, 0.9736, 0.0176],\n",
      "        [0.1018, 0.0136, 0.8846],\n",
      "        [0.0196, 0.9519, 0.0285],\n",
      "        [0.0902, 0.0323, 0.8775],\n",
      "        [0.0642, 0.2548, 0.6809],\n",
      "        [0.0182, 0.5010, 0.4808],\n",
      "        [0.0206, 0.7267, 0.2527],\n",
      "        [0.0350, 0.4661, 0.4989],\n",
      "        [0.0250, 0.9573, 0.0178],\n",
      "        [0.3795, 0.0203, 0.6002],\n",
      "        [0.0360, 0.5976, 0.3664],\n",
      "        [0.0137, 0.7088, 0.2776],\n",
      "        [0.0293, 0.1744, 0.7963],\n",
      "        [0.1202, 0.0287, 0.8511],\n",
      "        [0.1041, 0.0145, 0.8814],\n",
      "        [0.1218, 0.0647, 0.8135],\n",
      "        [0.2327, 0.0187, 0.7486],\n",
      "        [0.0092, 0.9591, 0.0317]], grad_fn=<SoftmaxBackward0>)\n"
     ]
    },
    {
     "data": {
      "text/html": [
       "<div>\n",
       "<style scoped>\n",
       "    .dataframe tbody tr th:only-of-type {\n",
       "        vertical-align: middle;\n",
       "    }\n",
       "\n",
       "    .dataframe tbody tr th {\n",
       "        vertical-align: top;\n",
       "    }\n",
       "\n",
       "    .dataframe thead th {\n",
       "        text-align: right;\n",
       "    }\n",
       "</style>\n",
       "<table border=\"1\" class=\"dataframe\">\n",
       "  <thead>\n",
       "    <tr style=\"text-align: right;\">\n",
       "      <th></th>\n",
       "      <th>Headline</th>\n",
       "      <th>Positive</th>\n",
       "      <th>Negative</th>\n",
       "      <th>Neutral</th>\n",
       "    </tr>\n",
       "  </thead>\n",
       "  <tbody>\n",
       "    <tr>\n",
       "      <th>0</th>\n",
       "      <td>Some companies declined to participate. They i...</td>\n",
       "      <td>0.019118</td>\n",
       "      <td>0.805273</td>\n",
       "      <td>0.175609</td>\n",
       "    </tr>\n",
       "    <tr>\n",
       "      <th>1</th>\n",
       "      <td>BNY Investment Adviserneither admitted nor den...</td>\n",
       "      <td>0.023341</td>\n",
       "      <td>0.781879</td>\n",
       "      <td>0.194781</td>\n",
       "    </tr>\n",
       "    <tr>\n",
       "      <th>2</th>\n",
       "      <td>Another videogaming company, Niantic Inc., sai...</td>\n",
       "      <td>0.007295</td>\n",
       "      <td>0.966018</td>\n",
       "      <td>0.026687</td>\n",
       "    </tr>\n",
       "    <tr>\n",
       "      <th>3</th>\n",
       "      <td>Well-meaning Bill Gates falls into the zero em...</td>\n",
       "      <td>0.056712</td>\n",
       "      <td>0.021899</td>\n",
       "      <td>0.921388</td>\n",
       "    </tr>\n",
       "    <tr>\n",
       "      <th>4</th>\n",
       "      <td>Parent company Alphabet reported 163,906 emplo...</td>\n",
       "      <td>0.011186</td>\n",
       "      <td>0.960237</td>\n",
       "      <td>0.028577</td>\n",
       "    </tr>\n",
       "  </tbody>\n",
       "</table>\n",
       "</div>"
      ],
      "text/plain": [
       "                                            Headline  Positive  Negative  \\\n",
       "0  Some companies declined to participate. They i...  0.019118  0.805273   \n",
       "1  BNY Investment Adviserneither admitted nor den...  0.023341  0.781879   \n",
       "2  Another videogaming company, Niantic Inc., sai...  0.007295  0.966018   \n",
       "3  Well-meaning Bill Gates falls into the zero em...  0.056712  0.021899   \n",
       "4  Parent company Alphabet reported 163,906 emplo...  0.011186  0.960237   \n",
       "\n",
       "    Neutral  \n",
       "0  0.175609  \n",
       "1  0.194781  \n",
       "2  0.026687  \n",
       "3  0.921388  \n",
       "4  0.028577  "
      ]
     },
     "execution_count": 6,
     "metadata": {},
     "output_type": "execute_result"
    }
   ],
   "source": [
    "inputs = tokenizer(articles, padding = True, truncation = True, return_tensors='pt')\n",
    "outputs = model(**inputs, output_hidden_states=True)\n",
    "print(outputs.logits.shape)\n",
    "\n",
    "predictions = torch.nn.functional.softmax(outputs.logits, dim=-1)\n",
    "print(predictions)\n",
    "\n",
    "\n",
    "import pandas as pd\n",
    "\n",
    "\n",
    "positive = predictions[:, 0].tolist()\n",
    "negative = predictions[:, 1].tolist()\n",
    "neutral = predictions[:, 2].tolist()\n",
    "\n",
    "\n",
    "table = {'Headline':articles,\n",
    "         \"Positive\":positive,\n",
    "         \"Negative\":negative, \n",
    "         \"Neutral\":neutral}\n",
    "      \n",
    "df = pd.DataFrame(table, columns = [\"Headline\", \"Positive\", \"Negative\", \"Neutral\"])\n",
    "\n",
    "\n",
    "df.head(5)"
   ]
  },
  {
   "cell_type": "code",
   "execution_count": 7,
   "metadata": {},
   "outputs": [
    {
     "data": {
      "text/plain": [
       "torch.Size([50, 501, 768])"
      ]
     },
     "execution_count": 7,
     "metadata": {},
     "output_type": "execute_result"
    }
   ],
   "source": [
    "embeddings = outputs.hidden_states[-1]\n",
    "embeddings.shape\n"
   ]
  },
  {
   "cell_type": "code",
   "execution_count": 8,
   "metadata": {},
   "outputs": [
    {
     "data": {
      "text/plain": [
       "(50, 768)"
      ]
     },
     "execution_count": 8,
     "metadata": {},
     "output_type": "execute_result"
    }
   ],
   "source": [
    "flattened_embeddings = embeddings.mean(dim=1)\n",
    "flattened_embeddings_numpy = flattened_embeddings.detach().numpy()\n",
    "flattened_embeddings_numpy.shape"
   ]
  },
  {
   "cell_type": "code",
   "execution_count": 14,
   "metadata": {},
   "outputs": [
    {
     "data": {
      "text/plain": [
       "(50, 5)"
      ]
     },
     "execution_count": 14,
     "metadata": {},
     "output_type": "execute_result"
    }
   ],
   "source": [
    "#run pca on the embeddings to reduce the dimensions to 5\n",
    "from sklearn.decomposition import PCA\n",
    "pca = PCA(n_components=2)\n",
    "principalComponents = pca.fit_transform(flattened_embeddings_numpy)\n",
    "principalComponents.shape"
   ]
  },
  {
   "cell_type": "code",
   "execution_count": 9,
   "metadata": {},
   "outputs": [
    {
     "name": "stderr",
     "output_type": "stream",
     "text": [
      "/Users/romainberquet/opt/anaconda3/envs/ada/lib/python3.9/site-packages/sklearn/cluster/_kmeans.py:1412: FutureWarning: The default value of `n_init` will change from 10 to 'auto' in 1.4. Set the value of `n_init` explicitly to suppress the warning\n",
      "  super()._check_params_vs_input(X, default_n_init=10)\n"
     ]
    },
    {
     "name": "stdout",
     "output_type": "stream",
     "text": [
      "huggingface/tokenizers: The current process just got forked, after parallelism has already been used. Disabling parallelism to avoid deadlocks...\n",
      "To disable this warning, you can either:\n",
      "\t- Avoid using `tokenizers` before the fork if possible\n",
      "\t- Explicitly set the environment variable TOKENIZERS_PARALLELISM=(true | false)\n"
     ]
    }
   ],
   "source": [
    "from sklearn.cluster import KMeans\n",
    "\n",
    "kmeans = KMeans(n_clusters=3, random_state=0)\n",
    "kmeans.fit(flattened_embeddings_numpy)\n",
    "df['Cluster'] = kmeans.labels_\n"
   ]
  },
  {
   "cell_type": "code",
   "execution_count": 16,
   "metadata": {},
   "outputs": [
    {
     "data": {
      "image/png": "[encoded data removed]",
      "text/plain": [
       "<Figure size 640x480 with 1 Axes>"
      ]
     },
     "metadata": {},
     "output_type": "display_data"
    }
   ],
   "source": [
    "from sklearn.decomposition import PCA\n",
    "import matplotlib.pyplot as plt\n",
    "\n",
    "\n",
    "plt.scatter(reduced_embeddings[:, 0], reduced_embeddings[:, 1], c=kmeans.labels_)\n",
    "plt.show()\n"
   ]
  },
  {
   "cell_type": "code",
   "execution_count": 26,
   "metadata": {},
   "outputs": [
    {
     "name": "stderr",
     "output_type": "stream",
     "text": [
      "/var/folders/d9/q7rftjxx3pd2mksp5nhnv4b80000gn/T/ipykernel_15170/1100720748.py:1: SettingWithCopyWarning: \n",
      "A value is trying to be set on a copy of a slice from a DataFrame.\n",
      "Try using .loc[row_indexer,col_indexer] = value instead\n",
      "\n",
      "See the caveats in the documentation: https://pandas.pydata.org/pandas-docs/stable/user_guide/indexing.html#returning-a-view-versus-a-copy\n",
      "  APPL_sample_df['published'] = pd.to_datetime(APPL_sample_df['published'])\n"
     ]
    },
    {
     "name": "stdout",
     "output_type": "stream",
     "text": [
      "[*********************100%%**********************]  1 of 1 completed\n"
     ]
    },
    {
     "data": {
      "image/png": "[encoded data removed]",
      "text/plain": [
       "<Figure size 2000x1000 with 1 Axes>"
      ]
     },
     "metadata": {},
     "output_type": "display_data"
    }
   ],
   "source": [
    "APPL_sample_df['published'] = pd.to_datetime(APPL_sample_df['published'])\n",
    "#get the first date and last date of published news\n",
    "min_published = APPL_sample_df['published'].min()\n",
    "max_published = APPL_sample_df['published'].max()\n",
    "\n",
    "\n",
    "#import apple stock data from yahoo finance and filter to keep only data between min and max published date\n",
    "import yfinance as yf\n",
    "import seaborn as sns\n",
    "AAPL_stock_df = yf.download('AAPL', start=min_published, end=max_published, progress=True)\n",
    "AAPL_stock_df.reset_index(inplace=True)\n",
    "\n",
    "\n",
    "#Put on the stocks plot a vertical line for each news published date, green for positive news and red for negative news\n",
    "import numpy as np\n",
    "import matplotlib.pyplot as plt\n",
    "import matplotlib.dates as mdates\n",
    "from datetime import datetime\n",
    "\n",
    "fig, ax = plt.subplots(figsize=(20,10))\n",
    "ax.plot(AAPL_stock_df['Date'], AAPL_stock_df['Close'])\n",
    "for index, row in APPL_sample_df.iterrows():\n",
    "    if row['sentiment'] == 'negative':\n",
    "        ax.axvline(row['published'], color='red', alpha=0.5)\n",
    "    else:\n",
    "        ax.axvline(row['published'], color='green', alpha=0.5)"
   ]
  },
  {
   "cell_type": "code",
   "execution_count": 206,
   "metadata": {},
   "outputs": [
    {
     "data": {
      "text/html": [
       "<div>\n",
       "<style scoped>\n",
       "    .dataframe tbody tr th:only-of-type {\n",
       "        vertical-align: middle;\n",
       "    }\n",
       "\n",
       "    .dataframe tbody tr th {\n",
       "        vertical-align: top;\n",
       "    }\n",
       "\n",
       "    .dataframe thead th {\n",
       "        text-align: right;\n",
       "    }\n",
       "</style>\n",
       "<table border=\"1\" class=\"dataframe\">\n",
       "  <thead>\n",
       "    <tr style=\"text-align: right;\">\n",
       "      <th></th>\n",
       "      <th>Open</th>\n",
       "      <th>High</th>\n",
       "      <th>Low</th>\n",
       "      <th>Close</th>\n",
       "      <th>Adj Close</th>\n",
       "      <th>Volume</th>\n",
       "      <th>strategy</th>\n",
       "    </tr>\n",
       "    <tr>\n",
       "      <th>Date</th>\n",
       "      <th></th>\n",
       "      <th></th>\n",
       "      <th></th>\n",
       "      <th></th>\n",
       "      <th></th>\n",
       "      <th></th>\n",
       "      <th></th>\n",
       "    </tr>\n",
       "  </thead>\n",
       "  <tbody>\n",
       "    <tr>\n",
       "      <th>2021-02-05</th>\n",
       "      <td>137.350006</td>\n",
       "      <td>137.419998</td>\n",
       "      <td>135.860001</td>\n",
       "      <td>136.759995</td>\n",
       "      <td>134.764709</td>\n",
       "      <td>75693800</td>\n",
       "      <td>1145.470001</td>\n",
       "    </tr>\n",
       "    <tr>\n",
       "      <th>2021-02-08</th>\n",
       "      <td>136.029999</td>\n",
       "      <td>136.960007</td>\n",
       "      <td>134.919998</td>\n",
       "      <td>136.910004</td>\n",
       "      <td>134.912552</td>\n",
       "      <td>71297200</td>\n",
       "      <td>1145.470001</td>\n",
       "    </tr>\n",
       "    <tr>\n",
       "      <th>2021-02-09</th>\n",
       "      <td>136.619995</td>\n",
       "      <td>137.880005</td>\n",
       "      <td>135.850006</td>\n",
       "      <td>136.009995</td>\n",
       "      <td>134.025696</td>\n",
       "      <td>76774200</td>\n",
       "      <td>1145.470001</td>\n",
       "    </tr>\n",
       "    <tr>\n",
       "      <th>2021-02-10</th>\n",
       "      <td>136.479996</td>\n",
       "      <td>136.990005</td>\n",
       "      <td>134.399994</td>\n",
       "      <td>135.389999</td>\n",
       "      <td>133.414719</td>\n",
       "      <td>73046600</td>\n",
       "      <td>1145.470001</td>\n",
       "    </tr>\n",
       "    <tr>\n",
       "      <th>2021-02-11</th>\n",
       "      <td>135.899994</td>\n",
       "      <td>136.389999</td>\n",
       "      <td>133.770004</td>\n",
       "      <td>135.130005</td>\n",
       "      <td>133.158524</td>\n",
       "      <td>64280000</td>\n",
       "      <td>1145.470001</td>\n",
       "    </tr>\n",
       "    <tr>\n",
       "      <th>...</th>\n",
       "      <td>...</td>\n",
       "      <td>...</td>\n",
       "      <td>...</td>\n",
       "      <td>...</td>\n",
       "      <td>...</td>\n",
       "      <td>...</td>\n",
       "      <td>...</td>\n",
       "    </tr>\n",
       "    <tr>\n",
       "      <th>2022-12-07</th>\n",
       "      <td>142.190002</td>\n",
       "      <td>143.369995</td>\n",
       "      <td>140.000000</td>\n",
       "      <td>140.940002</td>\n",
       "      <td>140.341248</td>\n",
       "      <td>69721100</td>\n",
       "      <td>6818.800049</td>\n",
       "    </tr>\n",
       "    <tr>\n",
       "      <th>2022-12-08</th>\n",
       "      <td>142.360001</td>\n",
       "      <td>143.520004</td>\n",
       "      <td>141.100006</td>\n",
       "      <td>142.649994</td>\n",
       "      <td>142.043976</td>\n",
       "      <td>62128300</td>\n",
       "      <td>6818.800049</td>\n",
       "    </tr>\n",
       "    <tr>\n",
       "      <th>2022-12-09</th>\n",
       "      <td>142.339996</td>\n",
       "      <td>145.570007</td>\n",
       "      <td>140.899994</td>\n",
       "      <td>142.160004</td>\n",
       "      <td>141.556076</td>\n",
       "      <td>76097000</td>\n",
       "      <td>6818.800049</td>\n",
       "    </tr>\n",
       "    <tr>\n",
       "      <th>2022-12-12</th>\n",
       "      <td>142.699997</td>\n",
       "      <td>144.500000</td>\n",
       "      <td>141.059998</td>\n",
       "      <td>144.490005</td>\n",
       "      <td>143.876160</td>\n",
       "      <td>70462700</td>\n",
       "      <td>6818.800049</td>\n",
       "    </tr>\n",
       "    <tr>\n",
       "      <th>2022-12-13</th>\n",
       "      <td>149.500000</td>\n",
       "      <td>149.970001</td>\n",
       "      <td>144.240005</td>\n",
       "      <td>145.470001</td>\n",
       "      <td>144.852005</td>\n",
       "      <td>93886200</td>\n",
       "      <td>7400.680054</td>\n",
       "    </tr>\n",
       "  </tbody>\n",
       "</table>\n",
       "<p>468 rows × 7 columns</p>\n",
       "</div>"
      ],
      "text/plain": [
       "                  Open        High         Low       Close   Adj Close  \\\n",
       "Date                                                                     \n",
       "2021-02-05  137.350006  137.419998  135.860001  136.759995  134.764709   \n",
       "2021-02-08  136.029999  136.960007  134.919998  136.910004  134.912552   \n",
       "2021-02-09  136.619995  137.880005  135.850006  136.009995  134.025696   \n",
       "2021-02-10  136.479996  136.990005  134.399994  135.389999  133.414719   \n",
       "2021-02-11  135.899994  136.389999  133.770004  135.130005  133.158524   \n",
       "...                ...         ...         ...         ...         ...   \n",
       "2022-12-07  142.190002  143.369995  140.000000  140.940002  140.341248   \n",
       "2022-12-08  142.360001  143.520004  141.100006  142.649994  142.043976   \n",
       "2022-12-09  142.339996  145.570007  140.899994  142.160004  141.556076   \n",
       "2022-12-12  142.699997  144.500000  141.059998  144.490005  143.876160   \n",
       "2022-12-13  149.500000  149.970001  144.240005  145.470001  144.852005   \n",
       "\n",
       "              Volume     strategy  \n",
       "Date                               \n",
       "2021-02-05  75693800  1145.470001  \n",
       "2021-02-08  71297200  1145.470001  \n",
       "2021-02-09  76774200  1145.470001  \n",
       "2021-02-10  73046600  1145.470001  \n",
       "2021-02-11  64280000  1145.470001  \n",
       "...              ...          ...  \n",
       "2022-12-07  69721100  6818.800049  \n",
       "2022-12-08  62128300  6818.800049  \n",
       "2022-12-09  76097000  6818.800049  \n",
       "2022-12-12  70462700  6818.800049  \n",
       "2022-12-13  93886200  7400.680054  \n",
       "\n",
       "[468 rows x 7 columns]"
      ]
     },
     "execution_count": 206,
     "metadata": {},
     "output_type": "execute_result"
    },
    {
     "data": {
      "image/png": "[encoded data removed]",
      "text/plain": [
       "<Figure size 640x480 with 1 Axes>"
      ]
     },
     "metadata": {},
     "output_type": "display_data"
    }
   ],
   "source": [
    "#Let follow a simple trading strategy, start wtih 1000$ and buy 1 stock when we have a positive news and sell 1 stock when we have a negative news\n",
    "#We will compare this strategy with a buy and hold strategy\n",
    "#Buy and hold strategy\n",
    "buy_and_hold_df = AAPL_stock_df.copy()\n",
    "buy_and_hold_df['buy_and_hold'] = buy_and_hold_df['Close'].apply(lambda x: 1000/x)\n",
    "buy_and_hold_df['buy_and_hold'] = buy_and_hold_df['buy_and_hold'] * buy_and_hold_df['Close'].iloc[0]\n",
    "buy_and_hold_df['buy_and_hold'].plot()\n",
    "\n",
    "\n",
    "\n",
    "\n",
    "#Trading strategy, if the date in the stock data do not match the date in the news data, we will use the last date, test\n",
    "APPL_stock_df = AAPL_stock_df.copy()\n",
    "\n",
    "APPL_stock_df['Date'] = APPL_stock_df['Date'].dt.date\n",
    "APPL_stock_df.set_index('Date', inplace=True)\n",
    "APPL_stock_df['strategy'] = 0\n",
    "APPL_stock_df['strategy'] = APPL_stock_df['strategy'].astype(float)\n",
    "for index, row in APPL_sample_df.iterrows():\n",
    "    if row['sentiment'] == 'negative':\n",
    "        #if the published date is not in the stock data, we will use the last date\n",
    "        if row['published'] not in APPL_stock_df.index:\n",
    "            APPL_stock_df.loc[APPL_stock_df.index[-1], 'strategy'] -= 1\n",
    "        else:\n",
    "            APPL_stock_df.loc[row['published'], 'strategy'] -= 1\n",
    "    else:\n",
    "        #if the published date is not in the stock data, we will use the last date\n",
    "        if row['published'] not in APPL_stock_df.index:\n",
    "            APPL_stock_df.loc[APPL_stock_df.index[-1], 'strategy'] += 1\n",
    "        else:\n",
    "            APPL_stock_df.loc[row['published'], 'strategy'] += 1\n",
    "\n",
    "APPL_stock_df['strategy'] = APPL_stock_df['strategy'].cumsum()\n",
    "APPL_stock_df['strategy'] = APPL_stock_df['strategy'].apply(lambda x: 1000 + x*APPL_stock_df['Close'].iloc[-1])\n",
    "APPL_stock_df['strategy'].plot()\n",
    "        \n",
    "APPL_stock_df"
   ]
  },
  {
   "cell_type": "code",
   "execution_count": 188,
   "metadata": {},
   "outputs": [
    {
     "data": {
      "text/html": [
       "<div>\n",
       "<style scoped>\n",
       "    .dataframe tbody tr th:only-of-type {\n",
       "        vertical-align: middle;\n",
       "    }\n",
       "\n",
       "    .dataframe tbody tr th {\n",
       "        vertical-align: top;\n",
       "    }\n",
       "\n",
       "    .dataframe thead th {\n",
       "        text-align: right;\n",
       "    }\n",
       "</style>\n",
       "<table border=\"1\" class=\"dataframe\">\n",
       "  <thead>\n",
       "    <tr style=\"text-align: right;\">\n",
       "      <th></th>\n",
       "      <th>Open</th>\n",
       "      <th>High</th>\n",
       "      <th>Low</th>\n",
       "      <th>Close</th>\n",
       "      <th>Adj Close</th>\n",
       "      <th>Volume</th>\n",
       "    </tr>\n",
       "    <tr>\n",
       "      <th>Date</th>\n",
       "      <th></th>\n",
       "      <th></th>\n",
       "      <th></th>\n",
       "      <th></th>\n",
       "      <th></th>\n",
       "      <th></th>\n",
       "    </tr>\n",
       "  </thead>\n",
       "  <tbody>\n",
       "    <tr>\n",
       "      <th>2021-02-05</th>\n",
       "      <td>137.350006</td>\n",
       "      <td>137.419998</td>\n",
       "      <td>135.860001</td>\n",
       "      <td>136.759995</td>\n",
       "      <td>134.764725</td>\n",
       "      <td>75693800</td>\n",
       "    </tr>\n",
       "    <tr>\n",
       "      <th>2021-02-08</th>\n",
       "      <td>136.029999</td>\n",
       "      <td>136.960007</td>\n",
       "      <td>134.919998</td>\n",
       "      <td>136.910004</td>\n",
       "      <td>134.912552</td>\n",
       "      <td>71297200</td>\n",
       "    </tr>\n",
       "    <tr>\n",
       "      <th>2021-02-09</th>\n",
       "      <td>136.619995</td>\n",
       "      <td>137.880005</td>\n",
       "      <td>135.850006</td>\n",
       "      <td>136.009995</td>\n",
       "      <td>134.025665</td>\n",
       "      <td>76774200</td>\n",
       "    </tr>\n",
       "    <tr>\n",
       "      <th>2021-02-10</th>\n",
       "      <td>136.479996</td>\n",
       "      <td>136.990005</td>\n",
       "      <td>134.399994</td>\n",
       "      <td>135.389999</td>\n",
       "      <td>133.414703</td>\n",
       "      <td>73046600</td>\n",
       "    </tr>\n",
       "    <tr>\n",
       "      <th>2021-02-11</th>\n",
       "      <td>135.899994</td>\n",
       "      <td>136.389999</td>\n",
       "      <td>133.770004</td>\n",
       "      <td>135.130005</td>\n",
       "      <td>133.158508</td>\n",
       "      <td>64280000</td>\n",
       "    </tr>\n",
       "    <tr>\n",
       "      <th>...</th>\n",
       "      <td>...</td>\n",
       "      <td>...</td>\n",
       "      <td>...</td>\n",
       "      <td>...</td>\n",
       "      <td>...</td>\n",
       "      <td>...</td>\n",
       "    </tr>\n",
       "    <tr>\n",
       "      <th>2022-12-07</th>\n",
       "      <td>142.190002</td>\n",
       "      <td>143.369995</td>\n",
       "      <td>140.000000</td>\n",
       "      <td>140.940002</td>\n",
       "      <td>140.341248</td>\n",
       "      <td>69721100</td>\n",
       "    </tr>\n",
       "    <tr>\n",
       "      <th>2022-12-08</th>\n",
       "      <td>142.360001</td>\n",
       "      <td>143.520004</td>\n",
       "      <td>141.100006</td>\n",
       "      <td>142.649994</td>\n",
       "      <td>142.043976</td>\n",
       "      <td>62128300</td>\n",
       "    </tr>\n",
       "    <tr>\n",
       "      <th>2022-12-09</th>\n",
       "      <td>142.339996</td>\n",
       "      <td>145.570007</td>\n",
       "      <td>140.899994</td>\n",
       "      <td>142.160004</td>\n",
       "      <td>141.556061</td>\n",
       "      <td>76097000</td>\n",
       "    </tr>\n",
       "    <tr>\n",
       "      <th>2022-12-12</th>\n",
       "      <td>142.699997</td>\n",
       "      <td>144.500000</td>\n",
       "      <td>141.059998</td>\n",
       "      <td>144.490005</td>\n",
       "      <td>143.876160</td>\n",
       "      <td>70462700</td>\n",
       "    </tr>\n",
       "    <tr>\n",
       "      <th>2022-12-13</th>\n",
       "      <td>149.500000</td>\n",
       "      <td>149.970001</td>\n",
       "      <td>144.240005</td>\n",
       "      <td>145.470001</td>\n",
       "      <td>144.852005</td>\n",
       "      <td>93886200</td>\n",
       "    </tr>\n",
       "  </tbody>\n",
       "</table>\n",
       "<p>468 rows × 6 columns</p>\n",
       "</div>"
      ],
      "text/plain": [
       "                  Open        High         Low       Close   Adj Close  \\\n",
       "Date                                                                     \n",
       "2021-02-05  137.350006  137.419998  135.860001  136.759995  134.764725   \n",
       "2021-02-08  136.029999  136.960007  134.919998  136.910004  134.912552   \n",
       "2021-02-09  136.619995  137.880005  135.850006  136.009995  134.025665   \n",
       "2021-02-10  136.479996  136.990005  134.399994  135.389999  133.414703   \n",
       "2021-02-11  135.899994  136.389999  133.770004  135.130005  133.158508   \n",
       "...                ...         ...         ...         ...         ...   \n",
       "2022-12-07  142.190002  143.369995  140.000000  140.940002  140.341248   \n",
       "2022-12-08  142.360001  143.520004  141.100006  142.649994  142.043976   \n",
       "2022-12-09  142.339996  145.570007  140.899994  142.160004  141.556061   \n",
       "2022-12-12  142.699997  144.500000  141.059998  144.490005  143.876160   \n",
       "2022-12-13  149.500000  149.970001  144.240005  145.470001  144.852005   \n",
       "\n",
       "              Volume  \n",
       "Date                  \n",
       "2021-02-05  75693800  \n",
       "2021-02-08  71297200  \n",
       "2021-02-09  76774200  \n",
       "2021-02-10  73046600  \n",
       "2021-02-11  64280000  \n",
       "...              ...  \n",
       "2022-12-07  69721100  \n",
       "2022-12-08  62128300  \n",
       "2022-12-09  76097000  \n",
       "2022-12-12  70462700  \n",
       "2022-12-13  93886200  \n",
       "\n",
       "[468 rows x 6 columns]"
      ]
     },
     "execution_count": 188,
     "metadata": {},
     "output_type": "execute_result"
    }
   ],
   "source": [
    "AAPL_stock_df\n"
   ]
  },
  {
   "cell_type": "code",
   "execution_count": 8,
   "metadata": {},
   "outputs": [
    {
     "data": {
      "text/html": [
       "<div>\n",
       "<style scoped>\n",
       "    .dataframe tbody tr th:only-of-type {\n",
       "        vertical-align: middle;\n",
       "    }\n",
       "\n",
       "    .dataframe tbody tr th {\n",
       "        vertical-align: top;\n",
       "    }\n",
       "\n",
       "    .dataframe thead th {\n",
       "        text-align: right;\n",
       "    }\n",
       "</style>\n",
       "<table border=\"1\" class=\"dataframe\">\n",
       "  <thead>\n",
       "    <tr style=\"text-align: right;\">\n",
       "      <th></th>\n",
       "      <th>Sentiment</th>\n",
       "      <th>Text</th>\n",
       "    </tr>\n",
       "  </thead>\n",
       "  <tbody>\n",
       "    <tr>\n",
       "      <th>0</th>\n",
       "      <td>neutral</td>\n",
       "      <td>According to Gran , the company has no plans t...</td>\n",
       "    </tr>\n",
       "    <tr>\n",
       "      <th>1</th>\n",
       "      <td>neutral</td>\n",
       "      <td>Technopolis plans to develop in stages an area...</td>\n",
       "    </tr>\n",
       "    <tr>\n",
       "      <th>2</th>\n",
       "      <td>negative</td>\n",
       "      <td>The international electronic industry company ...</td>\n",
       "    </tr>\n",
       "    <tr>\n",
       "      <th>3</th>\n",
       "      <td>positive</td>\n",
       "      <td>With the new production plant the company woul...</td>\n",
       "    </tr>\n",
       "    <tr>\n",
       "      <th>4</th>\n",
       "      <td>positive</td>\n",
       "      <td>According to the company 's updated strategy f...</td>\n",
       "    </tr>\n",
       "    <tr>\n",
       "      <th>...</th>\n",
       "      <td>...</td>\n",
       "      <td>...</td>\n",
       "    </tr>\n",
       "    <tr>\n",
       "      <th>4841</th>\n",
       "      <td>negative</td>\n",
       "      <td>LONDON MarketWatch -- Share prices ended lower...</td>\n",
       "    </tr>\n",
       "    <tr>\n",
       "      <th>4842</th>\n",
       "      <td>neutral</td>\n",
       "      <td>Rinkuskiai 's beer sales fell by 6.5 per cent ...</td>\n",
       "    </tr>\n",
       "    <tr>\n",
       "      <th>4843</th>\n",
       "      <td>negative</td>\n",
       "      <td>Operating profit fell to EUR 35.4 mn from EUR ...</td>\n",
       "    </tr>\n",
       "    <tr>\n",
       "      <th>4844</th>\n",
       "      <td>negative</td>\n",
       "      <td>Net sales of the Paper segment decreased to EU...</td>\n",
       "    </tr>\n",
       "    <tr>\n",
       "      <th>4845</th>\n",
       "      <td>negative</td>\n",
       "      <td>Sales in Finland decreased by 10.5 % in Januar...</td>\n",
       "    </tr>\n",
       "  </tbody>\n",
       "</table>\n",
       "<p>4846 rows × 2 columns</p>\n",
       "</div>"
      ],
      "text/plain": [
       "     Sentiment                                               Text\n",
       "0      neutral  According to Gran , the company has no plans t...\n",
       "1      neutral  Technopolis plans to develop in stages an area...\n",
       "2     negative  The international electronic industry company ...\n",
       "3     positive  With the new production plant the company woul...\n",
       "4     positive  According to the company 's updated strategy f...\n",
       "...        ...                                                ...\n",
       "4841  negative  LONDON MarketWatch -- Share prices ended lower...\n",
       "4842   neutral  Rinkuskiai 's beer sales fell by 6.5 per cent ...\n",
       "4843  negative  Operating profit fell to EUR 35.4 mn from EUR ...\n",
       "4844  negative  Net sales of the Paper segment decreased to EU...\n",
       "4845  negative  Sales in Finland decreased by 10.5 % in Januar...\n",
       "\n",
       "[4846 rows x 2 columns]"
      ]
     },
     "execution_count": 8,
     "metadata": {},
     "output_type": "execute_result"
    }
   ],
   "source": [
    "data"
   ]
  },
  {
   "cell_type": "code",
   "execution_count": null,
   "metadata": {},
   "outputs": [],
   "source": []
  }
 ],
 "metadata": {
  "kernelspec": {
   "display_name": "myenv",
   "language": "python",
   "name": "python3"
  },
  "language_info": {
   "codemirror_mode": {
    "name": "ipython",
    "version": 3
   },
   "file_extension": ".py",
   "mimetype": "text/x-python",
   "name": "python",
   "nbconvert_exporter": "python",
   "pygments_lexer": "ipython3",
   "version": "3.9.18"
  }
 },
 "nbformat": 4,
 "nbformat_minor": 2
}
