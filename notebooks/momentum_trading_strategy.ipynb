{
 "cells": [
  {
   "cell_type": "code",
   "execution_count": 1,
   "metadata": {},
   "outputs": [],
   "source": [
    "import pandas\n",
    "import numpy as np\n",
    "import yfinance as yf"
   ]
  },
  {
   "cell_type": "markdown",
   "metadata": {},
   "source": [
    "## MACD (Moving Average Convergence/Divergence) oscillators"
   ]
  },
  {
   "cell_type": "code",
   "execution_count": 47,
   "metadata": {},
   "outputs": [
    {
     "data": {
      "text/html": [
       "<div>\n",
       "<style scoped>\n",
       "    .dataframe tbody tr th:only-of-type {\n",
       "        vertical-align: middle;\n",
       "    }\n",
       "\n",
       "    .dataframe tbody tr th {\n",
       "        vertical-align: top;\n",
       "    }\n",
       "\n",
       "    .dataframe thead th {\n",
       "        text-align: right;\n",
       "    }\n",
       "</style>\n",
       "<table border=\"1\" class=\"dataframe\">\n",
       "  <thead>\n",
       "    <tr style=\"text-align: right;\">\n",
       "      <th></th>\n",
       "      <th>Open</th>\n",
       "      <th>High</th>\n",
       "      <th>Low</th>\n",
       "      <th>Close</th>\n",
       "      <th>Volume</th>\n",
       "      <th>Dividends</th>\n",
       "      <th>Stock Splits</th>\n",
       "    </tr>\n",
       "    <tr>\n",
       "      <th>Date</th>\n",
       "      <th></th>\n",
       "      <th></th>\n",
       "      <th></th>\n",
       "      <th></th>\n",
       "      <th></th>\n",
       "      <th></th>\n",
       "      <th></th>\n",
       "    </tr>\n",
       "  </thead>\n",
       "  <tbody>\n",
       "    <tr>\n",
       "      <th>2021-01-04 00:00:00-05:00</th>\n",
       "      <td>247.795354</td>\n",
       "      <td>248.333624</td>\n",
       "      <td>241.447342</td>\n",
       "      <td>245.939209</td>\n",
       "      <td>3572000</td>\n",
       "      <td>0.0</td>\n",
       "      <td>0.0</td>\n",
       "    </tr>\n",
       "    <tr>\n",
       "      <th>2021-01-05 00:00:00-05:00</th>\n",
       "      <td>244.899758</td>\n",
       "      <td>253.827810</td>\n",
       "      <td>243.683986</td>\n",
       "      <td>251.442657</td>\n",
       "      <td>4207100</td>\n",
       "      <td>0.0</td>\n",
       "      <td>0.0</td>\n",
       "    </tr>\n",
       "    <tr>\n",
       "      <th>2021-01-06 00:00:00-05:00</th>\n",
       "      <td>256.417146</td>\n",
       "      <td>267.637539</td>\n",
       "      <td>253.456593</td>\n",
       "      <td>265.011078</td>\n",
       "      <td>6383500</td>\n",
       "      <td>0.0</td>\n",
       "      <td>0.0</td>\n",
       "    </tr>\n",
       "    <tr>\n",
       "      <th>2021-01-07 00:00:00-05:00</th>\n",
       "      <td>267.071407</td>\n",
       "      <td>274.607379</td>\n",
       "      <td>266.059811</td>\n",
       "      <td>270.672333</td>\n",
       "      <td>4009700</td>\n",
       "      <td>0.0</td>\n",
       "      <td>0.0</td>\n",
       "    </tr>\n",
       "    <tr>\n",
       "      <th>2021-01-08 00:00:00-05:00</th>\n",
       "      <td>270.997183</td>\n",
       "      <td>271.257042</td>\n",
       "      <td>264.556357</td>\n",
       "      <td>269.215271</td>\n",
       "      <td>2800800</td>\n",
       "      <td>0.0</td>\n",
       "      <td>0.0</td>\n",
       "    </tr>\n",
       "  </tbody>\n",
       "</table>\n",
       "</div>"
      ],
      "text/plain": [
       "                                 Open        High         Low       Close  \\\n",
       "Date                                                                        \n",
       "2021-01-04 00:00:00-05:00  247.795354  248.333624  241.447342  245.939209   \n",
       "2021-01-05 00:00:00-05:00  244.899758  253.827810  243.683986  251.442657   \n",
       "2021-01-06 00:00:00-05:00  256.417146  267.637539  253.456593  265.011078   \n",
       "2021-01-07 00:00:00-05:00  267.071407  274.607379  266.059811  270.672333   \n",
       "2021-01-08 00:00:00-05:00  270.997183  271.257042  264.556357  269.215271   \n",
       "\n",
       "                            Volume  Dividends  Stock Splits  \n",
       "Date                                                         \n",
       "2021-01-04 00:00:00-05:00  3572000        0.0           0.0  \n",
       "2021-01-05 00:00:00-05:00  4207100        0.0           0.0  \n",
       "2021-01-06 00:00:00-05:00  6383500        0.0           0.0  \n",
       "2021-01-07 00:00:00-05:00  4009700        0.0           0.0  \n",
       "2021-01-08 00:00:00-05:00  2800800        0.0           0.0  "
      ]
     },
     "execution_count": 47,
     "metadata": {},
     "output_type": "execute_result"
    }
   ],
   "source": [
    "# Define the ticker symbol\n",
    "tickerSymbol = 'GS'\n",
    "\n",
    "# Get data on this ticker\n",
    "tickerData = yf.Ticker(tickerSymbol)\n",
    "\n",
    "# Get the historical prices for this ticker\n",
    "df = tickerData.history(period='1d', start='2021-1-1', end='2023-1-1')\n",
    "\n",
    "df.head()"
   ]
  },
  {
   "cell_type": "code",
   "execution_count": 48,
   "metadata": {},
   "outputs": [
    {
     "name": "stdout",
     "output_type": "stream",
     "text": [
      "332.831298828125\n",
      "245.939208984375\n"
     ]
    }
   ],
   "source": [
    "print(df['Close'][-1])\n",
    "print(df['Close'][0])"
   ]
  },
  {
   "cell_type": "code",
   "execution_count": 49,
   "metadata": {},
   "outputs": [
    {
     "name": "stdout",
     "output_type": "stream",
     "text": [
      "35.330718596102514\n"
     ]
    }
   ],
   "source": [
    "#Print cumulative last day - first day\n",
    "print(100*(df['Close'][-1] - df['Close'][0])/df['Close'][0])"
   ]
  },
  {
   "cell_type": "code",
   "execution_count": 50,
   "metadata": {},
   "outputs": [],
   "source": [
    "# Calculate Short Term Exponential Moving Average\n",
    "ShortEMA = df.Close.ewm(span=12, adjust=False).mean() \n",
    "# Calculate Long Term Exponential Moving Average\n",
    "LongEMA = df.Close.ewm(span=26, adjust=False).mean() \n",
    "# Calculate MACD line\n",
    "MACD = ShortEMA - LongEMA\n",
    "# Calculate Signal line\n",
    "signal = MACD.ewm(span=9, adjust=False).mean()"
   ]
  },
  {
   "cell_type": "code",
   "execution_count": 51,
   "metadata": {},
   "outputs": [],
   "source": [
    "df['MACD'] = MACD\n",
    "df['Signal Line'] = signal"
   ]
  },
  {
   "cell_type": "code",
   "execution_count": 52,
   "metadata": {},
   "outputs": [],
   "source": [
    "def buy_sell(signal):\n",
    "    Buy = []\n",
    "    Sell = []\n",
    "    flag = 0\n",
    "\n",
    "    for i in range(0, len(signal)):\n",
    "        if signal['MACD'][i] > signal['Signal Line'][i]:\n",
    "            Sell.append(np.nan)\n",
    "            if flag != 1:\n",
    "                Buy.append(signal['Close'][i])\n",
    "                flag = 1\n",
    "            else:\n",
    "                Buy.append(np.nan)\n",
    "        elif signal['MACD'][i] < signal['Signal Line'][i]:\n",
    "            Buy.append(np.nan)\n",
    "            if flag != 0:\n",
    "                Sell.append(signal['Close'][i])\n",
    "                flag = 0\n",
    "            else:\n",
    "                Sell.append(np.nan)\n",
    "        else:\n",
    "            Buy.append(np.nan)\n",
    "            Sell.append(np.nan)\n",
    "\n",
    "    return (Buy, Sell)"
   ]
  },
  {
   "cell_type": "code",
   "execution_count": 53,
   "metadata": {},
   "outputs": [],
   "source": [
    "a = buy_sell(df)\n",
    "buy_signal = a[0]\n",
    "sell_signal = a[1]\n",
    "buy_signal = [x for x in buy_signal if x is not np.nan]\n",
    "sell_signal = [x for x in sell_signal if x is not np.nan]"
   ]
  },
  {
   "cell_type": "code",
   "execution_count": 54,
   "metadata": {},
   "outputs": [
    {
     "name": "stdout",
     "output_type": "stream",
     "text": [
      "[251.44265747070312, 278.56097412109375, 318.93634033203125, 316.1784973144531, 357.5296630859375, 354.8092041015625, 355.7160339355469, 349.6861267089844, 385.5475158691406, 369.0085754394531, 377.84979248046875, 366.4512939453125, 342.861083984375, 312.6794128417969, 313.3633728027344, 297.3000183105469, 287.4701843261719, 287.9289245605469, 293.386474609375, 295.69757080078125]\n",
      "[268.574951171875, 320.6973571777344, 308.2589111328125, 333.90911865234375, 349.5832824707031, 343.72174072265625, 341.0386047363281, 367.9346923828125, 386.3875732421875, 382.4139099121094, 350.93536376953125, 359.746337890625, 326.7879638671875, 311.7769775390625, 297.4425048828125, 290.7579345703125, 269.1293029785156, 327.2675476074219, 283.3138427734375, 374.4584655761719]\n"
     ]
    }
   ],
   "source": [
    "print(buy_signal)\n",
    "print(sell_signal)"
   ]
  },
  {
   "cell_type": "code",
   "execution_count": 55,
   "metadata": {},
   "outputs": [
    {
     "name": "stdout",
     "output_type": "stream",
     "text": [
      "106.81359872406217\n",
      "122.97070301943579\n",
      "118.85385959638383\n",
      "125.51893263882558\n",
      "122.72917470781348\n",
      "118.89400015662918\n",
      "113.98823796704225\n",
      "119.93677777947993\n",
      "120.19810425760807\n",
      "124.56465803927438\n",
      "115.69185547217053\n",
      "113.5750426251625\n",
      "108.25071336266703\n",
      "107.93828708427282\n",
      "102.45433024272735\n",
      "100.19982379564931\n",
      "93.8069761909499\n",
      "106.62346304156833\n",
      "102.96283454899607\n",
      "130.38762859017868\n",
      "[6.8135987240621745, 16.157104295373614, -4.116843423051961, 6.6650730424417475, -2.7897579310120904, -3.835174551184309, -4.905762189586923, 5.948539812437673, 0.26132647812814014, 4.366553781666312, -8.872802567103847, -2.1168128470080347, -5.324329262495468, -0.3124262783942129, -5.483956841545464, -2.254506447078043, -6.392847604699412, 12.816486850618432, -3.6606284925722576, 27.424794041182608]\n"
     ]
    }
   ],
   "source": [
    "# Assume we buy and sell at the close of the day\n",
    "stock_Return = []\n",
    "price_portfolio = []\n",
    "cash = 100 \n",
    "for i in range(0, len(sell_signal)):\n",
    "    shares_to_buy = cash / buy_signal[i]\n",
    "    new_cash = shares_to_buy * sell_signal[i]\n",
    "    stock_Return.append(new_cash - cash)\n",
    "    cash = new_cash\n",
    "    print(cash)\n",
    "    \n",
    "print(stock_Return)"
   ]
  },
  {
   "cell_type": "code",
   "execution_count": 56,
   "metadata": {},
   "outputs": [
    {
     "name": "stdout",
     "output_type": "stream",
     "text": [
      "Cumulative Return :  30.38762859017868\n",
      "Volatility :  8.778430762178115\n"
     ]
    }
   ],
   "source": [
    "print(\"Cumulative Return : \", np.sum(stock_Return))\n",
    "print(\"Volatility : \", np.std(stock_Return))"
   ]
  },
  {
   "cell_type": "markdown",
   "metadata": {},
   "source": [
    "## RSI (Relative Strength Index)  "
   ]
  },
  {
   "cell_type": "code",
   "execution_count": 57,
   "metadata": {},
   "outputs": [],
   "source": [
    "def calculate_RSI(data, time_window):\n",
    "    diff = data.diff(1).dropna()        # diff in one field(one day)\n",
    "\n",
    "    #this preservers dimensions off diff values\n",
    "    up_chg = 0 * diff\n",
    "    down_chg = 0 * diff\n",
    "    \n",
    "    # up change is equal to the positive difference, otherwise equal to zero\n",
    "    up_chg[diff > 0] = diff[ diff>0 ]\n",
    "    \n",
    "    # down change is equal to negative deifference, otherwise equal to zero\n",
    "    down_chg[diff < 0] = diff[ diff < 0 ]\n",
    "\n",
    "    # we set com=time_window-1 so we get decay alpha=1/time_window\n",
    "    up_chg_avg   = up_chg.ewm(com=time_window-1 , min_periods=time_window).mean()\n",
    "    down_chg_avg = down_chg.ewm(com=time_window-1 , min_periods=time_window).mean()\n",
    "    \n",
    "    rs = abs(up_chg_avg/down_chg_avg)\n",
    "    rsi = 100 - 100/(1+rs)\n",
    "    return rsi\n",
    "\n",
    "df['RSI'] = calculate_RSI(df['Close'], 14)"
   ]
  },
  {
   "cell_type": "code",
   "execution_count": 58,
   "metadata": {},
   "outputs": [],
   "source": [
    "def buy_sell_RSI(signal, upper=70, lower=30):\n",
    "    Buy = []\n",
    "    Sell = []\n",
    "    flag = 0  # 0: No position, 1: Long position\n",
    "\n",
    "    for i in range(0, len(signal)):\n",
    "        if signal['RSI'][i] > upper and flag != 0:\n",
    "            Sell.append(signal['Close'][i])\n",
    "            flag = 0  # Change flag to indicate no position\n",
    "        elif signal['RSI'][i] < lower and flag != 1:\n",
    "            Buy.append(signal['Close'][i])\n",
    "            flag = 1  # Change flag to indicate long position\n",
    "\n",
    "    return (Buy, Sell)"
   ]
  },
  {
   "cell_type": "code",
   "execution_count": 59,
   "metadata": {},
   "outputs": [],
   "source": [
    "a = buy_sell_RSI(df)\n",
    "buy_signal = a[0]\n",
    "sell_signal = a[1]\n",
    "buy_signal = [x for x in buy_signal if x is not np.nan]\n",
    "sell_signal = [x for x in sell_signal if x is not np.nan]"
   ]
  },
  {
   "cell_type": "code",
   "execution_count": 60,
   "metadata": {},
   "outputs": [
    {
     "name": "stdout",
     "output_type": "stream",
     "text": [
      "101.37740785390719\n",
      "117.02532370500572\n",
      "[1.3774078539071866, 15.647915851098531]\n"
     ]
    }
   ],
   "source": [
    "# Assume we buy and sell at the close of the day\n",
    "stock_Return = []\n",
    "cash = 100 \n",
    "for i in range(0, len(sell_signal)):\n",
    "    shares_to_buy = cash / buy_signal[i]\n",
    "    new_cash = shares_to_buy * sell_signal[i]\n",
    "    stock_Return.append(new_cash - cash)\n",
    "    cash = new_cash\n",
    "    print(cash)\n",
    "    \n",
    "print(stock_Return)"
   ]
  },
  {
   "cell_type": "code",
   "execution_count": 61,
   "metadata": {},
   "outputs": [
    {
     "name": "stdout",
     "output_type": "stream",
     "text": [
      "Cumulative Return :  17.025323705005718\n",
      "Volatility :  7.135253998595672\n"
     ]
    }
   ],
   "source": [
    "print(\"Cumulative Return : \", np.sum(stock_Return))\n",
    "print(\"Volatility : \", np.std(stock_Return))"
   ]
  }
 ],
 "metadata": {
  "kernelspec": {
   "display_name": "ada",
   "language": "python",
   "name": "python3"
  },
  "language_info": {
   "codemirror_mode": {
    "name": "ipython",
    "version": 3
   },
   "file_extension": ".py",
   "mimetype": "text/x-python",
   "name": "python",
   "nbconvert_exporter": "python",
   "pygments_lexer": "ipython3",
   "version": "3.9.16"
  },
  "orig_nbformat": 4
 },
 "nbformat": 4,
 "nbformat_minor": 2
}
