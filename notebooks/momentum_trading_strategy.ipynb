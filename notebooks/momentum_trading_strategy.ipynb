{
 "cells": [
  {
   "cell_type": "code",
   "execution_count": null,
   "metadata": {},
   "outputs": [],
   "source": [
    "import pandas\n",
    "import numpy as np\n",
    "import yfinance as yf"
   ]
  },
  {
   "cell_type": "markdown",
   "metadata": {},
   "source": [
    "## MACD (Moving Average Convergence/Divergence) oscillators"
   ]
  },
  {
   "cell_type": "code",
   "execution_count": null,
   "metadata": {},
   "outputs": [],
   "source": [
    "# Define the ticker symbol\n",
    "tickerSymbol = 'AAPL'\n",
    "\n",
    "# Get data on this ticker\n",
    "tickerData = yf.Ticker(tickerSymbol)\n",
    "\n",
    "# Get the historical prices for this ticker\n",
    "df = tickerData.history(period='1d', start='2021-1-1', end='2023-1-1')\n",
    "\n",
    "df.head()"
   ]
  },
  {
   "cell_type": "code",
   "execution_count": null,
   "metadata": {},
   "outputs": [],
   "source": [
    "# Calculate Short Term Exponential Moving Average\n",
    "ShortEMA = df.Close.ewm(span=12, adjust=False).mean() \n",
    "# Calculate Long Term Exponential Moving Average\n",
    "LongEMA = df.Close.ewm(span=26, adjust=False).mean() \n",
    "# Calculate MACD line\n",
    "MACD = ShortEMA - LongEMA\n",
    "# Calculate Signal line\n",
    "signal = MACD.ewm(span=9, adjust=False).mean()"
   ]
  },
  {
   "cell_type": "code",
   "execution_count": null,
   "metadata": {},
   "outputs": [],
   "source": [
    "df['MACD'] = MACD\n",
    "df['Signal Line'] = signal"
   ]
  },
  {
   "cell_type": "code",
   "execution_count": null,
   "metadata": {},
   "outputs": [],
   "source": [
    "def buy_sell(signal):\n",
    "    Buy = []\n",
    "    Sell = []\n",
    "    flag = -1\n",
    "\n",
    "    for i in range(0, len(signal)):\n",
    "        if signal['MACD'][i] > signal['Signal Line'][i]:\n",
    "            Sell.append(np.nan)\n",
    "            if flag != 1:\n",
    "                Buy.append(signal['Close'][i])\n",
    "                flag = 1\n",
    "            else:\n",
    "                Buy.append(np.nan)\n",
    "        elif signal['MACD'][i] < signal['Signal Line'][i]:\n",
    "            Buy.append(np.nan)\n",
    "            if flag != 0:\n",
    "                Sell.append(signal['Close'][i])\n",
    "                flag = 0\n",
    "            else:\n",
    "                Sell.append(np.nan)\n",
    "        else:\n",
    "            Buy.append(np.nan)\n",
    "            Sell.append(np.nan)\n",
    "\n",
    "    return (Buy, Sell)"
   ]
  },
  {
   "cell_type": "code",
   "execution_count": null,
   "metadata": {},
   "outputs": [],
   "source": [
    "a = buy_sell(df)\n",
    "buy_signal = a[0]\n",
    "sell_signal = a[1]\n",
    "buy_signal = [x for x in buy_signal if x is not np.nan]\n",
    "sell_signal = [x for x in sell_signal if x is not np.nan]"
   ]
  },
  {
   "cell_type": "code",
   "execution_count": null,
   "metadata": {},
   "outputs": [],
   "source": [
    "print(buy_signal)\n",
    "print(sell_signal)"
   ]
  },
  {
   "cell_type": "code",
   "execution_count": null,
   "metadata": {},
   "outputs": [],
   "source": [
    "# Assume we buy and sell at the close of the day\n",
    "stock_Return = []\n",
    "for i in range(0, len(buy_signal)):\n",
    "    stock_Return.append(sell_signal[i] - buy_signal[i])\n",
    "    \n",
    "print(stock_Return)"
   ]
  },
  {
   "cell_type": "code",
   "execution_count": null,
   "metadata": {},
   "outputs": [],
   "source": [
    "print(\"Cumulative Return : \", np.sum(stock_Return))"
   ]
  },
  {
   "cell_type": "markdown",
   "metadata": {},
   "source": [
    "## RSI (Relative Strength Index)  "
   ]
  },
  {
   "cell_type": "code",
   "execution_count": null,
   "metadata": {},
   "outputs": [],
   "source": [
    "def calculate_RSI(data, time_window):\n",
    "    diff = data.diff(1).dropna()        # diff in one field(one day)\n",
    "\n",
    "    #this preservers dimensions off diff values\n",
    "    up_chg = 0 * diff\n",
    "    down_chg = 0 * diff\n",
    "    \n",
    "    # up change is equal to the positive difference, otherwise equal to zero\n",
    "    up_chg[diff > 0] = diff[ diff>0 ]\n",
    "    \n",
    "    # down change is equal to negative deifference, otherwise equal to zero\n",
    "    down_chg[diff < 0] = diff[ diff < 0 ]\n",
    "\n",
    "    # we set com=time_window-1 so we get decay alpha=1/time_window\n",
    "    up_chg_avg   = up_chg.ewm(com=time_window-1 , min_periods=time_window).mean()\n",
    "    down_chg_avg = down_chg.ewm(com=time_window-1 , min_periods=time_window).mean()\n",
    "    \n",
    "    rs = abs(up_chg_avg/down_chg_avg)\n",
    "    rsi = 100 - 100/(1+rs)\n",
    "    return rsi\n",
    "\n",
    "df['RSI'] = calculate_RSI(df['Close'], 14)"
   ]
  },
  {
   "cell_type": "code",
   "execution_count": null,
   "metadata": {},
   "outputs": [],
   "source": [
    "def buy_sell_RSI(signal, upper=70, lower=30):\n",
    "    Buy = []\n",
    "    Sell = []\n",
    "\n",
    "    for i in range(0, len(signal)):\n",
    "        if signal['RSI'][i] > upper:\n",
    "            Sell.append(signal['Close'][i])\n",
    "            Buy.append(np.nan)\n",
    "        elif signal['RSI'][i] < lower:\n",
    "            Buy.append(signal['Close'][i])\n",
    "            Sell.append(np.nan)\n",
    "        else:\n",
    "            Buy.append(np.nan)\n",
    "            Sell.append(np.nan)\n",
    "\n",
    "    return (Buy, Sell)"
   ]
  },
  {
   "cell_type": "code",
   "execution_count": null,
   "metadata": {},
   "outputs": [],
   "source": [
    "a = buy_sell_RSI(df)\n",
    "buy_signal = a[0]\n",
    "sell_signal = a[1]\n",
    "buy_signal = [x for x in buy_signal if x is not np.nan]\n",
    "sell_signal = [x for x in sell_signal if x is not np.nan]"
   ]
  },
  {
   "cell_type": "code",
   "execution_count": null,
   "metadata": {},
   "outputs": [],
   "source": [
    "# Assume we buy and sell at the close of the day\n",
    "stock_Return = []\n",
    "for i in range(0, len(buy_signal)):\n",
    "    stock_Return.append(sell_signal[i] - buy_signal[i])\n",
    "    \n",
    "print(stock_Return)"
   ]
  },
  {
   "cell_type": "code",
   "execution_count": null,
   "metadata": {},
   "outputs": [],
   "source": [
    "print(\"Cumulative Return : \", np.sum(stock_Return))"
   ]
  }
 ],
 "metadata": {
  "kernelspec": {
   "display_name": "ada",
   "language": "python",
   "name": "python3"
  },
  "language_info": {
   "codemirror_mode": {
    "name": "ipython",
    "version": 3
   },
   "file_extension": ".py",
   "mimetype": "text/x-python",
   "name": "python",
   "nbconvert_exporter": "python",
   "pygments_lexer": "ipython3",
   "version": "3.9.16"
  },
  "orig_nbformat": 4
 },
 "nbformat": 4,
 "nbformat_minor": 2
}
