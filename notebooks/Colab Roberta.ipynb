{
  "cells": [
    {
      "cell_type": "code",
      "execution_count": null,
      "metadata": {
        "id": "SPEketAw_zO-"
      },
      "outputs": [],
      "source": [
        "from transformers import AutoTokenizer, AutoModelForSequenceClassification\n",
        "import pandas as pd\n",
        "\n",
        "tokenizer = AutoTokenizer.from_pretrained(\"mrm8488/distilroberta-finetuned-financial-news-sentiment-analysis\")\n",
        "model = AutoModelForSequenceClassification.from_pretrained(\"mrm8488/distilroberta-finetuned-financial-news-sentiment-analysis\")"
      ]
    },
    {
      "cell_type": "code",
      "execution_count": null,
      "metadata": {
        "id": "C1l3v6DoBpUi"
      },
      "outputs": [],
      "source": [
        "df = pd.read_csv('news_cleaned.csv', sep = \";\")\n",
        "df = df.drop(columns=['Unnamed: 0'])"
      ]
    },
    {
      "cell_type": "code",
      "execution_count": null,
      "metadata": {
        "id": "NxKOBBmMBtfu"
      },
      "outputs": [],
      "source": [
        "msft_df = df[df['company'] == \"Microsoft_Corporation\"]"
      ]
    },
    {
      "cell_type": "code",
      "execution_count": null,
      "metadata": {
        "colab": {
          "base_uri": "https://localhost:8080/"
        },
        "id": "F98_4Z36Efbh",
        "outputId": "527f5de4-5397-439c-81b5-c5c4f4051e56"
      },
      "outputs": [],
      "source": [
        "def split_into_sentences(s):\n",
        "    # Remove the leading and trailing square brackets and single quotes\n",
        "    s = s[2:-2]\n",
        "\n",
        "    # Split the string into a list of sentences\n",
        "    sentences = s.split(\"', '\")\n",
        "\n",
        "    return sentences\n",
        "\n",
        "# Apply the function to the 'sentences' column\n",
        "msft_df['sentences'] = msft_df['sentences'].apply(split_into_sentences)"
      ]
    },
    {
      "cell_type": "code",
      "execution_count": null,
      "metadata": {
        "id": "9BaJcilYEx4U"
      },
      "outputs": [],
      "source": [
        "import torch"
      ]
    },
    {
      "cell_type": "code",
      "execution_count": null,
      "metadata": {
        "id": "BHJeg-qAFKJD"
      },
      "outputs": [],
      "source": [
        "DRob_mapping = {0: 1, 1: 2, 2: 0} #Equal mapping of FinBert"
      ]
    },
    {
      "cell_type": "code",
      "execution_count": null,
      "metadata": {
        "colab": {
          "base_uri": "https://localhost:8080/"
        },
        "id": "9sJ8Mb37EklD",
        "outputId": "5e770690-5644-42ac-fc26-b9e0cdf90425"
      },
      "outputs": [],
      "source": [
        "def classify_sentences(sentences):\n",
        "    # Initialize the lists of headlines and scores\n",
        "    predictions = []\n",
        "    positives = []\n",
        "    negatives = []\n",
        "    neutrals = []\n",
        "\n",
        "    # Process each sentence\n",
        "    for sentence in sentences:\n",
        "        # Tokenize the sentence\n",
        "        inputs = tokenizer(sentence, return_tensors=\"pt\", truncation=True, padding=True)\n",
        "\n",
        "        # Get the model's prediction\n",
        "        outputs = model(**inputs)\n",
        "\n",
        "        # Get the predicted scores\n",
        "        scores = torch.nn.functional.softmax(outputs.logits, dim=-1)\n",
        "        prediction = outputs.logits.argmax(dim=-1).item()\n",
        "\n",
        "        prediction = DRob_mapping.get(prediction)\n",
        "\n",
        "        # Add the sentence and scores to the lists\n",
        "        predictions.append(prediction)\n",
        "        positives.append(scores[:, 2].item())\n",
        "        negatives.append(scores[:, 0].item())\n",
        "        neutrals.append(scores[:, 1].item())\n",
        "\n",
        "    return predictions, positives, negatives, neutrals\n",
        "\n",
        "# Apply the function to the 'sentences' column and concatenate the results\n",
        "msft_df[['Predictions', 'Positive', 'Negative', 'Neutral']] = msft_df['sentences'].apply(lambda x: pd.Series(classify_sentences(x)))"
      ]
    },
    {
      "cell_type": "code",
      "execution_count": null,
      "metadata": {
        "id": "hvILw7JtGNZ0"
      },
      "outputs": [],
      "source": [
        "msft_df.to_csv('msft_roberta_output.csv', index=True)"
      ]
    }
  ],
  "metadata": {
    "colab": {
      "provenance": []
    },
    "kernelspec": {
      "display_name": "Python 3",
      "name": "python3"
    },
    "language_info": {
      "name": "python"
    }
  },
  "nbformat": 4,
  "nbformat_minor": 0
}
