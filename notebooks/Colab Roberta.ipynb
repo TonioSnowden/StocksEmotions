{
  "nbformat": 4,
  "nbformat_minor": 0,
  "metadata": {
    "colab": {
      "provenance": []
    },
    "kernelspec": {
      "name": "python3",
      "display_name": "Python 3"
    },
    "language_info": {
      "name": "python"
    }
  },
  "cells": [
    {
      "cell_type": "code",
      "execution_count": null,
      "metadata": {
        "id": "SPEketAw_zO-"
      },
      "outputs": [],
      "source": [
        "from transformers import AutoTokenizer, AutoModelForSequenceClassification\n",
        "import pandas as pd\n",
        "\n",
        "tokenizer = AutoTokenizer.from_pretrained(\"mrm8488/distilroberta-finetuned-financial-news-sentiment-analysis\")\n",
        "model = AutoModelForSequenceClassification.from_pretrained(\"mrm8488/distilroberta-finetuned-financial-news-sentiment-analysis\")"
      ]
    },
    {
      "cell_type": "code",
      "source": [
        "df = pd.read_csv('news_cleaned.csv', sep = \";\")\n",
        "df = df.drop(columns=['Unnamed: 0'])"
      ],
      "metadata": {
        "id": "C1l3v6DoBpUi"
      },
      "execution_count": null,
      "outputs": []
    },
    {
      "cell_type": "code",
      "source": [
        "msft_df = df[df['company'] == \"Microsoft_Corporation\"]"
      ],
      "metadata": {
        "id": "NxKOBBmMBtfu"
      },
      "execution_count": null,
      "outputs": []
    },
    {
      "cell_type": "code",
      "source": [
        "def split_into_sentences(s):\n",
        "    # Remove the leading and trailing square brackets and single quotes\n",
        "    s = s[2:-2]\n",
        "\n",
        "    # Split the string into a list of sentences\n",
        "    sentences = s.split(\"', '\")\n",
        "\n",
        "    return sentences\n",
        "\n",
        "# Apply the function to the 'sentences' column\n",
        "msft_df['sentences'] = msft_df['sentences'].apply(split_into_sentences)"
      ],
      "metadata": {
        "colab": {
          "base_uri": "https://localhost:8080/"
        },
        "id": "F98_4Z36Efbh",
        "outputId": "527f5de4-5397-439c-81b5-c5c4f4051e56"
      },
      "execution_count": null,
      "outputs": [
        {
          "output_type": "stream",
          "name": "stderr",
          "text": [
            "<ipython-input-7-53209cbe1f08>:11: SettingWithCopyWarning: \n",
            "A value is trying to be set on a copy of a slice from a DataFrame.\n",
            "Try using .loc[row_indexer,col_indexer] = value instead\n",
            "\n",
            "See the caveats in the documentation: https://pandas.pydata.org/pandas-docs/stable/user_guide/indexing.html#returning-a-view-versus-a-copy\n",
            "  msft_df['sentences'] = msft_df['sentences'].apply(split_into_sentences)\n"
          ]
        }
      ]
    },
    {
      "cell_type": "code",
      "source": [
        "import torch"
      ],
      "metadata": {
        "id": "9BaJcilYEx4U"
      },
      "execution_count": null,
      "outputs": []
    },
    {
      "cell_type": "code",
      "source": [
        "DRob_mapping = {0: 1, 1: 2, 2: 0} #Equal mapping of FinBert"
      ],
      "metadata": {
        "id": "BHJeg-qAFKJD"
      },
      "execution_count": null,
      "outputs": []
    },
    {
      "cell_type": "code",
      "source": [
        "def classify_sentences(sentences):\n",
        "    # Initialize the lists of headlines and scores\n",
        "    predictions = []\n",
        "    positives = []\n",
        "    negatives = []\n",
        "    neutrals = []\n",
        "\n",
        "    # Process each sentence\n",
        "    for sentence in sentences:\n",
        "        # Tokenize the sentence\n",
        "        inputs = tokenizer(sentence, return_tensors=\"pt\", truncation=True, padding=True)\n",
        "\n",
        "        # Get the model's prediction\n",
        "        outputs = model(**inputs)\n",
        "\n",
        "        # Get the predicted scores\n",
        "        scores = torch.nn.functional.softmax(outputs.logits, dim=-1)\n",
        "        prediction = outputs.logits.argmax(dim=-1).item()\n",
        "\n",
        "        prediction = DRob_mapping.get(prediction)\n",
        "\n",
        "        # Add the sentence and scores to the lists\n",
        "        predictions.append(prediction)\n",
        "        positives.append(scores[:, 2].item())\n",
        "        negatives.append(scores[:, 0].item())\n",
        "        neutrals.append(scores[:, 1].item())\n",
        "\n",
        "    return predictions, positives, negatives, neutrals\n",
        "\n",
        "# Apply the function to the 'sentences' column and concatenate the results\n",
        "msft_df[['Predictions', 'Positive', 'Negative', 'Neutral']] = msft_df['sentences'].apply(lambda x: pd.Series(classify_sentences(x)))"
      ],
      "metadata": {
        "colab": {
          "base_uri": "https://localhost:8080/"
        },
        "id": "9sJ8Mb37EklD",
        "outputId": "5e770690-5644-42ac-fc26-b9e0cdf90425"
      },
      "execution_count": null,
      "outputs": [
        {
          "output_type": "stream",
          "name": "stderr",
          "text": [
            "<ipython-input-19-2aa7a1731ea4>:31: SettingWithCopyWarning: \n",
            "A value is trying to be set on a copy of a slice from a DataFrame.\n",
            "Try using .loc[row_indexer,col_indexer] = value instead\n",
            "\n",
            "See the caveats in the documentation: https://pandas.pydata.org/pandas-docs/stable/user_guide/indexing.html#returning-a-view-versus-a-copy\n",
            "  msft_df[['Predictions', 'Positive', 'Negative', 'Neutral']] = msft_df['sentences'].apply(lambda x: pd.Series(classify_sentences(x)))\n",
            "<ipython-input-19-2aa7a1731ea4>:31: SettingWithCopyWarning: \n",
            "A value is trying to be set on a copy of a slice from a DataFrame.\n",
            "Try using .loc[row_indexer,col_indexer] = value instead\n",
            "\n",
            "See the caveats in the documentation: https://pandas.pydata.org/pandas-docs/stable/user_guide/indexing.html#returning-a-view-versus-a-copy\n",
            "  msft_df[['Predictions', 'Positive', 'Negative', 'Neutral']] = msft_df['sentences'].apply(lambda x: pd.Series(classify_sentences(x)))\n",
            "<ipython-input-19-2aa7a1731ea4>:31: SettingWithCopyWarning: \n",
            "A value is trying to be set on a copy of a slice from a DataFrame.\n",
            "Try using .loc[row_indexer,col_indexer] = value instead\n",
            "\n",
            "See the caveats in the documentation: https://pandas.pydata.org/pandas-docs/stable/user_guide/indexing.html#returning-a-view-versus-a-copy\n",
            "  msft_df[['Predictions', 'Positive', 'Negative', 'Neutral']] = msft_df['sentences'].apply(lambda x: pd.Series(classify_sentences(x)))\n",
            "<ipython-input-19-2aa7a1731ea4>:31: SettingWithCopyWarning: \n",
            "A value is trying to be set on a copy of a slice from a DataFrame.\n",
            "Try using .loc[row_indexer,col_indexer] = value instead\n",
            "\n",
            "See the caveats in the documentation: https://pandas.pydata.org/pandas-docs/stable/user_guide/indexing.html#returning-a-view-versus-a-copy\n",
            "  msft_df[['Predictions', 'Positive', 'Negative', 'Neutral']] = msft_df['sentences'].apply(lambda x: pd.Series(classify_sentences(x)))\n"
          ]
        }
      ]
    },
    {
      "cell_type": "code",
      "source": [
        "msft_df.to_csv('msft_roberta_output.csv', index=True)"
      ],
      "metadata": {
        "id": "hvILw7JtGNZ0"
      },
      "execution_count": null,
      "outputs": []
    }
  ]
}