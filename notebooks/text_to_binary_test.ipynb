{
  "cells": [
    {
      "cell_type": "code",
      "execution_count": null,
      "metadata": {
        "id": "auONPcL5PLHz"
      },
      "outputs": [],
      "source": [
        "import pandas as pd"
      ]
    },
    {
      "cell_type": "markdown",
      "metadata": {
        "id": "IhDEf94kKLOu"
      },
      "source": [
        "# Text-to-Binary model\n",
        "\n",
        "We are going to test the two models :\n",
        "- FinBert\n",
        "- distilRoberta\n",
        "\n",
        "With the dataset on Kaggle that you can find here :\n",
        "- https://www.kaggle.com/datasets/ankurzing/sentiment-analysis-for-financial-news/"
      ]
    },
    {
      "cell_type": "code",
      "execution_count": null,
      "metadata": {
        "id": "3yd5XPsXMoOe"
      },
      "outputs": [],
      "source": [
        "from datasets import load_dataset\n",
        "\n",
        "fin_pb_all = load_dataset('financial_phrasebank', 'sentences_allagree')\n",
        "fin_pb_75 = load_dataset('financial_phrasebank', 'sentences_75agree')\n",
        "fin_pb_66 = load_dataset('financial_phrasebank', 'sentences_66agree')\n",
        "fin_pb_50 = load_dataset('financial_phrasebank', 'sentences_50agree')\n",
        "FSA_kaggle = pd.read_csv('FSA_kaggle.csv',encoding=\"iso-8859-1\",header=None)\n",
        "SEntFIN = pd.read_csv('SEntFiN.csv')"
      ]
    },
    {
      "cell_type": "code",
      "execution_count": null,
      "metadata": {
        "colab": {
          "base_uri": "https://localhost:8080/"
        },
        "id": "7iXE2HWZR2Ly",
        "outputId": "413db926-9308-46c4-aa7c-b3715a8f31cc"
      },
      "outputs": [],
      "source": [
        "fin_pb_all"
      ]
    },
    {
      "cell_type": "code",
      "execution_count": null,
      "metadata": {
        "id": "wvpO4PBNQIQN"
      },
      "outputs": [],
      "source": [
        "fin_pb_all_x, fin_pb_all_y = fin_pb_all['train']['sentence'], fin_pb_all['train']['label']\n",
        "fin_pb_75_x, fin_pb_75_y = fin_pb_75['train']['sentence'], fin_pb_75['train']['label']\n",
        "fin_pb_66_x, fin_pb_66_y = fin_pb_66['train']['sentence'], fin_pb_66['train']['label']\n",
        "fin_pb_50_x, fin_pb_50_y = fin_pb_50['train']['sentence'], fin_pb_50['train']['label']"
      ]
    },
    {
      "cell_type": "code",
      "execution_count": null,
      "metadata": {
        "colab": {
          "base_uri": "https://localhost:8080/"
        },
        "id": "d7MUzDaKfTSi",
        "outputId": "6d6928b1-03b9-416c-ed33-bb850e48481d"
      },
      "outputs": [],
      "source": [
        "fin_pb_all_y[0:5]"
      ]
    },
    {
      "cell_type": "code",
      "execution_count": null,
      "metadata": {
        "id": "DsK9IlZcfTXQ"
      },
      "outputs": [],
      "source": [
        "mapping = {0: 'negative', 1: 'neutral', 2: 'positive'}\n",
        "fin_pb_all_y = [mapping.get(i, i) for i in fin_pb_all_y]\n",
        "fin_pb_75_y = [mapping.get(i, i) for i in fin_pb_75_y]\n",
        "fin_pb_66_y = [mapping.get(i, i) for i in fin_pb_66_y]\n",
        "fin_pb_50_y = [mapping.get(i, i) for i in fin_pb_50_y]"
      ]
    },
    {
      "cell_type": "code",
      "execution_count": null,
      "metadata": {
        "colab": {
          "base_uri": "https://localhost:8080/",
          "height": 206
        },
        "id": "sCOWAzj-R6nj",
        "outputId": "12933432-af24-4ae8-cc85-d868bfe102cb"
      },
      "outputs": [],
      "source": [
        "FSA_kaggle.head()"
      ]
    },
    {
      "cell_type": "code",
      "execution_count": null,
      "metadata": {
        "id": "d2WpM3R9QvNv"
      },
      "outputs": [],
      "source": [
        "FSA_kaggle_x, FSA_kaggle_y = FSA_kaggle.iloc[:, 1], FSA_kaggle.iloc[:, 0]"
      ]
    },
    {
      "cell_type": "code",
      "execution_count": null,
      "metadata": {
        "colab": {
          "base_uri": "https://localhost:8080/",
          "height": 206
        },
        "id": "vk4Hlo99R9Ae",
        "outputId": "11188ad1-f6b6-4115-cc0c-82ee8a8a4f7a"
      },
      "outputs": [],
      "source": [
        "SEntFIN.head()"
      ]
    },
    {
      "cell_type": "code",
      "execution_count": null,
      "metadata": {
        "colab": {
          "base_uri": "https://localhost:8080/"
        },
        "id": "zRlUI56GSj0k",
        "outputId": "77b66ccc-a806-4e27-fa1d-e1422b349581"
      },
      "outputs": [],
      "source": [
        "SEntFIN.dtypes"
      ]
    },
    {
      "cell_type": "code",
      "execution_count": null,
      "metadata": {
        "id": "CgfWDDdERV5r"
      },
      "outputs": [],
      "source": [
        "def str_to_dict(dict_str):\n",
        "    # Remove curly braces and split on commas\n",
        "    pairs = dict_str[1:-1].split(', ')\n",
        "    print(pairs)\n",
        "\n",
        "    # Split each pair on colon to get key-value pairs\n",
        "    pairs = [pair.split(': ') for pair in pairs]\n",
        "\n",
        "    # Remove quotes from keys and values\n",
        "    pairs = [(k[1:-1], v[1:-1]) for k, v in pairs]\n",
        "\n",
        "    # Convert list of pairs to dictionary\n",
        "    return dict(pairs)"
      ]
    },
    {
      "cell_type": "code",
      "execution_count": null,
      "metadata": {
        "id": "KDjGKBSUalxI"
      },
      "outputs": [],
      "source": [
        "SEntFIN['negative_count'] = SEntFIN['Decisions'].str.count('negative')\n",
        "SEntFIN['positive_count'] = SEntFIN['Decisions'].str.count('positive')\n",
        "SEntFIN['neutral_count'] = SEntFIN['Decisions'].str.count('neutral')"
      ]
    },
    {
      "cell_type": "code",
      "execution_count": null,
      "metadata": {
        "id": "OBONrTlMa1l_"
      },
      "outputs": [],
      "source": [
        "SEntFIN['Count'] = SEntFIN['negative_count'] + SEntFIN['positive_count'] + SEntFIN['neutral_count']"
      ]
    },
    {
      "cell_type": "code",
      "execution_count": null,
      "metadata": {
        "id": "YQbf52wya9Nt"
      },
      "outputs": [],
      "source": [
        "SEntFIN = SEntFIN[SEntFIN['Count'] <= 1]"
      ]
    },
    {
      "cell_type": "code",
      "execution_count": null,
      "metadata": {
        "id": "my-VQN_VaHSF"
      },
      "outputs": [],
      "source": [
        "def filter_and_replace(val):\n",
        "    if 'positive' in val:\n",
        "        return 'positive'\n",
        "    elif 'negative' in val:\n",
        "        return 'negative'\n",
        "    elif 'neutral' in val:\n",
        "        return 'neutral'\n",
        "    else:\n",
        "        return None\n",
        "\n",
        "SEntFIN['Decisions'] = SEntFIN['Decisions'].apply(filter_and_replace)\n",
        "\n",
        "# Drop rows with None in 'Decisions' column\n",
        "SEntFIN = SEntFIN.dropna(subset=['Decisions'])"
      ]
    },
    {
      "cell_type": "code",
      "execution_count": null,
      "metadata": {
        "colab": {
          "base_uri": "https://localhost:8080/",
          "height": 424
        },
        "id": "hdGnbtlTbUlc",
        "outputId": "28cdbd91-80b5-4697-dfd1-6335036f60c1"
      },
      "outputs": [],
      "source": [
        "SEntFIN"
      ]
    },
    {
      "cell_type": "code",
      "execution_count": null,
      "metadata": {
        "id": "WHtw6u2TbYpz"
      },
      "outputs": [],
      "source": [
        "SEntFIN = SEntFIN.reset_index()\n",
        "SEntFIN_x, SEntFIN_y = SEntFIN['Title'], SEntFIN['Decisions']"
      ]
    },
    {
      "cell_type": "markdown",
      "metadata": {
        "id": "4TD0rJB2bg0d"
      },
      "source": [
        "# Test"
      ]
    },
    {
      "cell_type": "code",
      "execution_count": null,
      "metadata": {
        "id": "EiFjjV7p-EV2"
      },
      "outputs": [],
      "source": [
        "Fin_bert_mapping = {0: 'positive', 1: 'negative', 2: 'neutral'}\n",
        "DRob_mapping = {0: 'negative', 1: 'neutral', 2: 'positive'}"
      ]
    },
    {
      "cell_type": "code",
      "execution_count": null,
      "metadata": {
        "id": "zJkKPVqWewMc"
      },
      "outputs": [],
      "source": [
        "from transformers import AutoTokenizer, AutoModelForSequenceClassification\n",
        "\n",
        "tokenizer = AutoTokenizer.from_pretrained(\"ProsusAI/finbert\")\n",
        "model = AutoModelForSequenceClassification.from_pretrained(\"ProsusAI/finbert\")"
      ]
    },
    {
      "cell_type": "code",
      "execution_count": null,
      "metadata": {
        "id": "qquEnjnvezJA"
      },
      "outputs": [],
      "source": [
        "def calculate_accuracy(model, X, y, mapping):\n",
        "  accuracy = []\n",
        "  for i, sentence in enumerate(X):\n",
        "    inputs = tokenizer(sentence, return_tensors=\"pt\", truncation=True, padding=True)\n",
        "\n",
        "    # Get the model's prediction\n",
        "    outputs = model(**inputs)\n",
        "    prediction = outputs.logits.argmax(dim=-1).item()\n",
        "\n",
        "    prediction = mapping.get(prediction)\n",
        "\n",
        "    accuracy.append(1 if prediction == y[i] else 0)\n",
        "\n",
        "  return sum(accuracy) / len(accuracy)"
      ]
    },
    {
      "cell_type": "code",
      "execution_count": null,
      "metadata": {
        "colab": {
          "base_uri": "https://localhost:8080/"
        },
        "id": "GkYLjecjgiQw",
        "outputId": "69a54151-39cf-49c2-c7ae-32855ddafd92"
      },
      "outputs": [],
      "source": [
        "datasets = [\"fin_pb_all\", \"fin_pb_75\", \"fin_pb_66\", \"fin_pb_50\", \"FSA_kaggle\", \"SEntFIN\"]\n",
        "accuracies = {}\n",
        "\n",
        "for dataset in datasets:\n",
        "    x = globals()[dataset + '_x']\n",
        "    y = globals()[dataset + '_y']\n",
        "    accuracies[dataset] = calculate_accuracy(model, x, y, Fin_bert_mapping)\n",
        "\n",
        "print(accuracies)"
      ]
    },
    {
      "cell_type": "code",
      "execution_count": null,
      "metadata": {
        "id": "PLJm_rsqPPPT"
      },
      "outputs": [],
      "source": [
        "tokenizer = AutoTokenizer.from_pretrained(\"mrm8488/distilroberta-finetuned-financial-news-sentiment-analysis\")\n",
        "model = AutoModelForSequenceClassification.from_pretrained(\"mrm8488/distilroberta-finetuned-financial-news-sentiment-analysis\")"
      ]
    },
    {
      "cell_type": "code",
      "execution_count": null,
      "metadata": {
        "colab": {
          "base_uri": "https://localhost:8080/"
        },
        "id": "mTczt0DD-OX-",
        "outputId": "3016fabf-73af-48c6-c5de-5f3df4a6e40c"
      },
      "outputs": [],
      "source": [
        "datasets = [\"fin_pb_all\", \"fin_pb_75\", \"fin_pb_66\", \"fin_pb_50\", \"FSA_kaggle\", \"SEntFIN\"]\n",
        "accuracies = {}\n",
        "\n",
        "for dataset in datasets:\n",
        "    x = globals()[dataset + '_x']\n",
        "    y = globals()[dataset + '_y']\n",
        "    accuracies[dataset] = calculate_accuracy(model, x, y, DRob_mapping)\n",
        "\n",
        "print(accuracies)"
      ]
    }
  ],
  "metadata": {
    "colab": {
      "provenance": []
    },
    "kernelspec": {
      "display_name": "Python 3",
      "name": "python3"
    },
    "language_info": {
      "name": "python"
    }
  },
  "nbformat": 4,
  "nbformat_minor": 0
}
